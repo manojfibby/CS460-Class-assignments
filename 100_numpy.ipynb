{
  "nbformat": 4,
  "nbformat_minor": 0,
  "metadata": {
    "colab": {
      "name": "100_numpy.ipynb",
      "provenance": [],
      "collapsed_sections": [],
      "authorship_tag": "ABX9TyNmZc289xpo/kntR4C8SGly",
      "include_colab_link": true
    },
    "kernelspec": {
      "name": "python3",
      "display_name": "Python 3"
    },
    "language_info": {
      "name": "python"
    }
  },
  "cells": [
    {
      "cell_type": "markdown",
      "metadata": {
        "id": "view-in-github",
        "colab_type": "text"
      },
      "source": [
        "<a href=\"https://colab.research.google.com/github/manojfibby/CS460-Class-assignments/blob/main/100_numpy.ipynb\" target=\"_parent\"><img src=\"https://colab.research.google.com/assets/colab-badge.svg\" alt=\"Open In Colab\"/></a>"
      ]
    },
    {
      "cell_type": "code",
      "metadata": {
        "id": "SMtLURDyhK04"
      },
      "source": [
        "#1\n",
        "import numpy as np"
      ],
      "execution_count": null,
      "outputs": []
    },
    {
      "cell_type": "code",
      "metadata": {
        "colab": {
          "base_uri": "https://localhost:8080/"
        },
        "id": "eVZWBA_jhTuJ",
        "outputId": "9f303e72-211b-4a19-e884-7e57012cdeac"
      },
      "source": [
        "#2\n",
        "print(np.__version__)\n",
        "np.show_config()"
      ],
      "execution_count": null,
      "outputs": [
        {
          "output_type": "stream",
          "name": "stdout",
          "text": [
            "1.19.5\n",
            "blas_mkl_info:\n",
            "  NOT AVAILABLE\n",
            "blis_info:\n",
            "  NOT AVAILABLE\n",
            "openblas_info:\n",
            "    libraries = ['openblas', 'openblas']\n",
            "    library_dirs = ['/usr/local/lib']\n",
            "    language = c\n",
            "    define_macros = [('HAVE_CBLAS', None)]\n",
            "blas_opt_info:\n",
            "    libraries = ['openblas', 'openblas']\n",
            "    library_dirs = ['/usr/local/lib']\n",
            "    language = c\n",
            "    define_macros = [('HAVE_CBLAS', None)]\n",
            "lapack_mkl_info:\n",
            "  NOT AVAILABLE\n",
            "openblas_lapack_info:\n",
            "    libraries = ['openblas', 'openblas']\n",
            "    library_dirs = ['/usr/local/lib']\n",
            "    language = c\n",
            "    define_macros = [('HAVE_CBLAS', None)]\n",
            "lapack_opt_info:\n",
            "    libraries = ['openblas', 'openblas']\n",
            "    library_dirs = ['/usr/local/lib']\n",
            "    language = c\n",
            "    define_macros = [('HAVE_CBLAS', None)]\n"
          ]
        }
      ]
    },
    {
      "cell_type": "code",
      "metadata": {
        "id": "UIy3yKU9hT-N"
      },
      "source": [
        "#3\n",
        "x = np.zeros(10)"
      ],
      "execution_count": null,
      "outputs": []
    },
    {
      "cell_type": "code",
      "metadata": {
        "colab": {
          "base_uri": "https://localhost:8080/"
        },
        "id": "HFYaDdzAhVo_",
        "outputId": "54befd0b-b778-4253-a018-2ce842733d15"
      },
      "source": [
        "#4\n",
        "print(x.itemsize)"
      ],
      "execution_count": null,
      "outputs": [
        {
          "output_type": "stream",
          "name": "stdout",
          "text": [
            "8\n"
          ]
        }
      ]
    },
    {
      "cell_type": "code",
      "metadata": {
        "colab": {
          "base_uri": "https://localhost:8080/"
        },
        "id": "5k2xyGPWhWOb",
        "outputId": "dd211794-a81e-41a3-b31a-9ddf1f226728"
      },
      "source": [
        "#5\n",
        "print(np.info(np.add))"
      ],
      "execution_count": null,
      "outputs": [
        {
          "output_type": "stream",
          "name": "stdout",
          "text": [
            "None\n"
          ]
        }
      ]
    },
    {
      "cell_type": "code",
      "metadata": {
        "id": "Kzq_H77jhWdJ"
      },
      "source": [
        "#6\n",
        "x = np.zeros(10)\n",
        "x[4] = 1"
      ],
      "execution_count": null,
      "outputs": []
    },
    {
      "cell_type": "code",
      "metadata": {
        "colab": {
          "base_uri": "https://localhost:8080/"
        },
        "id": "wfxwiRgZhWpL",
        "outputId": "f1b5d13d-42b7-474c-a49e-3dbb04bdce71"
      },
      "source": [
        "#7\n",
        "x = np.arange(10,50)\n",
        "print(x)"
      ],
      "execution_count": null,
      "outputs": [
        {
          "output_type": "stream",
          "name": "stdout",
          "text": [
            "[10 11 12 13 14 15 16 17 18 19 20 21 22 23 24 25 26 27 28 29 30 31 32 33\n",
            " 34 35 36 37 38 39 40 41 42 43 44 45 46 47 48 49]\n"
          ]
        }
      ]
    },
    {
      "cell_type": "code",
      "metadata": {
        "colab": {
          "base_uri": "https://localhost:8080/"
        },
        "id": "tJnPlbiZhWyj",
        "outputId": "afffc031-feb4-44f1-8e77-b99001ba1c2b"
      },
      "source": [
        "#8\n",
        "reversed_x = np.flip(x)\n",
        "print(reversed_x)"
      ],
      "execution_count": null,
      "outputs": [
        {
          "output_type": "stream",
          "name": "stdout",
          "text": [
            "[49 48 47 46 45 44 43 42 41 40 39 38 37 36 35 34 33 32 31 30 29 28 27 26\n",
            " 25 24 23 22 21 20 19 18 17 16 15 14 13 12 11 10]\n"
          ]
        }
      ]
    },
    {
      "cell_type": "code",
      "metadata": {
        "colab": {
          "base_uri": "https://localhost:8080/"
        },
        "id": "qjGLy_fQhW71",
        "outputId": "43215c39-46e2-40d5-a38c-38eaf476968a"
      },
      "source": [
        "#9\n",
        "x = np.arange(9).reshape(3,3)\n",
        "print(x)"
      ],
      "execution_count": null,
      "outputs": [
        {
          "output_type": "stream",
          "name": "stdout",
          "text": [
            "[[0 1 2]\n",
            " [3 4 5]\n",
            " [6 7 8]]\n"
          ]
        }
      ]
    },
    {
      "cell_type": "code",
      "metadata": {
        "colab": {
          "base_uri": "https://localhost:8080/"
        },
        "id": "7Ar3u2yXhXFD",
        "outputId": "c35101b6-2a32-4b04-a63d-367f6c333cab"
      },
      "source": [
        "#10\n",
        "x = np.array([1,2,0,0,4,0])\n",
        "x = np.nonzero(x)\n",
        "print(x)"
      ],
      "execution_count": null,
      "outputs": [
        {
          "output_type": "stream",
          "name": "stdout",
          "text": [
            "(array([0, 1, 4]),)\n"
          ]
        }
      ]
    },
    {
      "cell_type": "code",
      "metadata": {
        "colab": {
          "base_uri": "https://localhost:8080/"
        },
        "id": "-f9fd1JEhXOG",
        "outputId": "554c6176-e241-48a4-aef4-09b4abc7e0c7"
      },
      "source": [
        "#11\n",
        "I = np.eye(3)\n",
        "print(I)"
      ],
      "execution_count": null,
      "outputs": [
        {
          "output_type": "stream",
          "name": "stdout",
          "text": [
            "[[1. 0. 0.]\n",
            " [0. 1. 0.]\n",
            " [0. 0. 1.]]\n"
          ]
        }
      ]
    },
    {
      "cell_type": "code",
      "metadata": {
        "colab": {
          "base_uri": "https://localhost:8080/"
        },
        "id": "Tw7DIVx9hXW3",
        "outputId": "a0f8f2a1-0953-4236-9fb2-cbbf6b05e680"
      },
      "source": [
        "#12\n",
        "x = np.random.rand(3,3,3)\n",
        "print(x)"
      ],
      "execution_count": null,
      "outputs": [
        {
          "output_type": "stream",
          "name": "stdout",
          "text": [
            "[[[0.85897969 0.28258451 0.22001236]\n",
            "  [0.75351042 0.56239294 0.44298132]\n",
            "  [0.42813977 0.13607074 0.71387699]]\n",
            "\n",
            " [[0.01920378 0.79069735 0.52034053]\n",
            "  [0.40320993 0.20613494 0.87071616]\n",
            "  [0.33503095 0.48155968 0.38467427]]\n",
            "\n",
            " [[0.74916081 0.55843056 0.62885584]\n",
            "  [0.44455589 0.97046621 0.8189232 ]\n",
            "  [0.41951061 0.63708492 0.07763778]]]\n"
          ]
        }
      ]
    },
    {
      "cell_type": "code",
      "metadata": {
        "colab": {
          "base_uri": "https://localhost:8080/"
        },
        "id": "rS6gr7T2hXfr",
        "outputId": "11e53afc-0053-4dfc-baf4-be9583538c79"
      },
      "source": [
        "#13\n",
        "x = np.random.rand(10,10)\n",
        "print(\"min:\",x.min())\n",
        "print(\"min:\",x.max())"
      ],
      "execution_count": null,
      "outputs": [
        {
          "output_type": "stream",
          "name": "stdout",
          "text": [
            "min: 8.028974991369786e-05\n",
            "min: 0.9722578340043141\n"
          ]
        }
      ]
    },
    {
      "cell_type": "code",
      "metadata": {
        "colab": {
          "base_uri": "https://localhost:8080/"
        },
        "id": "0HFPSUwZhXrF",
        "outputId": "ea15125c-8ccf-411e-df50-9cc6e69e1763"
      },
      "source": [
        "#14\n",
        "x = np.random.rand(30)\n",
        "print(\"mean:\",x.mean())"
      ],
      "execution_count": null,
      "outputs": [
        {
          "output_type": "stream",
          "name": "stdout",
          "text": [
            "mean: 0.5691786093089648\n"
          ]
        }
      ]
    },
    {
      "cell_type": "code",
      "metadata": {
        "colab": {
          "base_uri": "https://localhost:8080/"
        },
        "id": "NQFl5KLNhXzI",
        "outputId": "9e40d647-f351-4543-ff89-f6f83b76dbe0"
      },
      "source": [
        "#15\n",
        "x = np.ones((10,10))\n",
        "x[1:-1,1:-1] = 0\n",
        "print(x)"
      ],
      "execution_count": null,
      "outputs": [
        {
          "output_type": "stream",
          "name": "stdout",
          "text": [
            "[[1. 1. 1. 1. 1. 1. 1. 1. 1. 1.]\n",
            " [1. 0. 0. 0. 0. 0. 0. 0. 0. 1.]\n",
            " [1. 0. 0. 0. 0. 0. 0. 0. 0. 1.]\n",
            " [1. 0. 0. 0. 0. 0. 0. 0. 0. 1.]\n",
            " [1. 0. 0. 0. 0. 0. 0. 0. 0. 1.]\n",
            " [1. 0. 0. 0. 0. 0. 0. 0. 0. 1.]\n",
            " [1. 0. 0. 0. 0. 0. 0. 0. 0. 1.]\n",
            " [1. 0. 0. 0. 0. 0. 0. 0. 0. 1.]\n",
            " [1. 0. 0. 0. 0. 0. 0. 0. 0. 1.]\n",
            " [1. 1. 1. 1. 1. 1. 1. 1. 1. 1.]]\n"
          ]
        }
      ]
    },
    {
      "cell_type": "code",
      "metadata": {
        "colab": {
          "base_uri": "https://localhost:8080/"
        },
        "id": "HME8XTiahX9S",
        "outputId": "dec142f6-ee25-4740-90c7-a619e4b5f5f1"
      },
      "source": [
        "#16\n",
        "x = np.ones((4,4))\n",
        "x = np.pad(x, pad_width=1, mode='constant', constant_values=0)\n",
        "print(x)"
      ],
      "execution_count": null,
      "outputs": [
        {
          "output_type": "stream",
          "name": "stdout",
          "text": [
            "[[0. 0. 0. 0. 0. 0.]\n",
            " [0. 1. 1. 1. 1. 0.]\n",
            " [0. 1. 1. 1. 1. 0.]\n",
            " [0. 1. 1. 1. 1. 0.]\n",
            " [0. 1. 1. 1. 1. 0.]\n",
            " [0. 0. 0. 0. 0. 0.]]\n"
          ]
        }
      ]
    },
    {
      "cell_type": "code",
      "metadata": {
        "colab": {
          "base_uri": "https://localhost:8080/"
        },
        "id": "oi7NSQtfhYHQ",
        "outputId": "266eb0a5-9601-42ba-c6fc-8e3f86e9fd80"
      },
      "source": [
        "#17\n",
        "print(0 * np.nan)\n",
        "print(np.nan == np.nan)\n",
        "print(np.inf > np.nan)\n",
        "print(np.nan - np.nan)\n",
        "print(np.nan in set([np.nan]))\n",
        "print(0.3 == 3 * 0.1)"
      ],
      "execution_count": null,
      "outputs": [
        {
          "output_type": "stream",
          "name": "stdout",
          "text": [
            "nan\n",
            "False\n",
            "False\n",
            "nan\n",
            "True\n",
            "False\n"
          ]
        }
      ]
    },
    {
      "cell_type": "code",
      "metadata": {
        "colab": {
          "base_uri": "https://localhost:8080/"
        },
        "id": "orX5iJsqhYQ_",
        "outputId": "bc63d285-d9ce-480d-8251-5618736e3564"
      },
      "source": [
        "#18 \n",
        "x = np.diag(1+np.arange(4), k=-1)\n",
        "print(x)"
      ],
      "execution_count": null,
      "outputs": [
        {
          "output_type": "stream",
          "name": "stdout",
          "text": [
            "[[0 0 0 0 0]\n",
            " [1 0 0 0 0]\n",
            " [0 2 0 0 0]\n",
            " [0 0 3 0 0]\n",
            " [0 0 0 4 0]]\n"
          ]
        }
      ]
    },
    {
      "cell_type": "code",
      "metadata": {
        "colab": {
          "base_uri": "https://localhost:8080/"
        },
        "id": "emxDDagvhYa1",
        "outputId": "95b2a9d7-f4fe-44e0-b832-4119c3e66cbf"
      },
      "source": [
        "#19\n",
        "x = np.zeros((8,8))\n",
        "sz = x.shape[0]\n",
        "for i in range(sz):\n",
        "  for j in range(sz):\n",
        "    if (i+j)%2 == 1:\n",
        "      x[i][j] = 1\n",
        "\n",
        "print(x)"
      ],
      "execution_count": null,
      "outputs": [
        {
          "output_type": "stream",
          "name": "stdout",
          "text": [
            "[[0. 1. 0. 1. 0. 1. 0. 1.]\n",
            " [1. 0. 1. 0. 1. 0. 1. 0.]\n",
            " [0. 1. 0. 1. 0. 1. 0. 1.]\n",
            " [1. 0. 1. 0. 1. 0. 1. 0.]\n",
            " [0. 1. 0. 1. 0. 1. 0. 1.]\n",
            " [1. 0. 1. 0. 1. 0. 1. 0.]\n",
            " [0. 1. 0. 1. 0. 1. 0. 1.]\n",
            " [1. 0. 1. 0. 1. 0. 1. 0.]]\n"
          ]
        }
      ]
    },
    {
      "cell_type": "code",
      "metadata": {
        "colab": {
          "base_uri": "https://localhost:8080/"
        },
        "id": "CQEX4uIEhYkH",
        "outputId": "dbbf2bce-7f75-4333-ef05-2672a571a98d"
      },
      "source": [
        "#20\n",
        "x = np.zeros((6,7,8))\n",
        "print(np.unravel_index(100,x.shape))"
      ],
      "execution_count": null,
      "outputs": [
        {
          "output_type": "stream",
          "name": "stdout",
          "text": [
            "(1, 5, 4)\n"
          ]
        }
      ]
    },
    {
      "cell_type": "code",
      "metadata": {
        "colab": {
          "base_uri": "https://localhost:8080/"
        },
        "id": "OYDuNzBrhYvF",
        "outputId": "ebc757bf-77d4-4b1a-c6c1-751bc1a71c71"
      },
      "source": [
        "#21\n",
        "x = np.array([[0,1],[1,0]])\n",
        "x = np.tile(x,(4,4))\n",
        "print(x)"
      ],
      "execution_count": null,
      "outputs": [
        {
          "output_type": "stream",
          "name": "stdout",
          "text": [
            "[[0 1 0 1 0 1 0 1]\n",
            " [1 0 1 0 1 0 1 0]\n",
            " [0 1 0 1 0 1 0 1]\n",
            " [1 0 1 0 1 0 1 0]\n",
            " [0 1 0 1 0 1 0 1]\n",
            " [1 0 1 0 1 0 1 0]\n",
            " [0 1 0 1 0 1 0 1]\n",
            " [1 0 1 0 1 0 1 0]]\n"
          ]
        }
      ]
    },
    {
      "cell_type": "code",
      "metadata": {
        "colab": {
          "base_uri": "https://localhost:8080/"
        },
        "id": "mXuTvVelhY6g",
        "outputId": "37a375be-8a49-4af5-c253-365f6df8cd75"
      },
      "source": [
        "#22\n",
        "x = np.random.rand(12).reshape(3,4)\n",
        "x_min = x.min()\n",
        "x_max = x.max()\n",
        "x = (x - x_min)/(x_max - x_min)\n",
        "print(x)"
      ],
      "execution_count": null,
      "outputs": [
        {
          "output_type": "stream",
          "name": "stdout",
          "text": [
            "[[0.19936469 0.95287309 1.         0.        ]\n",
            " [0.28962674 0.06191265 0.84452686 0.06967419]\n",
            " [0.78395181 0.3174749  0.6006695  0.2063527 ]]\n"
          ]
        }
      ]
    },
    {
      "cell_type": "code",
      "metadata": {
        "colab": {
          "base_uri": "https://localhost:8080/"
        },
        "id": "iMHpN6hnhZEy",
        "outputId": "5541e75e-f494-44f1-d5cb-41cb579c994b"
      },
      "source": [
        "#23\n",
        "color = np.dtype([(\"r\", np.ubyte, 1),\n",
        "                  (\"g\", np.ubyte, 1),\n",
        "                  (\"b\", np.ubyte, 1),\n",
        "                  (\"a\", np.ubyte, 1)])\n"
      ],
      "execution_count": null,
      "outputs": [
        {
          "output_type": "stream",
          "name": "stderr",
          "text": [
            "/usr/local/lib/python3.7/dist-packages/ipykernel_launcher.py:5: FutureWarning: Passing (type, 1) or '1type' as a synonym of type is deprecated; in a future version of numpy, it will be understood as (type, (1,)) / '(1,)type'.\n",
            "  \"\"\"\n"
          ]
        }
      ]
    },
    {
      "cell_type": "code",
      "metadata": {
        "colab": {
          "base_uri": "https://localhost:8080/"
        },
        "id": "4wZWc3jAhZPm",
        "outputId": "eac5cd35-6b47-4258-972e-ed22668e31bd"
      },
      "source": [
        "#24\n",
        "x = np.random.rand(15).reshape(5,3)\n",
        "y = np.random.rand(6).reshape(3,2)\n",
        "z = x.dot(y)\n",
        "print(z)"
      ],
      "execution_count": null,
      "outputs": [
        {
          "output_type": "stream",
          "name": "stdout",
          "text": [
            "[[1.18527923 0.50931019]\n",
            " [1.39842454 0.54992305]\n",
            " [0.88744226 0.46684709]\n",
            " [1.34917782 0.5723654 ]\n",
            " [0.83898962 0.41022041]]\n"
          ]
        }
      ]
    },
    {
      "cell_type": "code",
      "metadata": {
        "colab": {
          "base_uri": "https://localhost:8080/"
        },
        "id": "Jy05j9XwhZZy",
        "outputId": "ae96e8db-a551-4576-99cb-e64c7a8746ed"
      },
      "source": [
        "#25\n",
        "x = np.arange(10)\n",
        "x[(3 < x) & (x <= 8)] *= -1\n",
        "print(x)"
      ],
      "execution_count": null,
      "outputs": [
        {
          "output_type": "stream",
          "name": "stdout",
          "text": [
            "[ 0  1  2  3 -4 -5 -6 -7 -8  9]\n"
          ]
        }
      ]
    },
    {
      "cell_type": "code",
      "metadata": {
        "colab": {
          "base_uri": "https://localhost:8080/"
        },
        "id": "6Oxxd0C1hZkE",
        "outputId": "83a76123-b950-4344-fcc0-d5599b46369f"
      },
      "source": [
        "#26\n",
        "print(sum(range(5),-1))\n",
        "from numpy import *\n",
        "print(sum(range(5),-1))"
      ],
      "execution_count": null,
      "outputs": [
        {
          "output_type": "stream",
          "name": "stdout",
          "text": [
            "9\n",
            "10\n"
          ]
        }
      ]
    },
    {
      "cell_type": "code",
      "metadata": {
        "colab": {
          "base_uri": "https://localhost:8080/"
        },
        "id": "i-3HLMEghZvI",
        "outputId": "578649e3-5f4b-49ac-c5b1-2ad9f8e1101b"
      },
      "source": [
        "#27\n",
        "Z = np.arange(10)\n",
        "print(Z**Z)\n",
        "print(2 << Z >> 2)\n",
        "print(Z <- Z)\n",
        "print(1j*Z)\n",
        "print(Z/1/1)\n",
        "#print(Z<Z>Z) -----> not legal"
      ],
      "execution_count": null,
      "outputs": [
        {
          "output_type": "stream",
          "name": "stdout",
          "text": [
            "[        1         1         4        27       256      3125     46656\n",
            "    823543  16777216 387420489]\n",
            "[  0   1   2   4   8  16  32  64 128 256]\n",
            "[False False False False False False False False False False]\n",
            "[0.+0.j 0.+1.j 0.+2.j 0.+3.j 0.+4.j 0.+5.j 0.+6.j 0.+7.j 0.+8.j 0.+9.j]\n",
            "[0. 1. 2. 3. 4. 5. 6. 7. 8. 9.]\n"
          ]
        }
      ]
    },
    {
      "cell_type": "code",
      "metadata": {
        "colab": {
          "base_uri": "https://localhost:8080/"
        },
        "id": "II9yi59fhZ6B",
        "outputId": "9d1a743f-6b04-4891-fb56-4c1f06e55942"
      },
      "source": [
        "#28\n",
        "print(np.array(0) / np.array(0))\n",
        "print(np.array(0) // np.array(0))\n",
        "print(np.array([np.nan]).astype(int).astype(float))"
      ],
      "execution_count": null,
      "outputs": [
        {
          "output_type": "stream",
          "name": "stdout",
          "text": [
            "nan\n",
            "0\n",
            "[-9.22337204e+18]\n"
          ]
        },
        {
          "output_type": "stream",
          "name": "stderr",
          "text": [
            "/usr/local/lib/python3.7/dist-packages/ipykernel_launcher.py:2: RuntimeWarning: invalid value encountered in true_divide\n",
            "  \n",
            "/usr/local/lib/python3.7/dist-packages/ipykernel_launcher.py:3: RuntimeWarning: divide by zero encountered in floor_divide\n",
            "  This is separate from the ipykernel package so we can avoid doing imports until\n"
          ]
        }
      ]
    },
    {
      "cell_type": "code",
      "metadata": {
        "colab": {
          "base_uri": "https://localhost:8080/"
        },
        "id": "9E3M61FThaEM",
        "outputId": "a44f5030-8b32-4ef8-d78c-b8a2fc17faf0"
      },
      "source": [
        "#29\n",
        "x = np.random.rand(10)\n",
        "print(x)\n",
        "y = np.copysign(np.ceil(np.abs(x)), x)\n",
        "print(y)"
      ],
      "execution_count": null,
      "outputs": [
        {
          "output_type": "stream",
          "name": "stdout",
          "text": [
            "[0.30130232 0.9418313  0.13455259 0.16617778 0.33520313 0.26230442\n",
            " 0.55290718 0.43902534 0.42780401 0.56606639]\n",
            "[1. 1. 1. 1. 1. 1. 1. 1. 1. 1.]\n"
          ]
        }
      ]
    },
    {
      "cell_type": "code",
      "metadata": {
        "colab": {
          "base_uri": "https://localhost:8080/"
        },
        "id": "tyI0YgGxhaOW",
        "outputId": "40ef8186-8caf-47e0-f3ed-30b1bce3b227"
      },
      "source": [
        "#30\n",
        "x = [1,2,3,4,5]\n",
        "y = [1,3,5,7,9]\n",
        "print(np.intersect1d(x,y))"
      ],
      "execution_count": null,
      "outputs": [
        {
          "output_type": "stream",
          "name": "stdout",
          "text": [
            "[1 3 5]\n"
          ]
        }
      ]
    },
    {
      "cell_type": "code",
      "metadata": {
        "id": "VVy3sRa5haY0"
      },
      "source": [
        "#31\n",
        "defaults = np.seterr(all=\"ignore\")"
      ],
      "execution_count": null,
      "outputs": []
    },
    {
      "cell_type": "code",
      "metadata": {
        "colab": {
          "base_uri": "https://localhost:8080/"
        },
        "id": "W6vBOghOhaiq",
        "outputId": "f8b6daab-6c76-45ae-b801-466e70e380a0"
      },
      "source": [
        "#32\n",
        "print(np.sqrt(-1) == np.emath.sqrt(-1))"
      ],
      "execution_count": null,
      "outputs": [
        {
          "output_type": "stream",
          "name": "stdout",
          "text": [
            "False\n"
          ]
        }
      ]
    },
    {
      "cell_type": "code",
      "metadata": {
        "id": "bDoyiNzphaso"
      },
      "source": [
        "#33\n",
        "yes = np.datetime64('today', 'D') - np.timedelta64(1, 'D')\n",
        "today     = np.datetime64('today', 'D')\n",
        "tom  = np.datetime64('today', 'D') + np.timedelta64(1, 'D')"
      ],
      "execution_count": null,
      "outputs": []
    },
    {
      "cell_type": "code",
      "metadata": {
        "colab": {
          "base_uri": "https://localhost:8080/"
        },
        "id": "C0yACfiwha3x",
        "outputId": "45c0b8ae-d7df-441f-c106-a4cee5eb1d16"
      },
      "source": [
        "#34\n",
        "x = np.arange('2016-07', '2016-08', dtype='datetime64[D]')\n",
        "print(x)"
      ],
      "execution_count": null,
      "outputs": [
        {
          "output_type": "stream",
          "name": "stdout",
          "text": [
            "['2016-07-01' '2016-07-02' '2016-07-03' '2016-07-04' '2016-07-05'\n",
            " '2016-07-06' '2016-07-07' '2016-07-08' '2016-07-09' '2016-07-10'\n",
            " '2016-07-11' '2016-07-12' '2016-07-13' '2016-07-14' '2016-07-15'\n",
            " '2016-07-16' '2016-07-17' '2016-07-18' '2016-07-19' '2016-07-20'\n",
            " '2016-07-21' '2016-07-22' '2016-07-23' '2016-07-24' '2016-07-25'\n",
            " '2016-07-26' '2016-07-27' '2016-07-28' '2016-07-29' '2016-07-30'\n",
            " '2016-07-31']\n"
          ]
        }
      ]
    },
    {
      "cell_type": "code",
      "metadata": {
        "colab": {
          "base_uri": "https://localhost:8080/"
        },
        "id": "9BJsiDg7hbC5",
        "outputId": "8baf3747-d0de-48cb-acb2-be999526b414"
      },
      "source": [
        "#35\n",
        "a = np.ones(5)*3\n",
        "b = np.ones(5)*2\n",
        "np.add(a,b,out=b)\n",
        "np.divide(a,2,out=a)\n",
        "np.negative(a,out=a)\n",
        "np.multiply(a,b,out=a)\n",
        "print(a)"
      ],
      "execution_count": null,
      "outputs": [
        {
          "output_type": "stream",
          "name": "stdout",
          "text": [
            "[-7.5 -7.5 -7.5 -7.5 -7.5]\n"
          ]
        }
      ]
    },
    {
      "cell_type": "code",
      "metadata": {
        "colab": {
          "base_uri": "https://localhost:8080/"
        },
        "id": "tTrVdGFghbO8",
        "outputId": "f195947f-a68e-472e-f289-1ed3f38576da"
      },
      "source": [
        "#36\n",
        "x = np.random.rand(3)\n",
        "\n",
        "print (np.trunc(x))\n",
        "\n",
        "print (np.floor(x))\n",
        "\n",
        "print (np.ceil(x)-1)\n",
        "\n",
        "print (x.astype(int))"
      ],
      "execution_count": null,
      "outputs": [
        {
          "output_type": "stream",
          "name": "stdout",
          "text": [
            "[0. 0. 0.]\n",
            "[0. 0. 0.]\n",
            "[0. 0. 0.]\n",
            "[0 0 0]\n"
          ]
        }
      ]
    },
    {
      "cell_type": "code",
      "metadata": {
        "colab": {
          "base_uri": "https://localhost:8080/"
        },
        "id": "oZw4x3RHhbZy",
        "outputId": "0c56d286-bc9e-4b42-8bf6-4b03a4c28df8"
      },
      "source": [
        "#37\n",
        "x = np.zeros((5,5))\n",
        "x = x+[0,1,2,3,4]\n",
        "print(x)"
      ],
      "execution_count": null,
      "outputs": [
        {
          "output_type": "stream",
          "name": "stdout",
          "text": [
            "[[0. 1. 2. 3. 4.]\n",
            " [0. 1. 2. 3. 4.]\n",
            " [0. 1. 2. 3. 4.]\n",
            " [0. 1. 2. 3. 4.]\n",
            " [0. 1. 2. 3. 4.]]\n"
          ]
        }
      ]
    },
    {
      "cell_type": "code",
      "metadata": {
        "colab": {
          "base_uri": "https://localhost:8080/"
        },
        "id": "8mk-8GXYhbkA",
        "outputId": "a236c5e2-5dbe-4922-a619-dae214eb8861"
      },
      "source": [
        "#38\n",
        "def generate():\n",
        "    for i in range(10):\n",
        "        yield i\n",
        "\n",
        "x = np.fromiter(generate(),dtype=float,count=-1)\n",
        "print(x)"
      ],
      "execution_count": null,
      "outputs": [
        {
          "output_type": "stream",
          "name": "stdout",
          "text": [
            "[0. 1. 2. 3. 4. 5. 6. 7. 8. 9.]\n"
          ]
        }
      ]
    },
    {
      "cell_type": "code",
      "metadata": {
        "colab": {
          "base_uri": "https://localhost:8080/"
        },
        "id": "jYOy8Vuohbu9",
        "outputId": "e0310069-2755-4358-c912-04baaae0925f"
      },
      "source": [
        "#39\n",
        "x = np.linspace(0,1,11,endpoint=False)[1:]\n",
        "print(x)"
      ],
      "execution_count": null,
      "outputs": [
        {
          "output_type": "stream",
          "name": "stdout",
          "text": [
            "[0.09090909 0.18181818 0.27272727 0.36363636 0.45454545 0.54545455\n",
            " 0.63636364 0.72727273 0.81818182 0.90909091]\n"
          ]
        }
      ]
    },
    {
      "cell_type": "code",
      "metadata": {
        "colab": {
          "base_uri": "https://localhost:8080/"
        },
        "id": "V1tqC_zehb51",
        "outputId": "a5687b76-a3cc-475a-af03-ce98367d40fd"
      },
      "source": [
        "#40\n",
        "x = np.random.rand(10)\n",
        "print(np.sort(x))"
      ],
      "execution_count": null,
      "outputs": [
        {
          "output_type": "stream",
          "name": "stdout",
          "text": [
            "[0.0165907  0.24163001 0.39700295 0.42494565 0.60321341 0.62180983\n",
            " 0.62463501 0.68024662 0.68333563 0.78219072]\n"
          ]
        }
      ]
    },
    {
      "cell_type": "code",
      "metadata": {
        "colab": {
          "base_uri": "https://localhost:8080/"
        },
        "id": "V20kC485hcFG",
        "outputId": "8a6364ad-0eb9-4c74-a989-6fd2aefa251f"
      },
      "source": [
        "#41\n",
        "x = np.arange(5)\n",
        "print(np.add.reduce(x))"
      ],
      "execution_count": null,
      "outputs": [
        {
          "output_type": "stream",
          "name": "stdout",
          "text": [
            "10\n"
          ]
        }
      ]
    },
    {
      "cell_type": "code",
      "metadata": {
        "colab": {
          "base_uri": "https://localhost:8080/"
        },
        "id": "4yYoi9HnhcQC",
        "outputId": "ae7b09fb-9d7c-4bec-ef16-d47aca3c4d3a"
      },
      "source": [
        "#42\n",
        "x = np.zeros(4)\n",
        "y = np.zeros(5)\n",
        "equal = np.array_equal(x,y)\n",
        "print(equal)"
      ],
      "execution_count": null,
      "outputs": [
        {
          "output_type": "stream",
          "name": "stdout",
          "text": [
            "False\n"
          ]
        }
      ]
    },
    {
      "cell_type": "code",
      "metadata": {
        "id": "SboJExafhcbP"
      },
      "source": [
        "#43\n",
        "x = np.zeros(3)\n",
        "x.flags.writeable = False\n",
        "#x[0] = 1 -> returns error"
      ],
      "execution_count": null,
      "outputs": []
    },
    {
      "cell_type": "code",
      "metadata": {
        "colab": {
          "base_uri": "https://localhost:8080/"
        },
        "id": "13wsyLTFhcmF",
        "outputId": "b775b281-69c8-4040-c350-ad0626b2942b"
      },
      "source": [
        "#44\n",
        "\n",
        "a = np.random.random((10,2))\n",
        "x,y = a[:,0], a[:,1]\n",
        "\n",
        "r = np.sqrt(x**2+y**2)\n",
        "theta = np.arctan2(y,x)\n",
        "print(r)\n",
        "print(theta)"
      ],
      "execution_count": null,
      "outputs": [
        {
          "output_type": "stream",
          "name": "stdout",
          "text": [
            "[0.56790583 0.95894253 0.56740675 1.03447886 1.13426781 0.74572533\n",
            " 1.22885132 0.87852448 0.83691945 0.68784065]\n",
            "[1.52811775 0.73872121 1.07692704 1.00343129 0.78634825 0.94199306\n",
            " 0.87587007 0.62009266 1.05519674 0.2661908 ]\n"
          ]
        }
      ]
    },
    {
      "cell_type": "code",
      "metadata": {
        "colab": {
          "base_uri": "https://localhost:8080/"
        },
        "id": "BHhrGU4DhcwD",
        "outputId": "0fd666c8-734e-420b-f0dc-f3a3c5f3bfa0"
      },
      "source": [
        "#45\n",
        "x = np.random.rand(10)\n",
        "x[x.argmax()] = 0\n",
        "print(x)"
      ],
      "execution_count": null,
      "outputs": [
        {
          "output_type": "stream",
          "name": "stdout",
          "text": [
            "[0.66660411 0.34754101 0.26689102 0.10444042 0.24641496 0.90319312\n",
            " 0.         0.65838806 0.82499727 0.15870575]\n"
          ]
        }
      ]
    },
    {
      "cell_type": "code",
      "metadata": {
        "colab": {
          "base_uri": "https://localhost:8080/"
        },
        "id": "z7-STzZfhc7y",
        "outputId": "3de6667f-1149-4e3e-ed1b-148cef3fe688"
      },
      "source": [
        "#46\n",
        "x = np.zeros((3,3), [('x',float),('y',float)])\n",
        "x['x'], x['y'] = np.meshgrid(np.linspace(0,1,3),\n",
        "                             np.linspace(0,1,3))\n",
        "print(x)"
      ],
      "execution_count": null,
      "outputs": [
        {
          "output_type": "stream",
          "name": "stdout",
          "text": [
            "[[(0. , 0. ) (0.5, 0. ) (1. , 0. )]\n",
            " [(0. , 0.5) (0.5, 0.5) (1. , 0.5)]\n",
            " [(0. , 1. ) (0.5, 1. ) (1. , 1. )]]\n"
          ]
        }
      ]
    },
    {
      "cell_type": "code",
      "metadata": {
        "colab": {
          "base_uri": "https://localhost:8080/"
        },
        "id": "-sFsDySnhdHC",
        "outputId": "6f236aaa-da01-4821-a664-d8a104e28abe"
      },
      "source": [
        "#47\n",
        "x = np.arange(3)\n",
        "y = np.random.random(3)\n",
        "c = 1.0 / np.subtract.outer(x, y)\n",
        "print(c)"
      ],
      "execution_count": null,
      "outputs": [
        {
          "output_type": "stream",
          "name": "stdout",
          "text": [
            "[[-2.97969767 -3.16708323 -1.53194029]\n",
            " [ 1.50512763  1.46144974  2.87991024]\n",
            " [ 0.60081874  0.59373536  0.74226208]]\n"
          ]
        }
      ]
    },
    {
      "cell_type": "code",
      "metadata": {
        "colab": {
          "base_uri": "https://localhost:8080/"
        },
        "id": "ZJQm9E7QhdRO",
        "outputId": "4c1aad6b-8928-4022-a58f-071ff21013af"
      },
      "source": [
        "#48\n",
        "print(\"int8:\")\n",
        "print(np.iinfo(np.int8).min)\n",
        "print(np.iinfo(np.int8).max)\n",
        "print()\n",
        "\n",
        "print(\"int32:\")\n",
        "print(np.iinfo(np.int32).min)\n",
        "print(np.iinfo(np.int32).max)\n",
        "print(\"\")\n",
        "\n",
        "print(\"int64:\")\n",
        "print(np.iinfo(np.int64).min)\n",
        "print(np.iinfo(np.int64).max)\n",
        "print(\"\")\n",
        "\n",
        "print(\"float32:\")\n",
        "print(np.finfo(np.float32).min)\n",
        "print(np.finfo(np.float32).max)\n",
        "print(\"\")\n",
        "\n",
        "print(\"float64\")\n",
        "print(np.finfo(np.float64).min)\n",
        "print(np.finfo(np.float64).max)\n",
        "print(\"\")"
      ],
      "execution_count": null,
      "outputs": [
        {
          "output_type": "stream",
          "name": "stdout",
          "text": [
            "int8:\n",
            "-128\n",
            "127\n",
            "\n",
            "int32:\n",
            "-2147483648\n",
            "2147483647\n",
            "\n",
            "int64:\n",
            "-9223372036854775808\n",
            "9223372036854775807\n",
            "\n",
            "float32:\n",
            "-3.4028235e+38\n",
            "3.4028235e+38\n",
            "\n",
            "float64\n",
            "-1.7976931348623157e+308\n",
            "1.7976931348623157e+308\n",
            "\n"
          ]
        }
      ]
    },
    {
      "cell_type": "code",
      "metadata": {
        "colab": {
          "base_uri": "https://localhost:8080/"
        },
        "id": "KWMcyitKhdbm",
        "outputId": "59c446ff-2e47-4941-ccea-f8cbb6f48a59"
      },
      "source": [
        "#49\n",
        "import sys\n",
        "np.set_printoptions(threshold=sys.maxsize)\n",
        "x = np.zeros((25,25))\n",
        "print(x)"
      ],
      "execution_count": null,
      "outputs": [
        {
          "output_type": "stream",
          "name": "stdout",
          "text": [
            "[[0. 0. 0. 0. 0. 0. 0. 0. 0. 0. 0. 0. 0. 0. 0. 0. 0. 0. 0. 0. 0. 0. 0. 0.\n",
            "  0.]\n",
            " [0. 0. 0. 0. 0. 0. 0. 0. 0. 0. 0. 0. 0. 0. 0. 0. 0. 0. 0. 0. 0. 0. 0. 0.\n",
            "  0.]\n",
            " [0. 0. 0. 0. 0. 0. 0. 0. 0. 0. 0. 0. 0. 0. 0. 0. 0. 0. 0. 0. 0. 0. 0. 0.\n",
            "  0.]\n",
            " [0. 0. 0. 0. 0. 0. 0. 0. 0. 0. 0. 0. 0. 0. 0. 0. 0. 0. 0. 0. 0. 0. 0. 0.\n",
            "  0.]\n",
            " [0. 0. 0. 0. 0. 0. 0. 0. 0. 0. 0. 0. 0. 0. 0. 0. 0. 0. 0. 0. 0. 0. 0. 0.\n",
            "  0.]\n",
            " [0. 0. 0. 0. 0. 0. 0. 0. 0. 0. 0. 0. 0. 0. 0. 0. 0. 0. 0. 0. 0. 0. 0. 0.\n",
            "  0.]\n",
            " [0. 0. 0. 0. 0. 0. 0. 0. 0. 0. 0. 0. 0. 0. 0. 0. 0. 0. 0. 0. 0. 0. 0. 0.\n",
            "  0.]\n",
            " [0. 0. 0. 0. 0. 0. 0. 0. 0. 0. 0. 0. 0. 0. 0. 0. 0. 0. 0. 0. 0. 0. 0. 0.\n",
            "  0.]\n",
            " [0. 0. 0. 0. 0. 0. 0. 0. 0. 0. 0. 0. 0. 0. 0. 0. 0. 0. 0. 0. 0. 0. 0. 0.\n",
            "  0.]\n",
            " [0. 0. 0. 0. 0. 0. 0. 0. 0. 0. 0. 0. 0. 0. 0. 0. 0. 0. 0. 0. 0. 0. 0. 0.\n",
            "  0.]\n",
            " [0. 0. 0. 0. 0. 0. 0. 0. 0. 0. 0. 0. 0. 0. 0. 0. 0. 0. 0. 0. 0. 0. 0. 0.\n",
            "  0.]\n",
            " [0. 0. 0. 0. 0. 0. 0. 0. 0. 0. 0. 0. 0. 0. 0. 0. 0. 0. 0. 0. 0. 0. 0. 0.\n",
            "  0.]\n",
            " [0. 0. 0. 0. 0. 0. 0. 0. 0. 0. 0. 0. 0. 0. 0. 0. 0. 0. 0. 0. 0. 0. 0. 0.\n",
            "  0.]\n",
            " [0. 0. 0. 0. 0. 0. 0. 0. 0. 0. 0. 0. 0. 0. 0. 0. 0. 0. 0. 0. 0. 0. 0. 0.\n",
            "  0.]\n",
            " [0. 0. 0. 0. 0. 0. 0. 0. 0. 0. 0. 0. 0. 0. 0. 0. 0. 0. 0. 0. 0. 0. 0. 0.\n",
            "  0.]\n",
            " [0. 0. 0. 0. 0. 0. 0. 0. 0. 0. 0. 0. 0. 0. 0. 0. 0. 0. 0. 0. 0. 0. 0. 0.\n",
            "  0.]\n",
            " [0. 0. 0. 0. 0. 0. 0. 0. 0. 0. 0. 0. 0. 0. 0. 0. 0. 0. 0. 0. 0. 0. 0. 0.\n",
            "  0.]\n",
            " [0. 0. 0. 0. 0. 0. 0. 0. 0. 0. 0. 0. 0. 0. 0. 0. 0. 0. 0. 0. 0. 0. 0. 0.\n",
            "  0.]\n",
            " [0. 0. 0. 0. 0. 0. 0. 0. 0. 0. 0. 0. 0. 0. 0. 0. 0. 0. 0. 0. 0. 0. 0. 0.\n",
            "  0.]\n",
            " [0. 0. 0. 0. 0. 0. 0. 0. 0. 0. 0. 0. 0. 0. 0. 0. 0. 0. 0. 0. 0. 0. 0. 0.\n",
            "  0.]\n",
            " [0. 0. 0. 0. 0. 0. 0. 0. 0. 0. 0. 0. 0. 0. 0. 0. 0. 0. 0. 0. 0. 0. 0. 0.\n",
            "  0.]\n",
            " [0. 0. 0. 0. 0. 0. 0. 0. 0. 0. 0. 0. 0. 0. 0. 0. 0. 0. 0. 0. 0. 0. 0. 0.\n",
            "  0.]\n",
            " [0. 0. 0. 0. 0. 0. 0. 0. 0. 0. 0. 0. 0. 0. 0. 0. 0. 0. 0. 0. 0. 0. 0. 0.\n",
            "  0.]\n",
            " [0. 0. 0. 0. 0. 0. 0. 0. 0. 0. 0. 0. 0. 0. 0. 0. 0. 0. 0. 0. 0. 0. 0. 0.\n",
            "  0.]\n",
            " [0. 0. 0. 0. 0. 0. 0. 0. 0. 0. 0. 0. 0. 0. 0. 0. 0. 0. 0. 0. 0. 0. 0. 0.\n",
            "  0.]]\n"
          ]
        }
      ]
    },
    {
      "cell_type": "code",
      "metadata": {
        "colab": {
          "base_uri": "https://localhost:8080/"
        },
        "id": "1WU_KEjthdmQ",
        "outputId": "a5f51ef2-de05-40a7-e796-22f2b958d92a"
      },
      "source": [
        "#50\n",
        "x = np.arange(10)\n",
        "v = np.random.uniform(0,10)\n",
        "index = (np.abs(x-v)).argmin()\n",
        "print(v,x[index])"
      ],
      "execution_count": null,
      "outputs": [
        {
          "output_type": "stream",
          "name": "stdout",
          "text": [
            "9.832853568743818 9\n"
          ]
        }
      ]
    },
    {
      "cell_type": "code",
      "metadata": {
        "colab": {
          "base_uri": "https://localhost:8080/"
        },
        "id": "JIhQDNjfhdw_",
        "outputId": "64b64846-78d3-4868-e2fc-a64b5b0a97b8"
      },
      "source": [
        "#51\n",
        "x = np.zeros(3, [ ('position', [ ('x', float, 1),\n",
        "                                  ('y', float, 1)]),\n",
        "                   ('color',    [ ('r', float, 1),\n",
        "                                  ('g', float, 1),\n",
        "                                  ('b', float, 1)])])\n",
        "print(x)"
      ],
      "execution_count": null,
      "outputs": [
        {
          "output_type": "stream",
          "name": "stdout",
          "text": [
            "[((0., 0.), (0., 0., 0.)) ((0., 0.), (0., 0., 0.))\n",
            " ((0., 0.), (0., 0., 0.))]\n"
          ]
        },
        {
          "output_type": "stream",
          "name": "stderr",
          "text": [
            "/usr/local/lib/python3.7/dist-packages/ipykernel_launcher.py:6: FutureWarning: Passing (type, 1) or '1type' as a synonym of type is deprecated; in a future version of numpy, it will be understood as (type, (1,)) / '(1,)type'.\n",
            "  \n"
          ]
        }
      ]
    },
    {
      "cell_type": "code",
      "metadata": {
        "colab": {
          "base_uri": "https://localhost:8080/"
        },
        "id": "hTfk4zRthd8K",
        "outputId": "35af7b11-415c-41a3-cb05-7b983443fd8d"
      },
      "source": [
        "#52\n",
        "import scipy.spatial\n",
        "\n",
        "x = np.random.random((100,2))\n",
        "d = scipy.spatial.distance.cdist(x,x)\n",
        "print(d)"
      ],
      "execution_count": null,
      "outputs": [
        {
          "output_type": "stream",
          "name": "stdout",
          "text": [
            "[[0.         0.34178402 0.36298073 0.18722397 0.12719898 0.10838823\n",
            "  0.65859076 0.76445579 0.49449493 0.02849607 0.71129516 0.11917987\n",
            "  0.82436478 0.81435477 0.21626305 0.60242563 0.84181033 0.56022232\n",
            "  0.27042209 0.19785326 0.85597069 0.26429453 0.2129944  0.2086617\n",
            "  0.47326865 0.8941733  0.88528101 0.49764633 0.26330319 0.11497993\n",
            "  0.65697711 0.63943005 0.17529859 0.46715344 0.86176602 0.81850452\n",
            "  0.69452746 0.10624766 0.67228369 0.17436636 0.45347636 0.77761806\n",
            "  0.91992203 0.31321696 0.80737249 0.234355   0.69386991 0.3949036\n",
            "  0.66128693 0.46255148 0.5370658  0.18018358 0.10334007 0.69513415\n",
            "  0.80390213 0.30707885 0.67530507 0.63929672 0.76598303 0.24315023\n",
            "  0.38278329 0.59941525 0.25937085 0.20678238 0.24189334 0.43952282\n",
            "  0.34974234 0.21541763 0.39541726 0.74589462 0.34052067 0.26105129\n",
            "  0.74916035 0.70998769 0.19253709 0.40701447 0.17359074 0.39564732\n",
            "  0.71226202 0.67641738 0.64619903 0.73946426 0.33102676 0.49339908\n",
            "  0.78690075 0.23719996 0.22115516 0.2617613  0.6259965  0.7133492\n",
            "  0.63053002 0.53451053 0.15494946 0.72138822 0.78786813 0.67801549\n",
            "  0.20068385 0.78395965 0.61948684 0.29313586]\n",
            " [0.34178402 0.         0.33636339 0.41014576 0.24605342 0.3502149\n",
            "  0.57139505 0.62952516 0.5077898  0.3502917  0.67126419 0.46076366\n",
            "  0.53678259 0.70728619 0.37032414 0.41951125 0.57164116 0.3724441\n",
            "  0.0758649  0.18326211 0.67474741 0.32360948 0.49978546 0.22854196\n",
            "  0.19744666 0.62558105 0.63897062 0.17266463 0.55667847 0.39746388\n",
            "  0.33786918 0.79884767 0.5131567  0.70976429 0.60750762 0.62662293\n",
            "  0.85276909 0.27475118 0.4084034  0.38205769 0.31353923 0.59673131\n",
            "  0.6753846  0.27546359 0.69674535 0.42271997 0.40204943 0.08811528\n",
            "  0.33328206 0.65832265 0.2209132  0.4919427  0.28617374 0.73586192\n",
            "  0.62143352 0.27083219 0.49480149 0.65134425 0.51670151 0.3344512\n",
            "  0.25975473 0.32368914 0.14844226 0.53240846 0.17441073 0.50669066\n",
            "  0.23311479 0.37938815 0.29947121 0.78857542 0.61131653 0.59944111\n",
            "  0.49178097 0.57289012 0.41298124 0.23454174 0.49887199 0.56982067\n",
            "  0.44331695 0.81616072 0.50985642 0.47415011 0.55814479 0.26020557\n",
            "  0.90752596 0.50763207 0.43375829 0.25313853 0.36112697 0.64690163\n",
            "  0.29302642 0.23636493 0.21421673 0.65095292 0.50505639 0.34099347\n",
            "  0.18974351 0.47322002 0.28680933 0.62807988]\n",
            " [0.36298073 0.33636339 0.         0.5378082  0.2513168  0.27268033\n",
            "  0.29689371 0.40219435 0.17303475 0.34463694 0.36504819 0.44491973\n",
            "  0.5478723  0.45222011 0.18375961 0.26676197 0.54390088 0.23630472\n",
            "  0.29016291 0.38884366 0.50116328 0.10405778 0.5756627  0.44203766\n",
            "  0.27772693 0.59029231 0.56295073 0.36208321 0.39561761 0.47596602\n",
            "  0.45809863 0.47954636 0.50702255 0.45445185 0.54744008 0.468878\n",
            "  0.53058668 0.39634799 0.74085504 0.5171955  0.13010649 0.42556493\n",
            "  0.59417969 0.06616907 0.44488029 0.21974601 0.72454778 0.297208\n",
            "  0.62616427 0.37291129 0.36794939 0.53862125 0.26075366 0.40176801\n",
            "  0.45130417 0.07253103 0.32958024 0.32165995 0.45626121 0.53870287\n",
            "  0.56491417 0.34883078 0.41120597 0.43099741 0.18815153 0.17590179\n",
            "  0.53097082 0.19254651 0.07164377 0.45491995 0.40565801 0.51692668\n",
            "  0.44878777 0.34882101 0.24962496 0.55508639 0.52444419 0.28594534\n",
            "  0.42897499 0.48909927 0.28677586 0.44824697 0.3226724  0.23721312\n",
            "  0.57398647 0.33761363 0.24621918 0.49706518 0.69452001 0.35737485\n",
            "  0.48964424 0.33728742 0.37752408 0.36448761 0.50976377 0.61093046\n",
            "  0.21087376 0.54676439 0.57581832 0.52634427]\n",
            " [0.18722397 0.41014576 0.5378082  0.         0.28708646 0.29553246\n",
            "  0.8346354  0.93345997 0.67944604 0.21383835 0.89447676 0.20147111\n",
            "  0.93936565 0.98958478 0.40335264 0.75517959 0.96674015 0.70991122\n",
            "  0.35995707 0.22689358 1.01500564 0.44510146 0.10539115 0.18873086\n",
            "  0.58603866 1.02048414 1.02198581 0.58248104 0.40832391 0.08003725\n",
            "  0.74779925 0.81579874 0.2022569  0.62351993 0.99465353 0.97383219\n",
            "  0.86996458 0.15107949 0.62782278 0.02813414 0.61049853 0.93543844\n",
            "  1.05779958 0.48098307 0.98187292 0.42004889 0.66813992 0.48732293\n",
            "  0.67424779 0.63585243 0.62942088 0.13032566 0.2797038  0.88235656\n",
            "  0.96174559 0.47438024 0.83096585 0.82571132 0.89966246 0.12385295\n",
            "  0.31784113 0.71723882 0.27311566 0.3257616  0.38337029 0.62658196\n",
            "  0.29647499 0.40264108 0.55863935 0.93306293 0.49172166 0.33408481\n",
            "  0.87896121 0.87746516 0.3766771  0.35999022 0.15824502 0.57641982\n",
            "  0.83593496 0.85579349 0.81233001 0.86538175 0.5025717  0.62461865\n",
            "  0.96771721 0.40067651 0.40449671 0.20142121 0.58712588 0.89344113\n",
            "  0.69838789 0.63855037 0.20047495 0.9010528  0.90530192 0.70520529\n",
            "  0.34471342 0.88244627 0.64214698 0.37307339]\n",
            " [0.12719898 0.24605342 0.2513168  0.28708646 0.         0.10439519\n",
            "  0.54781096 0.64707085 0.40299341 0.12122903 0.61251404 0.2381561\n",
            "  0.69861995 0.70255365 0.15755315 0.47716865 0.7149121  0.43416726\n",
            "  0.17020354 0.17094093 0.73324709 0.16580537 0.335619   0.21290253\n",
            "  0.35014203 0.76714636 0.75817288 0.38404635 0.31143786 0.23060688\n",
            "  0.53813421 0.61075954 0.29860881 0.48057431 0.73456719 0.69440508\n",
            "  0.6664773  0.14646134 0.62393901 0.26592626 0.32901972 0.65431061\n",
            "  0.79288894 0.19407961 0.69479622 0.20082158 0.63272954 0.28172238\n",
            "  0.57840004 0.44768833 0.41952416 0.30672667 0.04021552 0.6198534\n",
            "  0.68064481 0.18753324 0.55105852 0.55318249 0.63878411 0.29492762\n",
            "  0.37102191 0.47401077 0.21907666 0.2887095  0.11561999 0.36332708\n",
            "  0.33526008 0.16299634 0.27348958 0.6724961  0.37111489 0.36137845\n",
            "  0.62205194 0.59147402 0.1776458  0.37981658 0.30070454 0.36606837\n",
            "  0.58565071 0.63948165 0.52671765 0.61260319 0.33018652 0.36656118\n",
            "  0.74387929 0.26499921 0.20318095 0.27233636 0.57610652 0.60825258\n",
            "  0.52090046 0.41306432 0.14286432 0.61556506 0.66185756 0.58684246\n",
            "  0.07508425 0.66179184 0.53268138 0.38677533]\n",
            " [0.10838823 0.3502149  0.27268033 0.29553246 0.10439519 0.\n",
            "  0.56248143 0.67399607 0.38978468 0.08211998 0.60793787 0.17245818\n",
            "  0.77558722 0.718125   0.10895408 0.52827753 0.78549873 0.48976259\n",
            "  0.27435253 0.25690019 0.77315897 0.16919796 0.30998995 0.28628176\n",
            "  0.43734489 0.83610028 0.81960006 0.4812852  0.20710823 0.22112915\n",
            "  0.62945902 0.53846738 0.23487624 0.38541643 0.79925053 0.73903987\n",
            "  0.5940038  0.19372682 0.72383342 0.28248149 0.3795132  0.69653325\n",
            "  0.85296592 0.23423397 0.7118226  0.12748906 0.73533407 0.38043981\n",
            "  0.68278693 0.36573158 0.51321747 0.2686792  0.06495011 0.58686792\n",
            "  0.72253109 0.22911442 0.59733635 0.53244992 0.70430433 0.3431139\n",
            "  0.45624328 0.55398556 0.31249765 0.19007099 0.20351447 0.33182856\n",
            "  0.42111572 0.1073176  0.31736184 0.63753416 0.2696468  0.26891422\n",
            "  0.6907555  0.62132508 0.08928053 0.47148109 0.25232835 0.29265292\n",
            "  0.65927446 0.5730226  0.55942822 0.68420271 0.23917982 0.44128605\n",
            "  0.68220884 0.1625734  0.11817502 0.34466224 0.67622454 0.61305349\n",
            "  0.61955168 0.50216968 0.21954621 0.62147295 0.73798489 0.69069265\n",
            "  0.16904761 0.74770524 0.63695996 0.29005456]\n",
            " [0.65859076 0.57139505 0.29689371 0.8346354  0.54781096 0.56248143\n",
            "  0.         0.12824622 0.20299962 0.63874204 0.12082899 0.73147792\n",
            "  0.46815743 0.15581708 0.46050502 0.2015644  0.4292568  0.23110778\n",
            "  0.55143576 0.67212598 0.25635656 0.39485159 0.87033561 0.72736318\n",
            "  0.41664825 0.45461189 0.39635743 0.50836699 0.63507088 0.77235789\n",
            "  0.50765006 0.49453065 0.79190111 0.6005466  0.40073231 0.24895066\n",
            "  0.52424591 0.69154715 0.93400736 0.81371874 0.25799144 0.20688765\n",
            "  0.41467612 0.3555096  0.14935376 0.47733323 0.8978212  0.49960257\n",
            "  0.77207885 0.49626309 0.48320681 0.8310405  0.55724405 0.26964745\n",
            "  0.22400181 0.36224612 0.17989097 0.18665302 0.34443961 0.82928756\n",
            "  0.82606561 0.38400049 0.68249541 0.69394291 0.46923495 0.28576791\n",
            "  0.79519763 0.46654811 0.28708033 0.3050594  0.61257769 0.77826697\n",
            "  0.35815063 0.10051845 0.51827007 0.80560725 0.81435739 0.4424163\n",
            "  0.37662546 0.47104746 0.09817513 0.37466318 0.52399346 0.34076986\n",
            "  0.49994473 0.5830815  0.50427137 0.77838333 0.89283481 0.07849896\n",
            "  0.58567468 0.44046459 0.66722903 0.08056426 0.43795    0.73706649\n",
            "  0.50013731 0.52331439 0.72543601 0.77864333]\n",
            " [0.76445579 0.62952516 0.40219435 0.93345997 0.64707085 0.67399607\n",
            "  0.12824622 0.         0.33067434 0.74677247 0.19920237 0.84535892\n",
            "  0.39829193 0.09101445 0.57658904 0.21405692 0.34739756 0.25898352\n",
            "  0.62348155 0.75393396 0.13117709 0.50481204 0.9774077  0.80981269\n",
            "  0.45045232 0.3608764  0.29382646 0.53332221 0.76014139 0.87608103\n",
            "  0.4914165  0.6105937  0.90680875 0.72824143 0.30688977 0.13644352\n",
            "  0.63516317 0.78609671 0.95720798 0.91085363 0.32950502 0.10480157\n",
            "  0.30527947 0.45309631 0.07880313 0.59805919 0.91243729 0.54872147\n",
            "  0.77876804 0.6237218  0.49804481 0.94081364 0.66148543 0.36696772\n",
            "  0.11123246 0.45958414 0.14956145 0.29790898 0.27617411 0.91567149\n",
            "  0.88906866 0.38010532 0.75552351 0.8155948  0.55599677 0.41348406\n",
            "  0.86085022 0.58348663 0.37519249 0.39029023 0.74012284 0.90065359\n",
            "  0.29841114 0.05734671 0.63723881 0.86266934 0.92623715 0.57062154\n",
            "  0.33278639 0.58181884 0.12285251 0.32058075 0.65134283 0.37575023\n",
            "  0.59486867 0.70699113 0.62529953 0.85654667 0.91975449 0.14508958\n",
            "  0.58195787 0.45601967 0.75485896 0.13695807 0.37519784 0.73660457\n",
            "  0.59121264 0.47320412 0.736009   0.90268171]\n",
            " [0.49449493 0.5077898  0.17303475 0.67944604 0.40299341 0.38978468\n",
            "  0.20299962 0.33067434 0.         0.47083298 0.21888055 0.54980284\n",
            "  0.60315591 0.34772522 0.2815209  0.29985401 0.58035814 0.29617431\n",
            "  0.46316363 0.55566839 0.4550392  0.23730703 0.69919235 0.60687346\n",
            "  0.41759286 0.61678024 0.57044059 0.50977814 0.43434585 0.60934738\n",
            "  0.57117544 0.34852106 0.60750414 0.40505543 0.56604124 0.43920839\n",
            "  0.39234893 0.54905252 0.90837634 0.66221638 0.23657638 0.3945332\n",
            "  0.59476304 0.23830856 0.34424306 0.28651581 0.88754779 0.46072311\n",
            "  0.78048616 0.30334643 0.50404444 0.65553421 0.4008715  0.22874956\n",
            "  0.41597185 0.2442585  0.32850243 0.15118184 0.4896026  0.69748741\n",
            "  0.73705393 0.44810317 0.58230092 0.49841196 0.35939107 0.08281192\n",
            "  0.70278163 0.28516523 0.21503495 0.28188522 0.40958282 0.58107631\n",
            "  0.49299308 0.29283069 0.33040115 0.72806785 0.63521455 0.24099458\n",
            "  0.49168569 0.34428973 0.25259884 0.50137558 0.3210153  0.35668792\n",
            "  0.41418718 0.38439887 0.31217323 0.66374808 0.86275949 0.23160901\n",
            "  0.62333971 0.46651677 0.53959909 0.24108594 0.56739055 0.7586381\n",
            "  0.37731301 0.63020705 0.73047396 0.57898581]\n",
            " [0.02849607 0.3502917  0.34463694 0.21383835 0.12122903 0.08211998\n",
            "  0.63874204 0.74677247 0.47083298 0.         0.6883975  0.11700879\n",
            "  0.81966092 0.79455872 0.19091568 0.58986908 0.83497309 0.54868561\n",
            "  0.27691658 0.21737406 0.84098683 0.24389264 0.23159502 0.23278492\n",
            "  0.47114386 0.88688805 0.8757265  0.50082117 0.23860371 0.13906348\n",
            "  0.65776869 0.61093415 0.17751323 0.43994899 0.85313251 0.80458475\n",
            "  0.66603271 0.13142857 0.69241364 0.20208043 0.4405539  0.76313025\n",
            "  0.91001719 0.29804717 0.78783671 0.20664082 0.7118051  0.397969\n",
            "  0.6745076  0.43412335 0.538446   0.19439452 0.0902177  0.66883341\n",
            "  0.78934731 0.29215436 0.66168864 0.6144053  0.75746783 0.27142376\n",
            "  0.40688573 0.59517883 0.27820026 0.18815089 0.23677513 0.41394277\n",
            "  0.37330415 0.18943319 0.38102164 0.71934199 0.31431305 0.24923333\n",
            "  0.74157674 0.69288678 0.16435252 0.42931394 0.18336414 0.36723219\n",
            "  0.70617171 0.64798192 0.62967188 0.73277317 0.30276268 0.48693091\n",
            "  0.75855265 0.21000954 0.19287417 0.28732714 0.64575853 0.69184528\n",
            "  0.63558334 0.5336202  0.17511249 0.70005024 0.78279448 0.68913693\n",
            "  0.19628382 0.78266834 0.63163248 0.27908778]\n",
            " [0.71129516 0.67126419 0.36504819 0.89447676 0.61251404 0.60793787\n",
            "  0.12082899 0.19920237 0.21888055 0.6883975  0.         0.76857539\n",
            "  0.58083292 0.16209684 0.50014198 0.32224397 0.53692968 0.34974265\n",
            "  0.64257202 0.75297675 0.32648915 0.44948242 0.91771529 0.80675835\n",
            "  0.52991949 0.55627011 0.49179739 0.6230567  0.64193535 0.82627497\n",
            "  0.62843865 0.41907113 0.82587699 0.56640533 0.50197318 0.33543798\n",
            "  0.43916901 0.75887609 1.04647783 0.87600844 0.36010425 0.30004308\n",
            "  0.50443258 0.42976985 0.16481037 0.50446884 1.01303093 0.60542092\n",
            "  0.88961014 0.46199002 0.60059785 0.87436911 0.61482872 0.16803983\n",
            "  0.3100561  0.4364333  0.29684576 0.11239514 0.45643076 0.90350806\n",
            "  0.91967868 0.50450648 0.77057105 0.71240176 0.55015812 0.29048632\n",
            "  0.88730166 0.50398951 0.37523172 0.192774   0.60431438 0.79292283\n",
            "  0.47286963 0.20216129 0.54881559 0.90321262 0.85407441 0.4283734\n",
            "  0.49499204 0.38610278 0.21822743 0.49097744 0.5198085  0.45515417\n",
            "  0.3959047  0.59611192 0.52952319 0.86093117 1.00419209 0.05483313\n",
            "  0.7054729  0.55809262 0.74256329 0.06225809 0.55260786 0.85599308\n",
            "  0.57576758 0.64144021 0.84230723 0.78732576]\n",
            " [0.11917987 0.46076366 0.44491973 0.20147111 0.2381561  0.17245818\n",
            "  0.73147792 0.84535892 0.54980284 0.11700879 0.76857539 0.\n",
            "  0.93611822 0.88656092 0.27126791 0.69951302 0.95030613 0.65987783\n",
            "  0.38958945 0.30753088 0.94561337 0.34108917 0.16237202 0.30525221\n",
            "  0.58815264 1.00187229 0.98865738 0.61621191 0.20867659 0.12641222\n",
            "  0.77433571 0.6275773  0.06266559 0.42437964 0.96701225 0.91136392\n",
            "  0.68025994 0.20645549 0.77511335 0.20554111 0.55031937 0.86895433\n",
            "  1.0225234  0.40558811 0.88073737 0.26544547 0.80201016 0.51337629\n",
            "  0.77687651 0.4466222  0.65476557 0.11184028 0.20497142 0.72721523\n",
            "  0.89496869 0.40018216 0.76940413 0.68418435 0.87155068 0.30335231\n",
            "  0.47413171 0.71186933 0.36901244 0.12433505 0.35355308 0.48254581\n",
            "  0.44413601 0.26597518 0.48892913 0.77480228 0.29235326 0.15026075\n",
            "  0.85644585 0.79322087 0.22031435 0.50521724 0.08632589 0.39888225\n",
            "  0.82204012 0.67115603 0.73169347 0.84826975 0.31477445 0.60279764\n",
            "  0.78447342 0.21041773 0.2425289  0.34903057 0.73006055 0.77814718\n",
            "  0.74962882 0.65055099 0.26484124 0.78695817 0.89911619 0.7954571\n",
            "  0.31323755 0.89966112 0.73618091 0.18652037]\n",
            " [0.82436478 0.53678259 0.5478723  0.93936565 0.69861995 0.77558722\n",
            "  0.46815743 0.39829193 0.60315591 0.81966092 0.58083292 0.93611822\n",
            "  0.         0.48261266 0.71925158 0.30346729 0.06554738 0.31650633\n",
            "  0.57941199 0.71586951 0.32296494 0.63518349 1.01815852 0.76471467\n",
            "  0.35447647 0.10479384 0.16064118 0.36828034 0.9391379  0.91109718\n",
            "  0.21750653 0.94508673 0.99716763 0.99118792 0.12425901 0.28019057\n",
            "  0.98198708 0.79280761 0.69927546 0.91180957 0.41781849 0.29535919\n",
            "  0.18835087 0.55283047 0.47109914 0.76349664 0.63571519 0.45328824\n",
            "  0.4965084  0.8973693  0.31789682 0.99910116 0.73134285 0.73776262\n",
            "  0.2989763  0.55607156 0.28933783 0.6520704  0.12440548 0.87122304\n",
            "  0.76204309 0.22506225 0.68499621 0.95965967 0.58300741 0.67001003\n",
            "  0.74690872 0.72936554 0.47962336 0.77195572 0.95351058 1.0428465\n",
            "  0.11153176 0.37906442 0.78544622 0.71920712 0.99736119 0.81928974\n",
            "  0.11899002 0.92990435 0.3736489  0.10220356 0.8694734  0.33433908\n",
            "  0.96773903 0.88081868 0.7883805  0.78826325 0.67593049 0.52718673\n",
            "  0.31101477 0.30148102 0.73889981 0.5220867  0.03818315 0.44146049\n",
            "  0.62392291 0.10409618 0.47097714 1.05924763]\n",
            " [0.81435477 0.70728619 0.45222011 0.98958478 0.70255365 0.718125\n",
            "  0.15581708 0.09101445 0.34772522 0.79455872 0.16209684 0.88656092\n",
            "  0.48261266 0.         0.61535803 0.29935041 0.42810383 0.3419891\n",
            "  0.69537404 0.82122097 0.18211348 0.55066751 1.02615256 0.87685834\n",
            "  0.53463904 0.43514859 0.36391295 0.62000409 0.78194372 0.92799715\n",
            "  0.58241375 0.58019774 0.94663966 0.72450999 0.38250864 0.20771109\n",
            "  0.59756841 0.84533381 1.04526016 0.96829474 0.39920083 0.18741656\n",
            "  0.36875263 0.5093208  0.01221251 0.62986612 1.00173873 0.62920943\n",
            "  0.86881712 0.61961539 0.58637646 0.98674415 0.71282435 0.3239104\n",
            "  0.18539744 0.5160157  0.23957234 0.27370914 0.36288902 0.98055402\n",
            "  0.9657003  0.4702046  0.82738798 0.84501714 0.61978381 0.42834749\n",
            "  0.93631793 0.62109956 0.43701927 0.33630584 0.75250608 0.92840299\n",
            "  0.3866456  0.139025   0.67176328 0.94154144 0.96980034 0.57809552\n",
            "  0.42296333 0.54502051 0.19786494 0.40954426 0.66543271 0.45893134\n",
            "  0.54219038 0.73199628 0.65647345 0.92604544 1.00707402 0.12108137\n",
            "  0.67257464 0.54402461 0.81869314 0.11084968 0.46179598 0.82719043\n",
            "  0.6524254  0.56164345 0.82557767 0.92670617]\n",
            " [0.21626305 0.37032414 0.18375961 0.40335264 0.15755315 0.10895408\n",
            "  0.46050502 0.57658904 0.2815209  0.19091568 0.50014198 0.27126791\n",
            "  0.71925158 0.61535803 0.         0.44966589 0.72126535 0.41628412\n",
            "  0.29884951 0.32849408 0.68239228 0.08432218 0.41767153 0.36875752\n",
            "  0.4050621  0.76943934 0.74541841 0.46748748 0.22077465 0.32997911\n",
            "  0.59835365 0.45323886 0.33139609 0.33958155 0.72850078 0.65182142\n",
            "  0.5089452  0.28856225 0.76933    0.38888162 0.30617356 0.60809199\n",
            "  0.7771772  0.16666478 0.60965042 0.05332553 0.77080245 0.37511427\n",
            "  0.69984229 0.29352437 0.49006743 0.37443446 0.13675129 0.47936933\n",
            "  0.63356811 0.16394286 0.51330263 0.42350969 0.63570196 0.4405803\n",
            "  0.52832818 0.50617961 0.37479816 0.24734456 0.19824719 0.22326034\n",
            "  0.49254361 0.01050455 0.24248196 0.53058138 0.25169604 0.33321641\n",
            "  0.62579843 0.5260386  0.06672725 0.53517981 0.35534198 0.20931497\n",
            "  0.60061812 0.48225922 0.46669203 0.62266142 0.18832481 0.39066403\n",
            "  0.58779137 0.1628     0.07173319 0.4283426  0.72135647 0.50733284\n",
            "  0.60582986 0.47047799 0.29878144 0.51602152 0.68110992 0.6988242\n",
            "  0.18221382 0.70478548 0.65125594 0.34375747]\n",
            " [0.60242563 0.41951125 0.26676197 0.75517959 0.47716865 0.52827753\n",
            "  0.2015644  0.21405692 0.29985401 0.58986908 0.32224397 0.69951302\n",
            "  0.30346729 0.29935041 0.44966589 0.         0.28549352 0.04748355\n",
            "  0.42186089 0.55811274 0.26169034 0.36688379 0.81276217 0.6136775\n",
            "  0.23639629 0.32770318 0.29622045 0.32069786 0.66149426 0.70703268\n",
            "  0.30628022 0.64444642 0.76217861 0.691242   0.28205223 0.21868545\n",
            "  0.68383499 0.60446787 0.746529   0.73043987 0.14936162 0.18190308\n",
            "  0.32752653 0.29407357 0.28775158 0.48620679 0.70513389 0.33636628\n",
            "  0.57534038 0.59526549 0.28873979 0.78257301 0.50010174 0.45694796\n",
            "  0.20790356 0.29935712 0.07704038 0.36607595 0.19497553 0.72197793\n",
            "  0.67918041 0.18252916 0.55236225 0.69694203 0.37182333 0.3673391\n",
            "  0.65231426 0.45880573 0.21096279 0.49880051 0.66454632 0.78268487\n",
            "  0.19431419 0.16037326 0.51601927 0.65078592 0.77322537 0.51978248\n",
            "  0.19290405 0.63276763 0.10840848 0.20153811 0.57762321 0.16209404\n",
            "  0.68142083 0.60379006 0.51287563 0.65604477 0.70786804 0.27758014\n",
            "  0.38510757 0.24600474 0.56515126 0.27700542 0.2675367  0.53779284\n",
            "  0.41113928 0.33587687 0.53020652 0.79300285]\n",
            " [0.84181033 0.57164116 0.54390088 0.96674015 0.7149121  0.78549873\n",
            "  0.4292568  0.34739756 0.58035814 0.83497309 0.53692968 0.95030613\n",
            "  0.06554738 0.42810383 0.72126535 0.28549352 0.         0.30785219\n",
            "  0.60778315 0.74655027 0.26175377 0.6369587  1.04111163 0.79731662\n",
            "  0.38113203 0.05399795 0.09535698 0.40862207 0.93887778 0.93369391\n",
            "  0.26969975 0.91570472 1.01215178 0.97663384 0.0587124  0.22206442\n",
            "  0.94998373 0.81801349 0.75910716 0.93959834 0.41557974 0.24279445\n",
            "  0.12488951 0.5566693  0.41696127 0.7627085  0.69699196 0.48555075\n",
            "  0.55726815 0.87983145 0.35814441 1.01914709 0.74544612 0.69814878\n",
            "  0.242837   0.56058357 0.25567575 0.61543966 0.09092375 0.90523732\n",
            "  0.80641557 0.2499695  0.72000041 0.96549841 0.59998411 0.65173987\n",
            "  0.78925791 0.73108191 0.47899675 0.72941384 0.94750658 1.04992589\n",
            "  0.09546704 0.33498823 0.78794087 0.76528409 1.01538445 0.80526455\n",
            "  0.13085194 0.89728775 0.33922738 0.10237294 0.86155925 0.34841271\n",
            "  0.92874409 0.88064116 0.78846863 0.82464883 0.73411413 0.48247398\n",
            "  0.36699304 0.33544812 0.76663449 0.47655587 0.0738472  0.50302509\n",
            "  0.64127118 0.16861484 0.52947891 1.06410242]\n",
            " [0.56022232 0.3724441  0.23630472 0.70991122 0.43416726 0.48976259\n",
            "  0.23110778 0.25898352 0.29617431 0.54868561 0.34974265 0.65987783\n",
            "  0.31650633 0.3419891  0.41628412 0.04748355 0.30785219 0.\n",
            "  0.37446021 0.51102488 0.30866995 0.33243439 0.76944178 0.56652389\n",
            "  0.19268165 0.35402489 0.33027885 0.28030512 0.63180523 0.66325613\n",
            "  0.28541943 0.64438885 0.72250177 0.67477752 0.3122238  0.26467411\n",
            "  0.68649397 0.55900786 0.70689716 0.68491701 0.1107667  0.22897924\n",
            "  0.36325521 0.25593679 0.33066588 0.4557347  0.66798573 0.29001043\n",
            "  0.54101507 0.58206864 0.25232259 0.74039135 0.45860535 0.47299451\n",
            "  0.25483663 0.26076833 0.12435458 0.38089273 0.22000182 0.67495837\n",
            "  0.63217726 0.15940259 0.50488299 0.66273482 0.32681346 0.35613312\n",
            "  0.60509573 0.42579811 0.17432295 0.51767245 0.6398582  0.74808974\n",
            "  0.21314733 0.20379862 0.48297531 0.60431752 0.73198395 0.50287587\n",
            "  0.19965735 0.6366735  0.14607379 0.2148828  0.55445535 0.11702957\n",
            "  0.6924888  0.57369599 0.48186416 0.60861838 0.66724111 0.30915305\n",
            "  0.35617116 0.20950697 0.51869192 0.30979884 0.27899154 0.50628025\n",
            "  0.36663943 0.33413743 0.49462239 0.76002719]\n",
            " [0.27042209 0.0758649  0.29016291 0.35995707 0.17020354 0.27435253\n",
            "  0.55143576 0.62348155 0.46316363 0.27691658 0.64257202 0.38958945\n",
            "  0.57941199 0.69537404 0.29884951 0.42186089 0.60778315 0.37446021\n",
            "  0.         0.14017979 0.68269818 0.25999488 0.44197703 0.19404538\n",
            "  0.22665321 0.66167729 0.66723783 0.22991695 0.48089939 0.33659244\n",
            "  0.39334038 0.73647092 0.44407767 0.63735403 0.63820661 0.63701265\n",
            "  0.79109084 0.21514394 0.47232114 0.33245172 0.29617675 0.60323203\n",
            "  0.70343895 0.22520411 0.6855576  0.35045305 0.47197733 0.12928923\n",
            "  0.40884775 0.58988202 0.27325576 0.42909621 0.21034639 0.69182525\n",
            "  0.62887231 0.21957593 0.49881414 0.61117233 0.5443609  0.30331202\n",
            "  0.27722044 0.35788039 0.13212737 0.45716109 0.10984756 0.45224212\n",
            "  0.24477973 0.30749802 0.26746736 0.74502521 0.53646123 0.52554744\n",
            "  0.52202928 0.56616251 0.33852282 0.26492693 0.43322404 0.50235888\n",
            "  0.47722958 0.75674992 0.50117003 0.50714545 0.48557691 0.2733051\n",
            "  0.85196841 0.43224517 0.36014455 0.23422556 0.42446606 0.62377194\n",
            "  0.36023129 0.27894657 0.15948786 0.62886391 0.54541468 0.41670619\n",
            "  0.11672168 0.52546848 0.36263583 0.55346338]\n",
            " [0.19785326 0.18326211 0.38884366 0.22689358 0.17094093 0.25690019\n",
            "  0.67212598 0.75393396 0.55566839 0.21737406 0.75297675 0.30753088\n",
            "  0.71586951 0.82122097 0.32849408 0.55811274 0.74655027 0.51102488\n",
            "  0.14017979 0.         0.81969476 0.3252011  0.31896464 0.05588943\n",
            "  0.36571147 0.80051696 0.80732289 0.35573377 0.45332475 0.22112635\n",
            "  0.52103378 0.78168019 0.35059287 0.6423166  0.77804637 0.77494269\n",
            "  0.83740448 0.10264426 0.47504273 0.19879796 0.42443532 0.73997768\n",
            "  0.84354837 0.32333674 0.81202778 0.37034324 0.49622158 0.26260106\n",
            "  0.47145283 0.61689347 0.40314646 0.31654685 0.19808024 0.77968657\n",
            "  0.76586097 0.31672459 0.63514423 0.7068029  0.68443155 0.16403225\n",
            "  0.20078585 0.49660666 0.0617205  0.4044374  0.20342301 0.5265926\n",
            "  0.16519233 0.33380642 0.38510127 0.83285098 0.52400272 0.45604607\n",
            "  0.66182781 0.69665079 0.34222988 0.21488559 0.32816488 0.53667219\n",
            "  0.61633037 0.81020863 0.63108778 0.64648454 0.4949604  0.41317084\n",
            "  0.91379842 0.41691336 0.36965448 0.10827042 0.42845802 0.74045015\n",
            "  0.47292328 0.41440154 0.04304116 0.7465104  0.6827459  0.49429003\n",
            "  0.17855721 0.65601891 0.43310557 0.48974681]\n",
            " [0.85597069 0.67474741 0.50116328 1.01500564 0.73324709 0.77315897\n",
            "  0.25635656 0.13117709 0.4550392  0.84098683 0.32648915 0.94561337\n",
            "  0.32296494 0.18211348 0.68239228 0.26169034 0.26175377 0.30866995\n",
            "  0.68269818 0.81969476 0.         0.60521986 1.0682173  0.87518087\n",
            "  0.48149543 0.25906236 0.18547802 0.5501884  0.87689125 0.96385014\n",
            "  0.46888711 0.74138526 1.00792508 0.85664607 0.2093759  0.05154744\n",
            "  0.76486385 0.86477815 0.95838178 0.99073167 0.4047843  0.07982528\n",
            "  0.18699244 0.54301394 0.17327021 0.70932852 0.90568604 0.58849458\n",
            "  0.76712664 0.75253676 0.50702286 1.03520291 0.75271347 0.49440744\n",
            "  0.05384163 0.54902248 0.18479227 0.42869324 0.21859107 0.98361653\n",
            "  0.93263157 0.3806461  0.81217144 0.92656085 0.63190542 0.53738188\n",
            "  0.90769368 0.69020266 0.46057104 0.51345238 0.86232778 1.0123369\n",
            "  0.2478063  0.16260179 0.7458339  0.90056761 1.02335279 0.69601607\n",
            "  0.29598773 0.7115965  0.21593386 0.27337299 0.77324391 0.41461029\n",
            "  0.71935374 0.82203312 0.73671237 0.91657911 0.92546533 0.27390749\n",
            "  0.56707445 0.46880702 0.82669308 0.26500283 0.31054655 0.71889474\n",
            "  0.67032088 0.41512463 0.72961808 1.01706998]\n",
            " [0.26429453 0.32360948 0.10405778 0.44510146 0.16580537 0.16919796\n",
            "  0.39485159 0.50481204 0.23730703 0.24389264 0.44948242 0.34108917\n",
            "  0.63518349 0.55066751 0.08432218 0.36688379 0.6369587  0.33243439\n",
            "  0.25999488 0.3252011  0.60521986 0.         0.47548762 0.37359947\n",
            "  0.32818019 0.68523921 0.6620785  0.39757273 0.30415771 0.37881312\n",
            "  0.51993029 0.47653547 0.40307063 0.40051688 0.64464004 0.57260472\n",
            "  0.5310972  0.31174707 0.73095493 0.42655998 0.22206685 0.5294683\n",
            "  0.6941748  0.08356839 0.54398775 0.13005819 0.72514882 0.31211672\n",
            "  0.6431142  0.33718157 0.41559662 0.43670409 0.16539804 0.45558489\n",
            "  0.55526452 0.08174891 0.43243815 0.3873839  0.55157543 0.46063805\n",
            "  0.5169557  0.42373484 0.36034896 0.33038621 0.15051791 0.20143666\n",
            "  0.48154832 0.09426359 0.15833589 0.50853915 0.32797977 0.41594147\n",
            "  0.5414917  0.45219377 0.15098418 0.5158856  0.42143723 0.24779279\n",
            "  0.51646635 0.49725549 0.39068316 0.53836513 0.25456555 0.30826116\n",
            "  0.59500188 0.2459068  0.15360232 0.43188078 0.68330471 0.44926822\n",
            "  0.53407482 0.39292946 0.30484265 0.45720451 0.59702621 0.63697988\n",
            "  0.15239676 0.62272359 0.59348775 0.42769248]\n",
            " [0.2129944  0.49978546 0.5756627  0.10539115 0.335619   0.30998995\n",
            "  0.87033561 0.9774077  0.69919235 0.23159502 0.91771529 0.16237202\n",
            "  1.01815852 1.02615256 0.41767153 0.81276217 1.04111163 0.76944178\n",
            "  0.44197703 0.31896464 1.0682173  0.47548762 0.         0.2883478\n",
            "  0.66369944 1.09433289 1.0903516  0.66998527 0.36517297 0.10744157\n",
            "  0.83471783 0.78886457 0.13159081 0.57904287 1.06505608 1.02993802\n",
            "  0.84100442 0.22685951 0.73294774 0.13005507 0.6645544  0.98955744\n",
            "  1.12557138 0.52597398 1.01940732 0.42112504 0.7735126  0.57120457\n",
            "  0.77725535 0.6080358  0.71497777 0.05207016 0.31622495 0.88614107\n",
            "  1.01587499 0.51976251 0.88660459 0.83883208 0.96937321 0.22842901\n",
            "  0.42305048 0.7937938  0.3709496  0.27487028 0.4448079  0.63694408\n",
            "  0.40184029 0.41432806 0.6077116  0.93459788 0.4479799  0.25888504\n",
            "  0.9506332  0.92298184 0.37572817 0.46537493 0.08389356 0.56109184\n",
            "  0.91044367 0.83311178 0.85914425 0.93893495 0.47684645 0.69429189\n",
            "  0.94652805 0.37249577 0.4003573  0.30635943 0.69246241 0.92284458\n",
            "  0.7916064  0.72008469 0.28565013 0.93116802 0.9829189  0.80652148\n",
            "  0.40389871 0.9674454  0.74380069 0.29727344]\n",
            " [0.2086617  0.22854196 0.44203766 0.18873086 0.21290253 0.28628176\n",
            "  0.72736318 0.80981269 0.60687346 0.23278492 0.80675835 0.30525221\n",
            "  0.76471467 0.87685834 0.36875752 0.6136775  0.79731662 0.56652389\n",
            "  0.19404538 0.05588943 0.87518087 0.37359947 0.2883478  0.\n",
            "  0.41740001 0.85131395 0.85999736 0.40076873 0.47135663 0.20109852\n",
            "  0.56543408 0.82014525 0.33994454 0.66918293 0.8301711  0.83019617\n",
            "  0.87589373 0.10268479 0.46988913 0.16096094 0.48031064 0.79550016\n",
            "  0.89629502 0.37699382 0.86771328 0.40670079 0.4991572  0.31196259\n",
            "  0.48997526 0.65120286 0.44943912 0.29434562 0.2336591  0.82910701\n",
            "  0.82134135 0.37032537 0.69071668 0.75804882 0.73711032 0.10928043\n",
            "  0.1741694  0.54766871 0.08471967 0.41319774 0.25825784 0.57428499\n",
            "  0.14121941 0.37302191 0.44045663 0.882116   0.54633385 0.45551233\n",
            "  0.71394827 0.75253313 0.37457366 0.20034975 0.31088495 0.5740773\n",
            "  0.66758221 0.85087557 0.68696469 0.69797703 0.52535176 0.4673468\n",
            "  0.9563466  0.44049271 0.40293006 0.05958516 0.42508482 0.79515409\n",
            "  0.51108806 0.46345212 0.07008914 0.8013333  0.73230901 0.51818216\n",
            "  0.23118088 0.70131104 0.45553624 0.49130339]\n",
            " [0.47326865 0.19744666 0.27772693 0.58603866 0.35014203 0.43734489\n",
            "  0.41664825 0.45045232 0.41759286 0.47114386 0.52991949 0.58815264\n",
            "  0.35447647 0.53463904 0.4050621  0.23639629 0.38113203 0.19268165\n",
            "  0.22665321 0.36571147 0.48149543 0.32818019 0.66369944 0.41740001\n",
            "  0.         0.43503706 0.44306813 0.09427428 0.62290476 0.55670827\n",
            "  0.19380958 0.75337005 0.64782477 0.72456765 0.4127922  0.43221412\n",
            "  0.80238338 0.43847351 0.51737228 0.5587402  0.18250867 0.40515859\n",
            "  0.47944095 0.24758261 0.52326737 0.45617452 0.48348178 0.1093577\n",
            "  0.36562953 0.649152   0.09023591 0.64548677 0.38582005 0.62966587\n",
            "  0.42892714 0.24769442 0.30714472 0.53844277 0.32033944 0.52610187\n",
            "  0.45163943 0.13125215 0.34317175 0.62677352 0.2357811  0.44826505\n",
            "  0.42802209 0.41556212 0.2105973  0.67906518 0.65547356 0.70602038\n",
            "  0.29658837 0.39616095 0.46636433 0.41912674 0.64504164 0.56076813\n",
            "  0.25066095 0.7577108  0.33832871 0.28077571 0.58224609 0.07632668\n",
            "  0.83170232 0.56620692 0.47678058 0.44884362 0.47635967 0.49508557\n",
            "  0.21191809 0.06560657 0.3857007  0.4969799  0.3195868  0.34108667\n",
            "  0.27511762 0.31170268 0.31645465 0.72704182]\n",
            " [0.8941733  0.62558105 0.59029231 1.02048414 0.76714636 0.83610028\n",
            "  0.45461189 0.3608764  0.61678024 0.88688805 0.55627011 1.00187229\n",
            "  0.10479384 0.43514859 0.76943934 0.32770318 0.05399795 0.35402489\n",
            "  0.66167729 0.80051696 0.25906236 0.68523921 1.09433289 0.85131395\n",
            "  0.43503706 0.         0.07449503 0.4619614  0.98582967 0.98689906\n",
            "  0.31944005 0.94620789 1.06386874 1.01670881 0.05430189 0.22765225\n",
            "  0.97834719 0.8715868  0.80406289 0.99338069 0.46329171 0.25675918\n",
            "  0.09040934 0.6058748  0.42471994 0.80974285 0.74028578 0.53954468\n",
            "  0.60122341 0.91839209 0.41143286 1.07190857 0.79716895 0.7207583\n",
            "  0.25122948 0.60999424 0.28868954 0.64123008 0.13403113 0.95922932\n",
            "  0.85927546 0.30391846 0.7739566  1.0146468  0.65248402 0.69059213\n",
            "  0.84250087 0.7791284  0.52695774 0.74898659 0.99198402 1.09940389\n",
            "  0.14545146 0.35674243 0.83616442 0.81772589 1.06776404 0.84600744\n",
            "  0.18455356 0.92529704 0.36975934 0.15541309 0.90529416 0.40092889\n",
            "  0.95108101 0.92770919 0.83579447 0.87855445 0.78061488 0.50144793\n",
            "  0.41494603 0.38933507 0.82044788 0.49469545 0.12446159 0.54600811\n",
            "  0.6937917  0.20756953 0.57567601 1.1128218 ]\n",
            " [0.88528101 0.63897062 0.56295073 1.02198581 0.75817288 0.81960006\n",
            "  0.39635743 0.29382646 0.57044059 0.8757265  0.49179739 0.98865738\n",
            "  0.16064118 0.36391295 0.74541841 0.29622045 0.09535698 0.33027885\n",
            "  0.66723783 0.80732289 0.18547802 0.6620785  1.0903516  0.85999736\n",
            "  0.44306813 0.07449503 0.         0.484064   0.95753656 0.9831016\n",
            "  0.3577946  0.89063446 1.051148   0.97415266 0.03754633 0.15804896\n",
            "  0.92037815 0.87153404 0.85100918 0.99551359 0.44103185 0.19212182\n",
            "  0.03641416 0.58615968 0.35386349 0.78241672 0.79014723 0.55123215\n",
            "  0.65018022 0.87368389 0.43447242 1.06475058 0.78552184 0.65816493\n",
            "  0.18274465 0.59089208 0.2435252  0.58189907 0.12289837 0.96895559\n",
            "  0.88257879 0.31575692 0.78607128 0.99245027 0.64570747 0.647469\n",
            "  0.86325282 0.75469135 0.50444437 0.68388309 0.95787994 1.0780015\n",
            "  0.14737239 0.29643173 0.8119259  0.84349214 1.05837014 0.8052289\n",
            "  0.19832271 0.86709722 0.3187658  0.16726599 0.86994871 0.39740249\n",
            "  0.88762855 0.89993104 0.80909578 0.89162397 0.82459304 0.43704893\n",
            "  0.45685261 0.40631141 0.82368631 0.42970609 0.16544477 0.59660378\n",
            "  0.68683397 0.26395634 0.62064965 1.08901521]\n",
            " [0.49764633 0.17266463 0.36208321 0.58248104 0.38404635 0.4812852\n",
            "  0.50836699 0.53332221 0.50977814 0.50082117 0.6230567  0.61621191\n",
            "  0.36828034 0.62000409 0.46748748 0.32069786 0.40862207 0.28030512\n",
            "  0.22991695 0.35573377 0.5501884  0.39757273 0.66998527 0.40076873\n",
            "  0.09427428 0.4619614  0.484064   0.         0.67830026 0.56576122\n",
            "  0.16531821 0.84100252 0.6725285  0.79795169 0.45010331 0.49933085\n",
            "  0.89105669 0.44345292 0.42659778 0.55443459 0.27619792 0.47756886\n",
            "  0.52017453 0.32258559 0.60834611 0.52031186 0.38997437 0.10286394\n",
            "  0.27162972 0.72833269 0.0505641  0.65887469 0.42298907 0.72376182\n",
            "  0.49957608 0.32131463 0.38597794 0.63264796 0.36541275 0.50502275\n",
            "  0.39867191 0.17262681 0.31872748 0.67088055 0.27891196 0.53600107\n",
            "  0.38065489 0.47780269 0.29888173 0.77328798 0.71908979 0.74541823\n",
            "  0.33761693 0.48098329 0.52391849 0.35963957 0.66306391 0.63903403\n",
            "  0.28574137 0.84749288 0.42626625 0.31681079 0.65146147 0.16793162\n",
            "  0.92393809 0.62368109 0.53816424 0.42054407 0.387221   0.58686535\n",
            "  0.13900529 0.08154143 0.38463331 0.5883405  0.3387928  0.24972176\n",
            "  0.31247079 0.30059876 0.22225808 0.77008006]\n",
            " [0.26330319 0.55667847 0.39561761 0.40832391 0.31143786 0.20710823\n",
            "  0.63507088 0.76014139 0.43434585 0.23860371 0.64193535 0.20867659\n",
            "  0.9391379  0.78194372 0.22077465 0.66149426 0.93887778 0.63180523\n",
            "  0.48089939 0.45332475 0.87689125 0.30415771 0.36517297 0.47135663\n",
            "  0.62290476 0.98582967 0.95753656 0.67830026 0.         0.32991767\n",
            "  0.8166917  0.42701925 0.2366456  0.21570616 0.94293529 0.85197193\n",
            "  0.47763868 0.36944779 0.92670918 0.40874044 0.52336787 0.80722663\n",
            "  0.98789376 0.38729491 0.77858831 0.17616928 0.94111041 0.58040754\n",
            "  0.88965417 0.24824571 0.70527953 0.31310284 0.27199224 0.56546546\n",
            "  0.83156578 0.38470267 0.71931515 0.54208433 0.85180615 0.49818003\n",
            "  0.6454853  0.7269304  0.51251333 0.09162766 0.40005504 0.35399024\n",
            "  0.61186474 0.21043456 0.46026271 0.60752984 0.08367694 0.15458145\n",
            "  0.84352673 0.71545444 0.15664786 0.66715181 0.28190261 0.22389329\n",
            "  0.82029625 0.47407953 0.66229369 0.84154245 0.12858202 0.6114249\n",
            "  0.58759087 0.05832706 0.15076195 0.52505252 0.87946717 0.66408681\n",
            "  0.81730396 0.68850787 0.41218337 0.67389412 0.90096377 0.89629219\n",
            "  0.37104245 0.92540946 0.84348108 0.14540087]\n",
            " [0.11497993 0.39746388 0.47596602 0.08003725 0.23060688 0.22112915\n",
            "  0.77235789 0.87608103 0.60934738 0.13906348 0.82627497 0.12641222\n",
            "  0.91109718 0.92799715 0.32997911 0.70703268 0.93369391 0.66325613\n",
            "  0.33659244 0.22112635 0.96385014 0.37881312 0.10744157 0.20109852\n",
            "  0.55670827 0.98689906 0.9831016  0.56576122 0.32991767 0.\n",
            "  0.72989028 0.73583331 0.14281583 0.54454184 0.95767177 0.92475862\n",
            "  0.78995388 0.12271974 0.66576079 0.07935856 0.55945831 0.88486937\n",
            "  1.01838106 0.42325918 0.92080649 0.34298024 0.69902741 0.46586458\n",
            "  0.68941402 0.55582373 0.60984816 0.095425   0.21521367 0.80728262\n",
            "  0.91120666 0.41688439 0.78141738 0.75345908 0.86200846 0.17828097\n",
            "  0.3586279  0.68657506 0.27795554 0.25013069 0.33779225 0.55294156\n",
            "  0.33158133 0.32838125 0.50391063 0.85745215 0.41300037 0.26915829\n",
            "  0.84319851 0.8209962  0.29891158 0.39460099 0.10981272 0.49710191\n",
            "  0.80304676 0.77606896 0.75660309 0.83150451 0.42254119 0.58687373\n",
            "  0.88816575 0.32071303 0.32627859 0.2342372  0.62243992 0.82804751\n",
            "  0.69035047 0.61374719 0.18389122 0.83601609 0.87573125 0.71470672\n",
            "  0.29706461 0.86176946 0.65293803 0.30743961]\n",
            " [0.65697711 0.33786918 0.45809863 0.74779925 0.53813421 0.62945902\n",
            "  0.50765006 0.4914165  0.57117544 0.65776869 0.62843865 0.77433571\n",
            "  0.21750653 0.58241375 0.59835365 0.30628022 0.26969975 0.28541943\n",
            "  0.39334038 0.52103378 0.46888711 0.51993029 0.83471783 0.56543408\n",
            "  0.19380958 0.31944005 0.3577946  0.16531821 0.8166917  0.72989028\n",
            "  0.         0.91802859 0.83227507 0.91144723 0.32082882 0.41781611\n",
            "  0.9634131  0.60795641 0.49536192 0.7197518  0.34027246 0.40997844\n",
            "  0.39170522 0.43768278 0.57020718 0.64893413 0.43836193 0.26421129\n",
            "  0.29885944 0.8306091  0.12028088 0.82227238 0.57543422 0.75840314\n",
            "  0.42605733 0.43852689 0.34484223 0.66631072 0.25560342 0.66835956\n",
            "  0.54680693 0.12601716 0.48256885 0.81934952 0.42636247 0.61728708\n",
            "  0.53357052 0.60885819 0.38696368 0.80264327 0.84785566 0.89738752\n",
            "  0.22515602 0.44957126 0.66011922 0.50288148 0.82520027 0.74404256\n",
            "  0.17355462 0.9153533  0.41185027 0.19984247 0.77253005 0.22158996\n",
            "  0.9766265  0.75989777 0.67008535 0.58237511 0.46720113 0.58244585\n",
            "  0.09999541 0.12820525 0.54968188 0.58102677 0.1958978  0.25006782\n",
            "  0.46395241 0.1364505  0.26458757 0.91949038]\n",
            " [0.63943005 0.79884767 0.47954636 0.81579874 0.61075954 0.53846738\n",
            "  0.49453065 0.6105937  0.34852106 0.61093415 0.41907113 0.6275773\n",
            "  0.94508673 0.58019774 0.45323886 0.64444642 0.91570472 0.64438885\n",
            "  0.73647092 0.78168019 0.74138526 0.47653547 0.78886457 0.82014525\n",
            "  0.75337005 0.94620789 0.89063446 0.84100252 0.42701925 0.73583331\n",
            "  0.91802859 0.         0.66307703 0.23607549 0.89304415 0.74200113\n",
            "  0.05575528 0.73211673 1.20704402 0.80953492 0.579073   0.70112765\n",
            "  0.90910776 0.52873732 0.58369594 0.41364612 1.1981042  0.77422884\n",
            "  1.10528968 0.18096126 0.8426584  0.73706343 0.58648693 0.26030466\n",
            "  0.71665354 0.53213204 0.66002902 0.31270512 0.82652343 0.88096282\n",
            "  0.9815006  0.79613535 0.8271532  0.51859682 0.62703275 0.30517617\n",
            "  0.94571052 0.44792862 0.54290471 0.26989557 0.34938312 0.56963297\n",
            "  0.83372782 0.59496115 0.44932903 0.9867451  0.706958   0.24625701\n",
            "  0.83733045 0.05430102 0.5768974  0.84457934 0.31375224 0.69981488\n",
            "  0.16263339 0.41754916 0.42036477 0.87956941 1.15952061 0.4684806\n",
            "  0.9638919  0.80789907 0.75065917 0.47793193 0.91061668 1.09032542\n",
            "  0.6252063  0.97798769 1.05495984 0.54522932]\n",
            " [0.17529859 0.5131567  0.50702255 0.2022569  0.29860881 0.23487624\n",
            "  0.79190111 0.90680875 0.60750414 0.17751323 0.82587699 0.06266559\n",
            "  0.99716763 0.94663966 0.33139609 0.76217861 1.01215178 0.72250177\n",
            "  0.44407767 0.35059287 1.00792508 0.40307063 0.13159081 0.33994454\n",
            "  0.64782477 1.06386874 1.051148   0.6725285  0.2366456  0.14281583\n",
            "  0.83227507 0.66307703 0.         0.44852287 1.02933201 0.97389286\n",
            "  0.71418107 0.24794998 0.80776716 0.21448922 0.61298151 0.93140773\n",
            "  1.08506898 0.46824502 0.94102244 0.3214855  0.83910085 0.56991405\n",
            "  0.82203181 0.483057   0.71234079 0.08081479 0.26671298 0.77798242\n",
            "  0.95739765 0.46284609 0.83201232 0.73877326 0.93381483 0.3183476\n",
            "  0.50139421 0.77261954 0.41086589 0.14521555 0.41422086 0.53793525\n",
            "  0.47390684 0.32554727 0.55158135 0.82434883 0.31830107 0.132207\n",
            "  0.91847421 0.85499616 0.277111   0.53661024 0.04820263 0.44374237\n",
            "  0.88358487 0.70899508 0.79375175 0.91002917 0.35471274 0.66432711\n",
            "  0.82259791 0.25167048 0.297123   0.37676907 0.76396059 0.83702207\n",
            "  0.8042245  0.70956374 0.30916383 0.84596695 0.96030707 0.84339285\n",
            "  0.37353834 0.95894091 0.78301554 0.17124873]\n",
            " [0.46715344 0.70976429 0.45445185 0.62351993 0.48057431 0.38541643\n",
            "  0.6005466  0.72824143 0.40505543 0.43994899 0.56640533 0.42437964\n",
            "  0.99118792 0.72450999 0.33958155 0.691242   0.97663384 0.67477752\n",
            "  0.63735403 0.6423166  0.85664607 0.40051688 0.57904287 0.66918293\n",
            "  0.72456765 1.01670881 0.97415266 0.79795169 0.21570616 0.54454184\n",
            "  0.91144723 0.23607549 0.44852287 0.         0.96760054 0.8437524\n",
            "  0.27860082 0.57062533 1.1040475  0.62277551 0.58074884 0.79926967\n",
            "  0.99938498 0.47728898 0.72450638 0.2870628  1.10904937 0.71125191\n",
            "  1.03903671 0.10498417 0.8137127  0.52708253 0.44635642 0.44327862\n",
            "  0.82011542 0.47772931 0.73091837 0.4546879  0.885865   0.70823629\n",
            "  0.84115205 0.80294098 0.69713372 0.30421075 0.537564   0.32671629\n",
            "  0.80623806 0.33038612 0.52609174 0.47220244 0.1320307  0.34121892\n",
            "  0.88496302 0.69601309 0.30292853 0.85677961 0.49525308 0.17190266\n",
            "  0.87416149 0.28915175 0.65751303 0.88924335 0.15178267 0.69150862\n",
            "  0.39789351 0.22996761 0.27831428 0.72595476 1.05613068 0.60372898\n",
            "  0.93357679 0.78757246 0.60440146 0.61396538 0.95376562 1.03616526\n",
            "  0.52070531 0.99973545 0.99016316 0.31329867]\n",
            " [0.86176602 0.60750762 0.54744008 0.99465353 0.73456719 0.79925053\n",
            "  0.40073231 0.30688977 0.56604124 0.85313251 0.50197318 0.96701225\n",
            "  0.12425901 0.38250864 0.72850078 0.28205223 0.0587124  0.3122238\n",
            "  0.63820661 0.77804637 0.2093759  0.64464004 1.06505608 0.8301711\n",
            "  0.4127922  0.05430189 0.03754633 0.45010331 0.94293529 0.95767177\n",
            "  0.32082882 0.89304415 1.02933201 0.96760054 0.         0.17479756\n",
            "  0.92470634 0.84464461 0.81359844 0.96794481 0.42269946 0.20258159\n",
            "  0.07110392 0.5669649  0.37188136 0.76718575 0.75261922 0.52011822\n",
            "  0.61266308 0.86844131 0.4001926  1.04066802 0.76304493 0.66650684\n",
            "  0.19782752 0.57142193 0.23753969 0.58728957 0.09580199 0.93888317\n",
            "  0.84877385 0.28382785 0.75514171 0.97485627 0.62107785 0.64105821\n",
            "  0.83004765 0.73798759 0.48640677 0.69469656 0.9463745  1.06008099\n",
            "  0.1162315  0.30255653 0.79518097 0.80911    1.03517875 0.79749301\n",
            "  0.16483465 0.8716054  0.31724121 0.13374241 0.85908114 0.37090229\n",
            "  0.89680105 0.8850274  0.79357132 0.86050123 0.78738334 0.44715281\n",
            "  0.41966659 0.3733947  0.79560608 0.44042169 0.12790317 0.55905815\n",
            "  0.6623358  0.22694856 0.58331295 1.07224976]\n",
            " [0.81850452 0.62662293 0.468878   0.97383219 0.69440508 0.73903987\n",
            "  0.24895066 0.13644352 0.43920839 0.80458475 0.33543798 0.91136392\n",
            "  0.28019057 0.20771109 0.65182142 0.21868545 0.22206442 0.26467411\n",
            "  0.63701265 0.77494269 0.05154744 0.57260472 1.02993802 0.83019617\n",
            "  0.43221412 0.22765225 0.15804896 0.49933085 0.85197193 0.92475862\n",
            "  0.41781611 0.74200113 0.97389286 0.8437524  0.17479756 0.\n",
            "  0.76887598 0.82315198 0.90684042 0.94912509 0.36539108 0.04501066\n",
            "  0.16906462 0.50670293 0.1971245  0.68157573 0.85427876 0.5398775\n",
            "  0.71583526 0.74069758 0.455798   0.99831812 0.71554122 0.50284024\n",
            "  0.02550544 0.51248361 0.14334829 0.43035171 0.16984498 0.93897048\n",
            "  0.88373629 0.32931365 0.76558102 0.89776755 0.59046268 0.52025233\n",
            "  0.85929108 0.66005268 0.42356565 0.52671431 0.84187108 0.98373348\n",
            "  0.19832936 0.14908093 0.71638956 0.85101664 0.98757448 0.67950398\n",
            "  0.24532625 0.71549888 0.19031672 0.22369935 0.75282813 0.36689571\n",
            "  0.73125623 0.79613036 0.70890498 0.87039796 0.87393125 0.28099461\n",
            "  0.51576509 0.41787456 0.78335569 0.2731851  0.26461203 0.66787381\n",
            "  0.6295819  0.36850701 0.67814395 0.99014349]\n",
            " [0.69452746 0.85276909 0.53058668 0.86996458 0.6664773  0.5940038\n",
            "  0.52424591 0.63516317 0.39234893 0.66603271 0.43916901 0.68025994\n",
            "  0.98198708 0.59756841 0.5089452  0.68383499 0.94998373 0.68649397\n",
            "  0.79109084 0.83740448 0.76486385 0.5310972  0.84100442 0.87589373\n",
            "  0.80238338 0.97834719 0.92037815 0.89105669 0.47763868 0.78995388\n",
            "  0.9634131  0.05575528 0.71418107 0.27860082 0.92470634 0.76887598\n",
            "  0.         0.78768767 1.26110589 0.8641043  0.62599231 0.7293341\n",
            "  0.93719054 0.58144236 0.60209743 0.4693657  1.25124724 0.82638954\n",
            "  1.15673296 0.23425207 0.89119429 0.78908632 0.64223628 0.27373892\n",
            "  0.74339689 0.58502344 0.69470545 0.33870532 0.86178007 0.93632186\n",
            "  1.0371703  0.84039864 0.88271353 0.56925733 0.68151264 0.35516916\n",
            "  1.0013795  0.50366927 0.59237468 0.27242875 0.39823725 0.61702201\n",
            "  0.87046031 0.62395527 0.50481962 1.04219484 0.75864859 0.30195789\n",
            "  0.87659976 0.05337781 0.61077181 0.88242416 0.36748809 0.74681355\n",
            "  0.12280765 0.47075736 0.47586514 0.9353128  1.21365885 0.49095651\n",
            "  1.01204498 0.85562289 0.80641393 0.49993901 0.94826969 1.14065207\n",
            "  0.68032664 1.0188783  1.10638786 0.59104619]\n",
            " [0.10624766 0.27475118 0.39634799 0.15107949 0.14646134 0.19372682\n",
            "  0.69154715 0.78609671 0.54905252 0.13142857 0.75887609 0.20645549\n",
            "  0.79280761 0.84533381 0.28856225 0.60446787 0.81801349 0.55900786\n",
            "  0.21514394 0.10264426 0.86477815 0.31174707 0.22685951 0.10268479\n",
            "  0.43847351 0.8715868  0.87153404 0.44345292 0.36944779 0.12271974\n",
            "  0.60795641 0.73211673 0.24794998 0.57062533 0.84464461 0.82315198\n",
            "  0.78768767 0.         0.57009033 0.12598247 0.46079118 0.78511167\n",
            "  0.90725386 0.33610632 0.83717182 0.31948607 0.59557714 0.34434643\n",
            "  0.57409478 0.55896096 0.48813605 0.21740727 0.15250727 0.76312559\n",
            "  0.81139207 0.32938833 0.68047524 0.69876576 0.74942856 0.15204334\n",
            "  0.27662889 0.56926942 0.16326046 0.31069599 0.2328736  0.50579909\n",
            "  0.24390327 0.29091441 0.4109113  0.81534511 0.44573409 0.35614037\n",
            "  0.72922948 0.7296617  0.2829968  0.30231175 0.22661955 0.48609293\n",
            "  0.68716351 0.76589911 0.66424596 0.71626518 0.43007449 0.47413786\n",
            "  0.87404033 0.34094807 0.31190169 0.1558988  0.52450383 0.75370828\n",
            "  0.56768189 0.49362206 0.06207627 0.76082956 0.75805443 0.59636073\n",
            "  0.19520969 0.74060111 0.53548689 0.39098652]\n",
            " [0.67228369 0.4084034  0.74085504 0.62782278 0.62393901 0.72383342\n",
            "  0.93400736 0.95720798 0.90837634 0.69241364 1.04647783 0.77511335\n",
            "  0.69927546 1.04526016 0.76933    0.746529   0.75910716 0.70689716\n",
            "  0.47232114 0.47504273 0.95838178 0.73095493 0.73294774 0.46988913\n",
            "  0.51737228 0.80406289 0.85100918 0.42659778 0.92670918 0.66576079\n",
            "  0.49536192 1.20704402 0.80776716 1.1040475  0.81359844 0.90684042\n",
            "  1.26110589 0.57009033 0.         0.60548327 0.68994552 0.89211906\n",
            "  0.88355511 0.68266293 1.03345517 0.81939364 0.07460657 0.44829287\n",
            "  0.20357923 1.06186312 0.45916807 0.75279467 0.66000732 1.13310985\n",
            "  0.91154886 0.67837199 0.80820163 1.04481153 0.75039273 0.50462809\n",
            "  0.31000793 0.58087537 0.41455102 0.87906509 0.58056421 0.91397318\n",
            "  0.33428934 0.77739119 0.69411189 1.18471421 0.99347635 0.9253616\n",
            "  0.7199852  0.90633422 0.8013447  0.27118149 0.77430617 0.97465108\n",
            "  0.6674367  1.22448173 0.85279827 0.69492743 0.95281659 0.59330619\n",
            "  1.31443369 0.88636895 0.82580577 0.43177568 0.04797775 1.01245598\n",
            "  0.39537428 0.50128122 0.51755183 1.01427839 0.68605538 0.2602859\n",
            "  0.58766302 0.59794052 0.23078889 0.96087359]\n",
            " [0.17436636 0.38205769 0.5171955  0.02813414 0.26592626 0.28248149\n",
            "  0.81371874 0.91085363 0.66221638 0.20208043 0.87600844 0.20554111\n",
            "  0.91180957 0.96829474 0.38888162 0.73043987 0.93959834 0.68491701\n",
            "  0.33245172 0.19879796 0.99073167 0.42655998 0.13005507 0.16096094\n",
            "  0.5587402  0.99338069 0.99551359 0.55443459 0.40874044 0.07935856\n",
            "  0.7197518  0.80953492 0.21448922 0.62277551 0.96794481 0.94912509\n",
            "  0.8641043  0.12598247 0.60548327 0.         0.58657623 0.91107875\n",
            "  1.03138744 0.45915276 0.96040662 0.4086672  0.6442116  0.45952565\n",
            "  0.647732   0.63045531 0.6014586  0.14835704 0.26145847 0.86824988\n",
            "  0.93736292 0.45250034 0.80645614 0.80958289 0.87307859 0.10463074\n",
            "  0.29558375 0.68997266 0.24519042 0.32946645 0.35883872 0.61166864\n",
            "  0.27268127 0.38881489 0.53574564 0.91938556 0.49154532 0.34473512\n",
            "  0.85215222 0.85463858 0.36628298 0.3363305  0.17345362 0.56804415\n",
            "  0.80882731 0.84830421 0.78935254 0.8383653  0.49738434 0.59824163\n",
            "  0.95959754 0.39709044 0.39458878 0.17648988 0.56409282 0.87369357\n",
            "  0.67028126 0.61086131 0.17304798 0.88114914 0.87785932 0.67808515\n",
            "  0.32080752 0.85446991 0.6151161  0.38347183]\n",
            " [0.45347636 0.31353923 0.13010649 0.61049853 0.32901972 0.3795132\n",
            "  0.25799144 0.32950502 0.23657638 0.4405539  0.36010425 0.55031937\n",
            "  0.41781849 0.39920083 0.30617356 0.14936162 0.41557974 0.1107667\n",
            "  0.29617675 0.42443532 0.4047843  0.22206685 0.6645544  0.48031064\n",
            "  0.18250867 0.46329171 0.44103185 0.27619792 0.52336787 0.55945831\n",
            "  0.34027246 0.579073   0.61298151 0.58074884 0.42269946 0.36539108\n",
            "  0.62599231 0.46079118 0.68994552 0.58657623 0.         0.32551568\n",
            "  0.47385473 0.14537678 0.3894336  0.34721426 0.66179947 0.24539708\n",
            "  0.54782738 0.49392528 0.26753826 0.63353473 0.35089486 0.44780912\n",
            "  0.35185647 0.15039918 0.22205077 0.35719584 0.32953037 0.58637166\n",
            "  0.56855108 0.22349518 0.42819485 0.55215717 0.22834378 0.27701498\n",
            "  0.53821651 0.31583786 0.06373531 0.49785107 0.53575759 0.63741906\n",
            "  0.32018033 0.2722448  0.37290073 0.54762197 0.62389729 0.40998121\n",
            "  0.29888997 0.57956501 0.2066546  0.31860054 0.45249777 0.12082547\n",
            "  0.64998878 0.46510169 0.37289017 0.52764926 0.64646643 0.33343595\n",
            "  0.38688662 0.23008981 0.42615518 0.33741403 0.3796934  0.52325989\n",
            "  0.26581405 0.41898757 0.49834707 0.64975906]\n",
            " [0.77761806 0.59673131 0.42556493 0.93543844 0.65431061 0.69653325\n",
            "  0.20688765 0.10480157 0.3945332  0.76313025 0.30004308 0.86895433\n",
            "  0.29535919 0.18741656 0.60809199 0.18190308 0.24279445 0.22897924\n",
            "  0.60323203 0.73997768 0.07982528 0.5294683  0.98955744 0.79550016\n",
            "  0.40515859 0.25675918 0.19212182 0.47756886 0.80722663 0.88486937\n",
            "  0.40997844 0.70112765 0.93140773 0.79926967 0.20258159 0.04501066\n",
            "  0.7293341  0.78511167 0.89211906 0.91107875 0.32551568 0.\n",
            "  0.20802002 0.4650871  0.17579852 0.63721488 0.84222506 0.51107458\n",
            "  0.70519624 0.69641453 0.43640018 0.95715026 0.67446652 0.46604926\n",
            "  0.02634092 0.47098798 0.10496838 0.39063451 0.17592154 0.90387069\n",
            "  0.8552971  0.31149153 0.73303181 0.85366843 0.55224042 0.47539981\n",
            "  0.8298205  0.61621466 0.38225667 0.49253938 0.79686179 0.93960782\n",
            "  0.20100287 0.10639826 0.67239564 0.82418774 0.94585255 0.63465598\n",
            "  0.24188838 0.67598896 0.14533917 0.22494888 0.70781775 0.336543\n",
            "  0.69567229 0.75149895 0.66456208 0.83723745 0.8575768  0.24522541\n",
            "  0.5055485  0.39676372 0.746868   0.23817207 0.27457458 0.65933408\n",
            "  0.59080446 0.37556288 0.66548016 0.94569825]\n",
            " [0.91992203 0.6753846  0.59417969 1.05779958 0.79288894 0.85296592\n",
            "  0.41467612 0.30527947 0.59476304 0.91001719 0.50443258 1.0225234\n",
            "  0.18835087 0.36875263 0.7771772  0.32752653 0.12488951 0.36325521\n",
            "  0.70343895 0.84354837 0.18699244 0.6941748  1.12557138 0.89629502\n",
            "  0.47944095 0.09040934 0.03641416 0.52017453 0.98789376 1.01838106\n",
            "  0.39170522 0.90910776 1.08506898 0.99938498 0.07110392 0.16906462\n",
            "  0.93719054 0.90725386 0.88355511 1.03138744 0.47385473 0.20802002\n",
            "  0.         0.61917097 0.35944416 0.81324829 0.82182047 0.58764139\n",
            "  0.68203054 0.89808906 0.47048097 1.09955831 0.81979978 0.67190485\n",
            "  0.19453101 0.62402336 0.27071182 0.59849389 0.15918778 1.00527754\n",
            "  0.91875438 0.35215017 0.82246833 1.02440927 0.68082122 0.67302145\n",
            "  0.89954856 0.7863321  0.5370227  0.69523322 0.98639567 1.11009311\n",
            "  0.18376269 0.31417521 0.84354541 0.87949691 1.09284584 0.83144442\n",
            "  0.2344638  0.88382863 0.34223048 0.20337046 0.8981359  0.433181\n",
            "  0.90013522 0.93049455 0.84006645 0.92802805 0.85787307 0.45004882\n",
            "  0.49025889 0.44262241 0.85969336 0.44217448 0.19750694 0.62790282\n",
            "  0.72188758 0.29243173 0.65355112 1.12050048]\n",
            " [0.31321696 0.27546359 0.06616907 0.48098307 0.19407961 0.23423397\n",
            "  0.3555096  0.45309631 0.23830856 0.29804717 0.42976985 0.40558811\n",
            "  0.55283047 0.5093208  0.16666478 0.29407357 0.5566693  0.25593679\n",
            "  0.22520411 0.32333674 0.54301394 0.08356839 0.52597398 0.37699382\n",
            "  0.24758261 0.6058748  0.58615968 0.32258559 0.38729491 0.42325918\n",
            "  0.43768278 0.52873732 0.46824502 0.47728898 0.5669649  0.50670293\n",
            "  0.58144236 0.33610632 0.68266293 0.45915276 0.14537678 0.4650871\n",
            "  0.61917097 0.         0.50130301 0.21361562 0.66994022 0.24598961\n",
            "  0.57816099 0.40584873 0.33642773 0.49218945 0.20987889 0.46675881\n",
            "  0.49130028 0.00675628 0.36412    0.3876701  0.47282778 0.47535757\n",
            "  0.4989686  0.34017215 0.34504572 0.40884939 0.12198438 0.23136567\n",
            "  0.46492247 0.17691315 0.08336061 0.52000444 0.41089668 0.49353798\n",
            "  0.46129367 0.39775899 0.23262468 0.48993787 0.48087457 0.31646643\n",
            "  0.43438797 0.54262441 0.33338484 0.45707244 0.33502569 0.22469281\n",
            "  0.63212599 0.32913911 0.23700514 0.43145963 0.63581366 0.41958208\n",
            "  0.45651754 0.31151133 0.3135984  0.42624577 0.51472028 0.56739892\n",
            "  0.1462469  0.53915657 0.52797538 0.50752608]\n",
            " [0.80737249 0.69674535 0.44488029 0.98187292 0.69479622 0.7118226\n",
            "  0.14935376 0.07880313 0.34424306 0.78783671 0.16481037 0.88073737\n",
            "  0.47109914 0.01221251 0.60965042 0.28775158 0.41696127 0.33066588\n",
            "  0.6855576  0.81202778 0.17327021 0.54398775 1.01940732 0.86771328\n",
            "  0.52326737 0.42471994 0.35386349 0.60834611 0.77858831 0.92080649\n",
            "  0.57020718 0.58369594 0.94102244 0.72450638 0.37188136 0.1971245\n",
            "  0.60209743 0.83717182 1.03345517 0.96040662 0.3894336  0.17579852\n",
            "  0.35944416 0.50130301 0.         0.6250686  0.98976855 0.61831104\n",
            "  0.85674544 0.61955018 0.57451226 0.9803503  0.70559857 0.32869831\n",
            "  0.17444853 0.50798037 0.22746871 0.27549352 0.35108467 0.97171357\n",
            "  0.95535494 0.45811562 0.81761835 0.84070509 0.61093334 0.42540736\n",
            "  0.92611595 0.61554596 0.42822881 0.34277428 0.75037139 0.924357\n",
            "  0.37469468 0.1273807  0.66665711 0.93090701 0.9637074  0.57642103\n",
            "  0.4108232  0.54937372 0.18705086 0.39752357 0.66298938 0.44765351\n",
            "  0.54880899 0.72818096 0.65178556 0.91660134 0.99536309 0.12080593\n",
            "  0.66042421 0.53219598 0.80993628 0.11058236 0.45003075 0.81504564\n",
            "  0.64391632 0.54969355 0.81356852 0.92314934]\n",
            " [0.234355   0.42271997 0.21974601 0.42004889 0.20082158 0.12748906\n",
            "  0.47733323 0.59805919 0.28651581 0.20664082 0.50446884 0.26544547\n",
            "  0.76349664 0.62986612 0.05332553 0.48620679 0.7627085  0.4557347\n",
            "  0.35045305 0.37034324 0.70932852 0.13005819 0.42112504 0.40670079\n",
            "  0.45617452 0.80974285 0.78241672 0.52031186 0.17616928 0.34298024\n",
            "  0.64893413 0.41364612 0.3214855  0.2870628  0.76718575 0.68157573\n",
            "  0.4693657  0.31948607 0.81939364 0.4086672  0.34721426 0.63721488\n",
            "  0.81324829 0.21361562 0.6250686  0.         0.82236646 0.4284084\n",
            "  0.75291126 0.2468778  0.54202018 0.37438534 0.17320723 0.46566719\n",
            "  0.662155   0.21172272 0.54610258 0.41883519 0.67573213 0.47011556\n",
            "  0.571075   0.55374455 0.4198666  0.21764221 0.25138336 0.21710143\n",
            "  0.5353959  0.04355084 0.28421406 0.51507659 0.19944441 0.30312949\n",
            "  0.66736055 0.55001701 0.0454266  0.58060343 0.35163492 0.16742457\n",
            "  0.64457251 0.44641571 0.4935137  0.66551495 0.13544867 0.43829819\n",
            "  0.55494531 0.11796894 0.0273839  0.4660339  0.77141858 0.51727591\n",
            "  0.6584462  0.521385   0.33753514 0.52646863 0.72531404 0.75213989\n",
            "  0.23374308 0.75276897 0.7044148  0.30866448]\n",
            " [0.69386991 0.40204943 0.72454778 0.66813992 0.63272954 0.73533407\n",
            "  0.8978212  0.91243729 0.88754779 0.7118051  1.01303093 0.80201016\n",
            "  0.63571519 1.00173873 0.77080245 0.70513389 0.69699196 0.66798573\n",
            "  0.47197733 0.49622158 0.90568604 0.72514882 0.7735126  0.4991572\n",
            "  0.48348178 0.74028578 0.79014723 0.38997437 0.94111041 0.69902741\n",
            "  0.43836193 1.1981042  0.83910085 1.10904937 0.75261922 0.85427876\n",
            "  1.25124724 0.59557714 0.07460657 0.6442116  0.66179947 0.84222506\n",
            "  0.82182047 0.66994022 0.98976855 0.82236646 0.         0.42770116\n",
            "  0.14007831 1.06035156 0.41641376 0.78925646 0.67059352 1.10869462\n",
            "  0.86050195 0.66624334 0.76289679 1.01882383 0.69393001 0.54699895\n",
            "  0.35263296 0.53301361 0.43455484 0.89983832 0.57645599 0.89976093\n",
            "  0.37167342 0.77947431 0.67251764 1.1593787  1.00384416 0.95160799\n",
            "  0.66348708 0.86343186 0.80820739 0.30817201 0.80863243 0.97185753\n",
            "  0.61177054 1.21237306 0.81278183 0.63808918 0.95727923 0.55788904\n",
            "  1.29814682 0.89751088 0.83115473 0.46799811 0.08805849 0.97627849\n",
            "  0.33891631 0.45921489 0.5392571  0.97743827 0.6247311  0.19427905\n",
            "  0.5886903  0.53310049 0.17683283 0.98583578]\n",
            " [0.3949036  0.08811528 0.297208   0.48732293 0.28172238 0.38043981\n",
            "  0.49960257 0.54872147 0.46072311 0.397969   0.60542092 0.51337629\n",
            "  0.45328824 0.62920943 0.37511427 0.33636628 0.48555075 0.29001043\n",
            "  0.12928923 0.26260106 0.58849458 0.31211672 0.57120457 0.31196259\n",
            "  0.1093577  0.53954468 0.55123215 0.10286394 0.58040754 0.46586458\n",
            "  0.26421129 0.77422884 0.56991405 0.71125191 0.52011822 0.5398775\n",
            "  0.82638954 0.34434643 0.44829287 0.45952565 0.24539708 0.51107458\n",
            "  0.58764139 0.24598961 0.61831104 0.4284084  0.42770116 0.\n",
            "  0.3323758  0.64844204 0.14401481 0.55806125 0.32098543 0.68482301\n",
            "  0.53543829 0.24316471 0.4104097  0.59684484 0.42880565 0.41968965\n",
            "  0.34422708 0.23650163 0.23502985 0.56942446 0.18046724 0.47290569\n",
            "  0.31944868 0.38516097 0.24596383 0.73650925 0.62529291 0.64305675\n",
            "  0.40419096 0.49278215 0.4280076  0.3144228  0.56130523 0.55882053\n",
            "  0.3563833  0.78602215 0.431348   0.38705775 0.56209007 0.17499656\n",
            "  0.87045235 0.52701143 0.44428035 0.34042759 0.40346427 0.57675378\n",
            "  0.2393329  0.15180813 0.28742192 0.57998043 0.42043585 0.32500398\n",
            "  0.21139612 0.39627935 0.28232113 0.66824453]\n",
            " [0.66128693 0.33328206 0.62616427 0.67424779 0.57840004 0.68278693\n",
            "  0.77207885 0.77876804 0.78048616 0.6745076  0.88961014 0.77687651\n",
            "  0.4965084  0.86881712 0.69984229 0.57534038 0.55726815 0.54101507\n",
            "  0.40884775 0.47145283 0.76712664 0.6431142  0.77725535 0.48997526\n",
            "  0.36562953 0.60122341 0.65018022 0.27162972 0.88965417 0.68941402\n",
            "  0.29885944 1.10528968 0.82203181 1.03903671 0.61266308 0.71583526\n",
            "  1.15673296 0.57409478 0.20357923 0.647732   0.54782738 0.70519624\n",
            "  0.68203054 0.57816099 0.85674544 0.75291126 0.14007831 0.3323758\n",
            "  0.         0.98015799 0.28902602 0.78387942 0.61824555 0.99529539\n",
            "  0.72279598 0.57548273 0.62931603 0.90400821 0.55424701 0.56214493\n",
            "  0.38179438 0.39866846 0.41188134 0.8608838  0.50160159 0.80189778\n",
            "  0.3885109  0.70936544 0.56738793 1.04458418 0.94427856 0.92231869\n",
            "  0.5238182  0.73145057 0.74573142 0.33179034 0.79835826 0.89060527\n",
            "  0.47240419 1.11485199 0.68365834 0.49835581 0.88816203 0.43638074\n",
            "  1.19432307 0.84091143 0.7655998  0.47470627 0.1871338  0.85016148\n",
            "  0.20007552 0.33165149 0.51307207 0.85064633 0.48480114 0.05724819\n",
            "  0.52222089 0.39458902 0.05034596 0.95350877]\n",
            " [0.46255148 0.65832265 0.37291129 0.63585243 0.44768833 0.36573158\n",
            "  0.49626309 0.6237218  0.30334643 0.43412335 0.46199002 0.4466222\n",
            "  0.8973693  0.61961539 0.29352437 0.59526549 0.87983145 0.58206864\n",
            "  0.58988202 0.61689347 0.75253676 0.33718157 0.6080358  0.65120286\n",
            "  0.649152   0.91839209 0.87368389 0.72833269 0.24824571 0.55582373\n",
            "  0.8306091  0.18096126 0.483057   0.10498417 0.86844131 0.74069758\n",
            "  0.23425207 0.55896096 1.06186312 0.63045531 0.49392528 0.69641453\n",
            "  0.89808906 0.40584873 0.61955018 0.2468778  1.06035156 0.64844204\n",
            "  0.98015799 0.         0.73925246 0.55629909 0.41904768 0.34532397\n",
            "  0.71682895 0.40746289 0.63111611 0.35065662 0.78891472 0.70536241\n",
            "  0.81767895 0.71739861 0.66668798 0.33937039 0.48391437 0.2280921\n",
            "  0.78205178 0.28628181 0.44366733 0.37880621 0.17568896 0.39616103\n",
            "  0.78954386 0.59248478 0.27674069 0.82740757 0.52640417 0.08963117\n",
            "  0.78169903 0.22600947 0.55587632 0.79518335 0.13328447 0.60914903\n",
            "  0.33960308 0.23663984 0.248273   0.71004697 1.01392461 0.49878553\n",
            "  0.86053363 0.71000503 0.58290797 0.50902362 0.86038653 0.97246017\n",
            "  0.47422138 0.91160464 0.93041096 0.37571433]\n",
            " [0.5370658  0.2209132  0.36794939 0.62942088 0.41952416 0.51321747\n",
            "  0.48320681 0.49804481 0.50404444 0.538446   0.60059785 0.65476557\n",
            "  0.31789682 0.58637646 0.49006743 0.28873979 0.35814441 0.25232259\n",
            "  0.27325576 0.40314646 0.50702286 0.41559662 0.71497777 0.44943912\n",
            "  0.09023591 0.41143286 0.43447242 0.0505641  0.70527953 0.60984816\n",
            "  0.12028088 0.8426584  0.71234079 0.8137127  0.4001926  0.455798\n",
            "  0.89119429 0.48813605 0.45916807 0.6014586  0.26753826 0.43640018\n",
            "  0.47048097 0.33642773 0.57451226 0.54202018 0.41641376 0.14401481\n",
            "  0.28902602 0.73925246 0.         0.70204186 0.45744825 0.71064625\n",
            "  0.45747749 0.33614577 0.34910149 0.61868876 0.31684727 0.55449474\n",
            "  0.44874479 0.12671756 0.36812034 0.70328696 0.30970346 0.53774311\n",
            "  0.43111383 0.50052293 0.30035239 0.75877012 0.74145708 0.77996684\n",
            "  0.28857135 0.4476349  0.54940377 0.40902193 0.70493074 0.65073525\n",
            "  0.2362397  0.84590972 0.39641707 0.26722448 0.67012083 0.14974988\n",
            "  0.91743512 0.64944587 0.56154768 0.47057273 0.42237555 0.56141578\n",
            "  0.12172548 0.04286134 0.43042418 0.56212049 0.28823157 0.25782487\n",
            "  0.34601481 0.25304158 0.24229981 0.80313037]\n",
            " [0.18018358 0.4919427  0.53862125 0.13032566 0.30672667 0.2686792\n",
            "  0.8310405  0.94081364 0.65553421 0.19439452 0.87436911 0.11184028\n",
            "  0.99910116 0.98674415 0.37443446 0.78257301 1.01914709 0.74039135\n",
            "  0.42909621 0.31654685 1.03520291 0.43670409 0.05207016 0.29434562\n",
            "  0.64548677 1.07190857 1.06475058 0.65887469 0.31310284 0.095425\n",
            "  0.82227238 0.73706343 0.08081479 0.52708253 1.04066802 0.99831812\n",
            "  0.78908632 0.21740727 0.75279467 0.14835704 0.63353473 0.95715026\n",
            "  1.09955831 0.49218945 0.9803503  0.37438534 0.78925646 0.55806125\n",
            "  0.78387942 0.55629909 0.70204186 0.         0.28277886 0.83817463\n",
            "  0.98339958 0.48620573 0.85521522 0.79301264 0.94486683 0.252597\n",
            "  0.44330868 0.77410584 0.37296038 0.22288005 0.41967207 0.59108963\n",
            "  0.41892079 0.37037983 0.57490341 0.88612608 0.39593739 0.21113348\n",
            "  0.92731974 0.88715731 0.32897317 0.48250787 0.03261292 0.51065194\n",
            "  0.88897794 0.78156276 0.82405285 0.91678373 0.42544975 0.67100923\n",
            "  0.89503169 0.32116145 0.35263938 0.32163899 0.710673   0.88132667\n",
            "  0.78495918 0.70414066 0.27902983 0.88985292 0.96318656 0.80987419\n",
            "  0.37837676 0.95300411 0.74794959 0.24998459]\n",
            " [0.10334007 0.28617374 0.26075366 0.2797038  0.04021552 0.06495011\n",
            "  0.55724405 0.66148543 0.4008715  0.0902177  0.61482872 0.20497142\n",
            "  0.73134285 0.71282435 0.13675129 0.50010174 0.74544612 0.45860535\n",
            "  0.21034639 0.19808024 0.75271347 0.16539804 0.31622495 0.2336591\n",
            "  0.38582005 0.79716895 0.78552184 0.42298907 0.27199224 0.21521367\n",
            "  0.57543422 0.58648693 0.26671298 0.44635642 0.76304493 0.71554122\n",
            "  0.64223628 0.15250727 0.66000732 0.26145847 0.35089486 0.67446652\n",
            "  0.81979978 0.20987889 0.70559857 0.17320723 0.67059352 0.32098543\n",
            "  0.61824555 0.41904768 0.45744825 0.28277886 0.         0.61120802\n",
            "  0.70073534 0.20375446 0.57244376 0.54904339 0.66741746 0.30447967\n",
            "  0.39879459 0.50745208 0.25086071 0.24879774 0.1500621  0.35381432\n",
            "  0.36325919 0.14003273 0.29221549 0.66323434 0.33371131 0.32264124\n",
            "  0.65179166 0.60682613 0.14441441 0.41102075 0.2733815  0.34047027\n",
            "  0.6170687  0.61764173 0.54291932 0.64335218 0.29742255 0.39782863\n",
            "  0.72417552 0.22697418 0.17158563 0.29311447 0.61230108 0.61414542\n",
            "  0.56029096 0.44950933 0.16432904 0.62190591 0.69425173 0.62702293\n",
            "  0.11149898 0.69746811 0.572701   0.34726249]\n",
            " [0.69513415 0.73586192 0.40176801 0.88235656 0.6198534  0.58686792\n",
            "  0.26964745 0.36696772 0.22874956 0.66883341 0.16803983 0.72721523\n",
            "  0.73776262 0.3239104  0.47936933 0.45694796 0.69814878 0.47299451\n",
            "  0.69182525 0.77968657 0.49440744 0.45558489 0.88614107 0.82910701\n",
            "  0.62966587 0.7207583  0.65816493 0.72376182 0.56546546 0.80728262\n",
            "  0.75840314 0.26030466 0.77798242 0.44327862 0.66650684 0.50284024\n",
            "  0.27373892 0.76312559 1.13310985 0.86824988 0.44780912 0.46604926\n",
            "  0.67190485 0.46675881 0.32869831 0.46566719 1.10869462 0.68482301\n",
            "  0.99529539 0.34532397 0.71064625 0.83817463 0.61120802 0.\n",
            "  0.47738163 0.47258253 0.44890962 0.09232779 0.61407903 0.91422804\n",
            "  0.96480031 0.63239151 0.80934989 0.64779047 0.58709706 0.25739392\n",
            "  0.93025674 0.47972614 0.43932675 0.05332043 0.51046489 0.72004253\n",
            "  0.62745164 0.36413999 0.51083937 0.95667912 0.81333995 0.34157271\n",
            "  0.64302095 0.22150723 0.36527504 0.64316619 0.43699257 0.56091486\n",
            "  0.23060781 0.53056976 0.48578744 0.88708872 1.0881446  0.22191122\n",
            "  0.82464447 0.67008228 0.76041246 0.23009272 0.7071429  0.96838317\n",
            "  0.60251505 0.7893774  0.94601314 0.70689967]\n",
            " [0.80390213 0.62143352 0.45130417 0.96174559 0.68064481 0.72253109\n",
            "  0.22400181 0.11123246 0.41597185 0.78934731 0.3100561  0.89496869\n",
            "  0.2989763  0.18539744 0.63356811 0.20790356 0.242837   0.25483663\n",
            "  0.62887231 0.76586097 0.05384163 0.55526452 1.01587499 0.82134135\n",
            "  0.42892714 0.25122948 0.18274465 0.49957608 0.83156578 0.91120666\n",
            "  0.42605733 0.71665354 0.95739765 0.82011542 0.19782752 0.02550544\n",
            "  0.74339689 0.81139207 0.91154886 0.93736292 0.35185647 0.02634092\n",
            "  0.19453101 0.49130028 0.17444853 0.662155   0.86050195 0.53543829\n",
            "  0.72279598 0.71682895 0.45747749 0.98339958 0.70073534 0.47738163\n",
            "  0.         0.49721819 0.13109427 0.40490168 0.18413059 0.92979023\n",
            "  0.87964905 0.3317665  0.75842881 0.87884167 0.57852435 0.49739198\n",
            "  0.85445881 0.64161747 0.40852071 0.50151671 0.82004908 0.9647509\n",
            "  0.21121345 0.12458634 0.69767537 0.84805255 0.9720191  0.6565906\n",
            "  0.25543443 0.69001942 0.16928273 0.23603956 0.73096311 0.36123702\n",
            "  0.70591449 0.77605572 0.68951804 0.8627816  0.87766876 0.2555647\n",
            "  0.52282821 0.4184544  0.77298488 0.24781275 0.28115339 0.67595957\n",
            "  0.61712378 0.38400661 0.68395072 0.97050356]\n",
            " [0.30707885 0.27083219 0.07253103 0.47438024 0.18753324 0.22911442\n",
            "  0.36224612 0.45958414 0.2442585  0.29215436 0.4364333  0.40018216\n",
            "  0.55607156 0.5160157  0.16394286 0.29935712 0.56058357 0.26076833\n",
            "  0.21957593 0.31672459 0.54902248 0.08174891 0.51976251 0.37032537\n",
            "  0.24769442 0.60999424 0.59089208 0.32131463 0.38470267 0.41688439\n",
            "  0.43852689 0.53213204 0.46284609 0.47772931 0.57142193 0.51248361\n",
            "  0.58502344 0.32938833 0.67837199 0.45250034 0.15039918 0.47098798\n",
            "  0.62402336 0.00675628 0.50798037 0.21172272 0.66624334 0.24316471\n",
            "  0.57548273 0.40746289 0.33614577 0.48620573 0.20375446 0.47258253\n",
            "  0.49721819 0.         0.36978272 0.39383995 0.47711326 0.46860901\n",
            "  0.49288661 0.34238844 0.33877547 0.40492722 0.11566256 0.23586188\n",
            "  0.45877484 0.17426835 0.08896639 0.52584632 0.4096062  0.48942803\n",
            "  0.46525857 0.40417713 0.2295555  0.4841817  0.47510144 0.3179734\n",
            "  0.43777407 0.54657205 0.33972577 0.46073115 0.33459237 0.22686337\n",
            "  0.63669377 0.32663443 0.23469439 0.4248686  0.6314425  0.42633296\n",
            "  0.45587555 0.31196242 0.30686052 0.43300045 0.5179898  0.56534373\n",
            "  0.13952577 0.54122814 0.52534558 0.50381805]\n",
            " [0.67530507 0.49480149 0.32958024 0.83096585 0.55105852 0.59733635\n",
            "  0.17989097 0.14956145 0.32850243 0.66168864 0.29684576 0.76940413\n",
            "  0.28933783 0.23957234 0.51330263 0.07704038 0.25567575 0.12435458\n",
            "  0.49881414 0.63514423 0.18479227 0.43243815 0.88660459 0.69071668\n",
            "  0.30714472 0.28868954 0.2435252  0.38597794 0.71931515 0.78141738\n",
            "  0.34484223 0.66002902 0.83201232 0.73091837 0.23753969 0.14334829\n",
            "  0.69470545 0.68047524 0.80820163 0.80645614 0.22205077 0.10496838\n",
            "  0.27071182 0.36412    0.22746871 0.54610258 0.76289679 0.4104097\n",
            "  0.62931603 0.63111611 0.34910149 0.85521522 0.57244376 0.44890962\n",
            "  0.13109427 0.36978272 0.         0.36273762 0.16715876 0.7989913\n",
            "  0.75415662 0.23065821 0.62910066 0.76033536 0.44764241 0.40420405\n",
            "  0.72785115 0.52193807 0.28081643 0.48489554 0.71577674 0.84631455\n",
            "  0.178561   0.10482157 0.57880536 0.72460051 0.84483384 0.56171077\n",
            "  0.19829965 0.64219023 0.08437894 0.19480086 0.62744087 0.23541831\n",
            "  0.67852981 0.66242797 0.57322665 0.73296057 0.77129405 0.24565635\n",
            "  0.43317235 0.30743462 0.64190595 0.24239503 0.25823709 0.58772864\n",
            "  0.48649359 0.34460215 0.5864476  0.85455248]\n",
            " [0.63929672 0.65134425 0.32165995 0.82571132 0.55318249 0.53244992\n",
            "  0.18665302 0.29790898 0.15118184 0.6144053  0.11239514 0.68418435\n",
            "  0.6520704  0.27370914 0.42350969 0.36607595 0.61543966 0.38089273\n",
            "  0.61117233 0.7068029  0.42869324 0.3873839  0.83883208 0.75804882\n",
            "  0.53844277 0.64123008 0.58189907 0.63264796 0.54208433 0.75345908\n",
            "  0.66631072 0.31270512 0.73877326 0.4546879  0.58728957 0.43035171\n",
            "  0.33870532 0.69876576 1.04481153 0.80958289 0.35719584 0.39063451\n",
            "  0.59849389 0.3876701  0.27549352 0.41883519 1.01882383 0.59684484\n",
            "  0.90400821 0.35065662 0.61868876 0.79301264 0.54904339 0.09232779\n",
            "  0.40490168 0.39383995 0.36273762 0.         0.52933957 0.8479941\n",
            "  0.88657399 0.54029361 0.7325285  0.61750359 0.50941006 0.20193878\n",
            "  0.85259236 0.42558121 0.35269156 0.14067297 0.49866628 0.69525906\n",
            "  0.54104643 0.28550098 0.46416286 0.87594007 0.77043722 0.32301396\n",
            "  0.55411059 0.28535495 0.27843664 0.55567184 0.4167735  0.46900783\n",
            "  0.31652988 0.49996495 0.4419268  0.81491075 1.00029639 0.15679722\n",
            "  0.73235691 0.57797038 0.69066289 0.16659069 0.62037756 0.87648403\n",
            "  0.52837687 0.70001278 0.85489185 0.68690318]\n",
            " [0.76598303 0.51670151 0.45626121 0.89966246 0.63878411 0.70430433\n",
            "  0.34443961 0.27617411 0.4896026  0.75746783 0.45643076 0.87155068\n",
            "  0.12440548 0.36288902 0.63570196 0.19497553 0.09092375 0.22000182\n",
            "  0.5443609  0.68443155 0.21859107 0.55157543 0.96937321 0.73711032\n",
            "  0.32033944 0.13403113 0.12289837 0.36541275 0.85180615 0.86200846\n",
            "  0.25560342 0.82652343 0.93381483 0.885865   0.09580199 0.16984498\n",
            "  0.86178007 0.74942856 0.75039273 0.87307859 0.32953037 0.17592154\n",
            "  0.15918778 0.47282778 0.35108467 0.67573213 0.69393001 0.42880565\n",
            "  0.55424701 0.78891472 0.31684727 0.94486683 0.66741746 0.61407903\n",
            "  0.18413059 0.47711326 0.16715876 0.52933957 0.         0.84609053\n",
            "  0.76284415 0.19455027 0.66346097 0.88133985 0.52528726 0.56082425\n",
            "  0.74258014 0.64534146 0.39324477 0.64769425 0.85838269 0.96630623\n",
            "  0.03044769 0.25469736 0.70242866 0.72496578 0.93941552 0.71459796\n",
            "  0.08333971 0.80931966 0.25143336 0.05594478 0.77199079 0.27541294\n",
            "  0.84433372 0.79369577 0.7018181  0.7690771  0.7206062  0.40279729\n",
            "  0.35541628 0.28602637 0.70103648 0.3977595  0.09904981 0.5039396\n",
            "  0.56654042 0.20000235 0.51982277 0.9792483 ]\n",
            " [0.24315023 0.3344512  0.53870287 0.12385295 0.29492762 0.3431139\n",
            "  0.82928756 0.91567149 0.69748741 0.27142376 0.90350806 0.30335231\n",
            "  0.87122304 0.98055402 0.4405803  0.72197793 0.90523732 0.67495837\n",
            "  0.30331202 0.16403225 0.98361653 0.46063805 0.22842901 0.10928043\n",
            "  0.52610187 0.95922932 0.96895559 0.50502275 0.49818003 0.17828097\n",
            "  0.66835956 0.88096282 0.3183476  0.70823629 0.93888317 0.93897048\n",
            "  0.93632186 0.15204334 0.50462809 0.10463074 0.58637166 0.90387069\n",
            "  1.00527754 0.47535757 0.97171357 0.47011556 0.54699895 0.41968965\n",
            "  0.56214493 0.70536241 0.55449474 0.252597   0.30447967 0.91422804\n",
            "  0.92979023 0.46860901 0.7989913  0.8479941  0.84609053 0.\n",
            "  0.19502919 0.65593669 0.18637629 0.42489735 0.36078172 0.65710443\n",
            "  0.17660927 0.44279052 0.54353484 0.96663865 0.57908084 0.44721558\n",
            "  0.82268966 0.85851153 0.43181096 0.23922988 0.27807488 0.63564264\n",
            "  0.7758771  0.91613629 0.79285856 0.80639488 0.57416987 0.57661706\n",
            "  1.02505118 0.47894192 0.46077878 0.08950553 0.46468398 0.89493394\n",
            "  0.60788536 0.57055998 0.16206001 0.90152998 0.83941345 0.59729746\n",
            "  0.32939849 0.80470806 0.53382405 0.48563942]\n",
            " [0.38278329 0.25975473 0.56491417 0.31784113 0.37102191 0.45624328\n",
            "  0.82606561 0.88906866 0.73705393 0.40688573 0.91967868 0.47413171\n",
            "  0.76204309 0.9657003  0.52832818 0.67918041 0.80641557 0.63217726\n",
            "  0.27722044 0.20078585 0.93263157 0.5169557  0.42305048 0.1741694\n",
            "  0.45163943 0.85927546 0.88257879 0.39867191 0.6454853  0.3586279\n",
            "  0.54680693 0.9815006  0.50139421 0.84115205 0.84877385 0.88373629\n",
            "  1.0371703  0.27662889 0.31000793 0.29558375 0.56855108 0.8552971\n",
            "  0.91875438 0.4989686  0.95535494 0.571075   0.35263296 0.34422708\n",
            "  0.38179438 0.81767895 0.44874479 0.44330868 0.39879459 0.96480031\n",
            "  0.87964905 0.49288661 0.75415662 0.88657399 0.76284415 0.19502919\n",
            "  0.         0.5684346  0.15661209 0.58624631 0.37774162 0.71737684\n",
            "  0.03579122 0.5340117  0.54446018 1.01811789 0.71986235 0.62372134\n",
            "  0.73572273 0.83229099 0.54269281 0.05015095 0.46581289 0.73708229\n",
            "  0.68429061 1.0087256  0.76880202 0.7153887  0.69509889 0.51897248\n",
            "  1.11052833 0.61354253 0.57030754 0.12519446 0.26965767 0.89970915\n",
            "  0.46818402 0.47681863 0.23678061 0.9044631  0.73518268 0.42408589\n",
            "  0.3649092  0.68084203 0.36157348 0.6606197 ]\n",
            " [0.59941525 0.32368914 0.34883078 0.71723882 0.47401077 0.55398556\n",
            "  0.38400049 0.38010532 0.44810317 0.59517883 0.50450648 0.71186933\n",
            "  0.22506225 0.4702046  0.50617961 0.18252916 0.2499695  0.15940259\n",
            "  0.35788039 0.49660666 0.3806461  0.42373484 0.7937938  0.54766871\n",
            "  0.13125215 0.30391846 0.31575692 0.17262681 0.7269304  0.68657506\n",
            "  0.12601716 0.79613535 0.77261954 0.80294098 0.28382785 0.32931365\n",
            "  0.84039864 0.56926942 0.58087537 0.68997266 0.22349518 0.31149153\n",
            "  0.35215017 0.34017215 0.45811562 0.55374455 0.53301361 0.23650163\n",
            "  0.39866846 0.71739861 0.12671756 0.77410584 0.50745208 0.63239151\n",
            "  0.3317665  0.34238844 0.23065821 0.54029361 0.19455027 0.65593669\n",
            "  0.5684346  0.         0.47150202 0.7406119  0.35840671 0.49863592\n",
            "  0.54803522 0.51656026 0.27728932 0.67678908 0.74962483 0.82247141\n",
            "  0.1683875  0.33345397 0.57103664 0.5312035  0.77231704 0.63293301\n",
            "  0.11994049 0.7916761  0.29000184 0.15055653 0.66990429 0.11552693\n",
            "  0.85105034 0.66896355 0.57707839 0.5767403  0.54609374 0.46002661\n",
            "  0.20365022 0.09184263 0.516941   0.45921992 0.18917665 0.35768775\n",
            "  0.39915245 0.19915387 0.35628541 0.84073622]\n",
            " [0.25937085 0.14844226 0.41120597 0.27311566 0.21907666 0.31249765\n",
            "  0.68249541 0.75552351 0.58230092 0.27820026 0.77057105 0.36901244\n",
            "  0.68499621 0.82738798 0.37479816 0.55236225 0.72000041 0.50488299\n",
            "  0.13212737 0.0617205  0.81217144 0.36034896 0.3709496  0.08471967\n",
            "  0.34317175 0.7739566  0.78607128 0.31872748 0.51251333 0.27795554\n",
            "  0.48256885 0.8271532  0.41086589 0.69713372 0.75514171 0.76558102\n",
            "  0.88271353 0.16326046 0.41455102 0.24519042 0.42819485 0.73303181\n",
            "  0.82246833 0.34504572 0.81761835 0.4198666  0.43455484 0.23502985\n",
            "  0.41188134 0.66668798 0.36812034 0.37296038 0.25086071 0.80934989\n",
            "  0.75842881 0.33877547 0.62910066 0.7325285  0.66346097 0.18637629\n",
            "  0.15661209 0.47150202 0.         0.46574062 0.22313158 0.56083388\n",
            "  0.12132933 0.38110511 0.39680431 0.86266732 0.58138987 0.51773241\n",
            "  0.63916585 0.69821819 0.39508731 0.16074057 0.38652103 0.58409368\n",
            "  0.59132496 0.853212   0.63327856 0.62205474 0.54812571 0.39932109\n",
            "  0.9542587  0.47413575 0.42161315 0.10573156 0.36767001 0.75385967\n",
            "  0.42643829 0.38480403 0.10475542 0.75923675 0.65347112 0.43696342\n",
            "  0.20833616 0.61877037 0.37500253 0.55146624]\n",
            " [0.20678238 0.53240846 0.43099741 0.3257616  0.2887095  0.19007099\n",
            "  0.69394291 0.8155948  0.49841196 0.18815089 0.71240176 0.12433505\n",
            "  0.95965967 0.84501714 0.24734456 0.69694203 0.96549841 0.66273482\n",
            "  0.45716109 0.4044374  0.92656085 0.33038621 0.27487028 0.41319774\n",
            "  0.62677352 1.0146468  0.99245027 0.67088055 0.09162766 0.25013069\n",
            "  0.81934952 0.51859682 0.14521555 0.30421075 0.97485627 0.89776755\n",
            "  0.56925733 0.31069599 0.87906509 0.32946645 0.55215717 0.85366843\n",
            "  1.02440927 0.40884939 0.84070509 0.21764221 0.89983832 0.56942446\n",
            "  0.8608838  0.33937039 0.70328696 0.22288005 0.24879774 0.64779047\n",
            "  0.87884167 0.40492722 0.76033536 0.61750359 0.88133985 0.42489735\n",
            "  0.58624631 0.7406119  0.46574062 0.         0.39358502 0.42194762\n",
            "  0.55430503 0.23845489 0.48845444 0.69177139 0.1732414  0.08599674\n",
            "  0.87014049 0.7676338  0.1815446  0.61294912 0.19118018 0.30775672\n",
            "  0.84201226 0.56534862 0.71064473 0.86553259 0.21475356 0.62644611\n",
            "  0.67891186 0.11774181 0.19033112 0.46250078 0.83275908 0.72999967\n",
            "  0.80874669 0.69183265 0.36164996 0.7394979  0.92174094 0.87316028\n",
            "  0.35840993 0.93609504 0.81700759 0.10031005]\n",
            " [0.24189334 0.17441073 0.18815153 0.38337029 0.11561999 0.20351447\n",
            "  0.46923495 0.55599677 0.35939107 0.23677513 0.55015812 0.35355308\n",
            "  0.58300741 0.61978381 0.19824719 0.37182333 0.59998411 0.32681346\n",
            "  0.10984756 0.20342301 0.63190542 0.15051791 0.4448079  0.25825784\n",
            "  0.2357811  0.65248402 0.64570747 0.27891196 0.40005504 0.33779225\n",
            "  0.42636247 0.62703275 0.41422086 0.537564   0.62107785 0.59046268\n",
            "  0.68151264 0.2328736  0.58056421 0.35883872 0.22834378 0.55224042\n",
            "  0.68082122 0.12198438 0.61093334 0.25138336 0.57645599 0.18046724\n",
            "  0.50160159 0.48391437 0.30970346 0.41967207 0.1500621  0.58709706\n",
            "  0.57852435 0.11566256 0.44764241 0.50941006 0.52528726 0.36078172\n",
            "  0.37774162 0.35840671 0.22313158 0.39358502 0.         0.34332128\n",
            "  0.34339071 0.20783318 0.18277741 0.64040977 0.4457993  0.47103709\n",
            "  0.50769345 0.49909257 0.24783008 0.37107432 0.41542188 0.3954535\n",
            "  0.47037147 0.64691189 0.43345901 0.49762234 0.38656097 0.25158537\n",
            "  0.74238713 0.34656681 0.26526987 0.31092406 0.53286639 0.53703157\n",
            "  0.41775945 0.29974619 0.19911366 0.54312651 0.54628329 0.50135494\n",
            "  0.04131287 0.5474066  0.45303172 0.49348517]\n",
            " [0.43952282 0.50669066 0.17590179 0.62658196 0.36332708 0.33182856\n",
            "  0.28576791 0.41348406 0.08281192 0.41394277 0.29048632 0.48254581\n",
            "  0.67001003 0.42834749 0.22326034 0.3673391  0.65173987 0.35613312\n",
            "  0.45224212 0.5265926  0.53738188 0.20143666 0.63694408 0.57428499\n",
            "  0.44826505 0.69059213 0.647469   0.53600107 0.35399024 0.55294156\n",
            "  0.61728708 0.30517617 0.53793525 0.32671629 0.64105821 0.52025233\n",
            "  0.35516916 0.50579909 0.91397318 0.61166864 0.27701498 0.47539981\n",
            "  0.67302145 0.23136567 0.42540736 0.21710143 0.89976093 0.47290569\n",
            "  0.80189778 0.2280921  0.53774311 0.59108963 0.35381432 0.25739392\n",
            "  0.49739198 0.23586188 0.40420405 0.20193878 0.56082425 0.65710443\n",
            "  0.71737684 0.49863592 0.56083388 0.42194762 0.34332128 0.\n",
            "  0.68215821 0.22456867 0.23773726 0.30955769 0.32681808 0.50304712\n",
            "  0.5616525  0.3749482  0.26234156 0.71396267 0.56872729 0.15925624\n",
            "  0.55529759 0.31320125 0.33186646 0.5678087  0.23838515 0.39689976\n",
            "  0.40084232 0.30607268 0.24081225 0.63291773 0.86717147 0.3101015\n",
            "  0.65917085 0.50370797 0.50496129 0.31990412 0.63328807 0.78551841\n",
            "  0.35250044 0.68859174 0.75155466 0.49915868]\n",
            " [0.34974234 0.23311479 0.53097082 0.29647499 0.33526008 0.42111572\n",
            "  0.79519763 0.86085022 0.70278163 0.37330415 0.88730166 0.44413601\n",
            "  0.74690872 0.93631793 0.49254361 0.65231426 0.78925791 0.60509573\n",
            "  0.24477973 0.16519233 0.90769368 0.48154832 0.40184029 0.14121941\n",
            "  0.42802209 0.84250087 0.86325282 0.38065489 0.61186474 0.33158133\n",
            "  0.53357052 0.94571052 0.47390684 0.80623806 0.83004765 0.85929108\n",
            "  1.0013795  0.24390327 0.33428934 0.27268127 0.53821651 0.8298205\n",
            "  0.89954856 0.46492247 0.92611595 0.5353959  0.37167342 0.31944868\n",
            "  0.3885109  0.78205178 0.43111383 0.41892079 0.36325919 0.93025674\n",
            "  0.85445881 0.45877484 0.72785115 0.85259236 0.74258014 0.17660927\n",
            "  0.03579122 0.54803522 0.12132933 0.55430503 0.34339071 0.68215821\n",
            "  0.         0.4982443  0.51224709 0.98357716 0.68558002 0.59415278\n",
            "  0.71603652 0.80388302 0.50727836 0.06366167 0.44002441 0.70132608\n",
            "  0.66526409 0.97296317 0.73995926 0.69638069 0.65980824 0.49327839\n",
            "  1.07487709 0.57905536 0.5348124  0.09748983 0.29175375 0.86825997\n",
            "  0.45932892 0.45694685 0.20185867 0.87318955 0.71889554 0.42726572\n",
            "  0.32965792 0.66881666 0.36400773 0.63062862]\n",
            " [0.21541763 0.37938815 0.19254651 0.40264108 0.16299634 0.1073176\n",
            "  0.46654811 0.58348663 0.28516523 0.18943319 0.50398951 0.26597518\n",
            "  0.72936554 0.62109956 0.01050455 0.45880573 0.73108191 0.42579811\n",
            "  0.30749802 0.33380642 0.69020266 0.09426359 0.41432806 0.37302191\n",
            "  0.41556212 0.7791284  0.75469135 0.47780269 0.21043456 0.32838125\n",
            "  0.60885819 0.44792862 0.32554727 0.33038612 0.73798759 0.66005268\n",
            "  0.50366927 0.29091441 0.77739119 0.38881489 0.31583786 0.61621466\n",
            "  0.7863321  0.17691315 0.61554596 0.04355084 0.77947431 0.38516097\n",
            "  0.70936544 0.28628181 0.50052293 0.37037983 0.14003273 0.47972614\n",
            "  0.64161747 0.17426835 0.52193807 0.42558121 0.64534146 0.44279052\n",
            "  0.5340117  0.51656026 0.38110511 0.23845489 0.20783318 0.22456867\n",
            "  0.4982443  0.         0.25218773 0.530618   0.24132871 0.32440226\n",
            "  0.63561728 0.53331973 0.05723531 0.54165774 0.35059846 0.20313116\n",
            "  0.61069283 0.47786214 0.47439399 0.6326235  0.17891059 0.40103958\n",
            "  0.58414603 0.15240399 0.06122901 0.43258749 0.72941387 0.51220564\n",
            "  0.61619111 0.48098083 0.30318849 0.52099079 0.691217   0.70867598\n",
            "  0.19078632 0.71520187 0.6608643  0.33435563]\n",
            " [0.39541726 0.29947121 0.07164377 0.55863935 0.27348958 0.31736184\n",
            "  0.28708033 0.37519249 0.21503495 0.38102164 0.37523172 0.48892913\n",
            "  0.47962336 0.43701927 0.24248196 0.21096279 0.47899675 0.17432295\n",
            "  0.26746736 0.38510127 0.46057104 0.15833589 0.6077116  0.44045663\n",
            "  0.2105973  0.52695774 0.50444437 0.29888173 0.46026271 0.50391063\n",
            "  0.38696368 0.54290471 0.55158135 0.52609174 0.48640677 0.42356565\n",
            "  0.59237468 0.4109113  0.69411189 0.53574564 0.06373531 0.38225667\n",
            "  0.5370227  0.08336061 0.42822881 0.28421406 0.67251764 0.24596383\n",
            "  0.56738793 0.44366733 0.30035239 0.57490341 0.29221549 0.43932675\n",
            "  0.40852071 0.08896639 0.28081643 0.35269156 0.39324477 0.54353484\n",
            "  0.54446018 0.27728932 0.39680431 0.48845444 0.18277741 0.23773726\n",
            "  0.51224709 0.25218773 0.         0.49139375 0.47499976 0.57376868\n",
            "  0.38355074 0.31889445 0.30920794 0.52864554 0.56405172 0.3572701\n",
            "  0.36063789 0.54861862 0.25369082 0.38130187 0.3933059  0.16573013\n",
            "  0.62729017 0.40195629 0.30962738 0.49134652 0.64890305 0.35708649\n",
            "  0.42198807 0.2678031  0.38170766 0.36260104 0.44144678 0.54860088\n",
            "  0.21624587 0.47551649 0.51717026 0.58602636]\n",
            " [0.74589462 0.78857542 0.45491995 0.93306293 0.6724961  0.63753416\n",
            "  0.3050594  0.39029023 0.28188522 0.71934199 0.192774   0.77480228\n",
            "  0.77195572 0.33630584 0.53058138 0.49880051 0.72941384 0.51767245\n",
            "  0.74502521 0.83285098 0.51345238 0.50853915 0.93459788 0.882116\n",
            "  0.67906518 0.74898659 0.68388309 0.77328798 0.60752984 0.85745215\n",
            "  0.80264327 0.26989557 0.82434883 0.47220244 0.69469656 0.52671431\n",
            "  0.27242875 0.81534511 1.18471421 0.91938556 0.49785107 0.49253938\n",
            "  0.69523322 0.52000444 0.34277428 0.51507659 1.1593787  0.73650925\n",
            "  1.04458418 0.37880621 0.75877012 0.88612608 0.66323434 0.05332043\n",
            "  0.50151671 0.52584632 0.48489554 0.14067297 0.64769425 0.96663865\n",
            "  1.01811789 0.67678908 0.86266732 0.69177139 0.64040977 0.30955769\n",
            "  0.98357716 0.530618   0.49139375 0.         0.54867343 0.76185579\n",
            "  0.66278325 0.39443444 0.5600226  1.0099021  0.86070627 0.38422449\n",
            "  0.68133498 0.22378348 0.40263313 0.67969455 0.47897945 0.60921104\n",
            "  0.20606974 0.57522907 0.5343991  0.94017974 1.13994388 0.24755933\n",
            "  0.87139959 0.71777401 0.81331831 0.25436754 0.74262618 1.01659493\n",
            "  0.65578209 0.82800675 0.99551966 0.74701805]\n",
            " [0.34052067 0.61131653 0.40565801 0.49172166 0.37111489 0.2696468\n",
            "  0.61257769 0.74012284 0.40958282 0.31431305 0.60431438 0.29235326\n",
            "  0.95351058 0.75250608 0.25169604 0.66454632 0.94750658 0.6398582\n",
            "  0.53646123 0.52400272 0.86232778 0.32797977 0.4479799  0.54633385\n",
            "  0.65547356 0.99198402 0.95787994 0.71908979 0.08367694 0.41300037\n",
            "  0.84785566 0.34938312 0.31830107 0.1320307  0.9463745  0.84187108\n",
            "  0.39823725 0.44573409 0.99347635 0.49154532 0.53575759 0.79686179\n",
            "  0.98639567 0.41089668 0.75037139 0.19944441 1.00384416 0.62529291\n",
            "  0.94427856 0.17568896 0.74145708 0.39593739 0.33371131 0.51046489\n",
            "  0.82004908 0.4096062  0.71577674 0.49866628 0.85838269 0.57908084\n",
            "  0.71986235 0.74962483 0.58138987 0.1732414  0.4457993  0.32681808\n",
            "  0.68558002 0.24132871 0.47499976 0.54867343 0.         0.22097709\n",
            "  0.85300494 0.69974382 0.1986285  0.738826   0.36439468 0.17599059\n",
            "  0.83463185 0.39850388 0.65163683 0.85353382 0.08910452 0.63466891\n",
            "  0.51138874 0.10725954 0.18109548 0.60162524 0.94585031 0.63230685\n",
            "  0.85751967 0.72056513 0.48422427 0.64239484 0.91541363 0.94687692\n",
            "  0.42208302 0.94875798 0.89678743 0.20017018]\n",
            " [0.26105129 0.59944111 0.51692668 0.33408481 0.36137845 0.26891422\n",
            "  0.77826697 0.90065359 0.58107631 0.24923333 0.79292283 0.15026075\n",
            "  1.0428465  0.92840299 0.33321641 0.78268487 1.04992589 0.74808974\n",
            "  0.52554744 0.45604607 1.0123369  0.41594147 0.25888504 0.45551233\n",
            "  0.70602038 1.09940389 1.0780015  0.74541823 0.15458145 0.26915829\n",
            "  0.89738752 0.56963297 0.132207   0.34121892 1.06008099 0.98373348\n",
            "  0.61702201 0.35614037 0.9253616  0.34473512 0.63741906 0.93960782\n",
            "  1.11009311 0.49353798 0.924357   0.30312949 0.95160799 0.64305675\n",
            "  0.92231869 0.39616103 0.77996684 0.21113348 0.32264124 0.72004253\n",
            "  0.9647509  0.48942803 0.84631455 0.69525906 0.96630623 0.44721558\n",
            "  0.62372134 0.82247141 0.51773241 0.08599674 0.47103709 0.50304712\n",
            "  0.59415278 0.32440226 0.57376868 0.76185579 0.22097709 0.\n",
            "  0.95465824 0.85311365 0.26753827 0.65543243 0.17911508 0.37847263\n",
            "  0.92562577 0.6193578  0.79644547 0.94957711 0.28309332 0.70899403\n",
            "  0.73198896 0.19698063 0.27576082 0.49853076 0.88024046 0.81238262\n",
            "  0.88205253 0.77059015 0.41308384 0.82199712 1.00503568 0.93819429\n",
            "  0.43396071 1.01661856 0.88022611 0.03904193]\n",
            " [0.74916035 0.49178097 0.44878777 0.87896121 0.62205194 0.6907555\n",
            "  0.35815063 0.29841114 0.49299308 0.74157674 0.47286963 0.85644585\n",
            "  0.11153176 0.3866456  0.62579843 0.19431419 0.09546704 0.21314733\n",
            "  0.52202928 0.66182781 0.2478063  0.5414917  0.9506332  0.71394827\n",
            "  0.29658837 0.14545146 0.14737239 0.33761693 0.84352673 0.84319851\n",
            "  0.22515602 0.83372782 0.91847421 0.88496302 0.1162315  0.19832936\n",
            "  0.87046031 0.72922948 0.7199852  0.85215222 0.32018033 0.20100287\n",
            "  0.18376269 0.46129367 0.37469468 0.66736055 0.66348708 0.40419096\n",
            "  0.5238182  0.78954386 0.28857135 0.92731974 0.65179166 0.62745164\n",
            "  0.21121345 0.46525857 0.178561   0.54104643 0.03044769 0.82268966\n",
            "  0.73572273 0.1683875  0.63916585 0.87014049 0.50769345 0.5616525\n",
            "  0.71603652 0.63561728 0.38355074 0.66278325 0.85300494 0.95465824\n",
            "  0.         0.27260092 0.69247405 0.69725476 0.92273769 0.71325629\n",
            "  0.05336487 0.81837329 0.26263851 0.02568792 0.76747979 0.25643494\n",
            "  0.85705848 0.78527381 0.69306715 0.74461798 0.69032201 0.41998865\n",
            "  0.32497284 0.25910726 0.67965074 0.41550382 0.0798434  0.4736115\n",
            "  0.54900518 0.17499912 0.48939402 0.96867422]\n",
            " [0.70998769 0.57289012 0.34882101 0.87746516 0.59147402 0.62132508\n",
            "  0.10051845 0.05734671 0.29283069 0.69288678 0.20216129 0.79322087\n",
            "  0.37906442 0.139025   0.5260386  0.16037326 0.33498823 0.20379862\n",
            "  0.56616251 0.69665079 0.16260179 0.45219377 0.92298184 0.75253313\n",
            "  0.39616095 0.35674243 0.29643173 0.48098329 0.71545444 0.8209962\n",
            "  0.44957126 0.59496115 0.85499616 0.69601309 0.30255653 0.14908093\n",
            "  0.62395527 0.7296617  0.90633422 0.85463858 0.2722448  0.10639826\n",
            "  0.31417521 0.39775899 0.1273807  0.55001701 0.86343186 0.49278215\n",
            "  0.73145057 0.59248478 0.4476349  0.88715731 0.60682613 0.36413999\n",
            "  0.12458634 0.40417713 0.10482157 0.28550098 0.25469736 0.85851153\n",
            "  0.83229099 0.33345397 0.69821819 0.7676338  0.49909257 0.3749482\n",
            "  0.80388302 0.53331973 0.31889445 0.39443444 0.69974382 0.85311365\n",
            "  0.27260092 0.         0.58796861 0.80637107 0.873264   0.53380842\n",
            "  0.2998452  0.57066722 0.06566552 0.29223433 0.61066746 0.32082204\n",
            "  0.59464172 0.66117833 0.57736812 0.79920012 0.86805279 0.14814942\n",
            "  0.53678548 0.40518133 0.69783664 0.14309988 0.35190358 0.69110762\n",
            "  0.53463086 0.44451099 0.68758653 0.85661082]\n",
            " [0.19253709 0.41298124 0.24962496 0.3766771  0.1776458  0.08928053\n",
            "  0.51827007 0.63723881 0.33040115 0.16435252 0.54881559 0.22031435\n",
            "  0.78544622 0.67176328 0.06672725 0.51601927 0.78794087 0.48297531\n",
            "  0.33852282 0.34222988 0.7458339  0.15098418 0.37572817 0.37457366\n",
            "  0.46636433 0.83616442 0.8119259  0.52391849 0.15664786 0.29891158\n",
            "  0.66011922 0.44932903 0.277111   0.30292853 0.79518097 0.71638956\n",
            "  0.50481962 0.2829968  0.8013447  0.36628298 0.37290073 0.67239564\n",
            "  0.84354541 0.23262468 0.66665711 0.0454266  0.80820739 0.4280076\n",
            "  0.74573142 0.27674069 0.54940377 0.32897317 0.14441441 0.51083937\n",
            "  0.69767537 0.2295555  0.57880536 0.46416286 0.70242866 0.43181096\n",
            "  0.54269281 0.57103664 0.39508731 0.1815446  0.24783008 0.26234156\n",
            "  0.50727836 0.05723531 0.30920794 0.5600226  0.1986285  0.26753827\n",
            "  0.69247405 0.58796861 0.         0.55541043 0.30641031 0.20387719\n",
            "  0.66692658 0.48459281 0.52991368 0.68918499 0.15304362 0.45563434\n",
            "  0.59453398 0.1000421  0.02897206 0.4333199  0.75346414 0.56041134\n",
            "  0.66283897 0.53195754 0.3067511  0.56948081 0.74732726 0.74840282\n",
            "  0.22351056 0.76918447 0.69816568 0.27712468]\n",
            " [0.40701447 0.23454174 0.55508639 0.35999022 0.37981658 0.47148109\n",
            "  0.80560725 0.86266934 0.72806785 0.42931394 0.90321262 0.50521724\n",
            "  0.71920712 0.94154144 0.53517981 0.65078592 0.76528409 0.60431752\n",
            "  0.26492693 0.21488559 0.90056761 0.5158856  0.46537493 0.20034975\n",
            "  0.41912674 0.81772589 0.84349214 0.35963957 0.66715181 0.39460099\n",
            "  0.50288148 0.9867451  0.53661024 0.85677961 0.80911    0.85101664\n",
            "  1.04219484 0.30231175 0.27118149 0.3363305  0.54762197 0.82418774\n",
            "  0.87949691 0.48993787 0.93090701 0.58060343 0.30817201 0.3144228\n",
            "  0.33179034 0.82740757 0.40902193 0.48250787 0.41102075 0.95667912\n",
            "  0.84805255 0.4841817  0.72460051 0.87594007 0.72496578 0.23922988\n",
            "  0.05015095 0.5312035  0.16074057 0.61294912 0.37107432 0.71396267\n",
            "  0.06366167 0.54165774 0.52864554 1.0099021  0.738826   0.65543243\n",
            "  0.69725476 0.80637107 0.55541043 0.         0.50335057 0.74449114\n",
            "  0.64522122 1.01158113 0.74389849 0.67623516 0.70844059 0.48923755\n",
            "  1.11088464 0.63178153 0.58216507 0.16092194 0.2281848  0.88061248\n",
            "  0.42159445 0.43936144 0.25501691 0.88488976 0.69336865 0.3739521\n",
            "  0.3636633  0.63580584 0.31150369 0.69150506]\n",
            " [0.17359074 0.49887199 0.52444419 0.15824502 0.30070454 0.25232835\n",
            "  0.81435739 0.92623715 0.63521455 0.18336414 0.85407441 0.08632589\n",
            "  0.99736119 0.96980034 0.35534198 0.77322537 1.01538445 0.73198395\n",
            "  0.43322404 0.32816488 1.02335279 0.42143723 0.08389356 0.31088495\n",
            "  0.64504164 1.06776404 1.05837014 0.66306391 0.28190261 0.10981272\n",
            "  0.82520027 0.706958   0.04820263 0.49525308 1.03517875 0.98757448\n",
            "  0.75864859 0.22661955 0.77430617 0.17345362 0.62389729 0.94585255\n",
            "  1.09284584 0.48087457 0.9637074  0.35163492 0.80863243 0.56130523\n",
            "  0.79835826 0.52640417 0.70493074 0.03261292 0.2733815  0.81333995\n",
            "  0.9720191  0.47510144 0.84483384 0.77043722 0.93941552 0.27807488\n",
            "  0.46581289 0.77231704 0.38652103 0.19118018 0.41542188 0.56872729\n",
            "  0.44002441 0.35059846 0.56405172 0.86070627 0.36439468 0.17911508\n",
            "  0.92273769 0.873264   0.30641031 0.50335057 0.         0.48304421\n",
            "  0.88574665 0.75200084 0.81083306 0.91303179 0.3963591  0.66697178\n",
            "  0.86554695 0.2923336  0.32885378 0.34253461 0.73143937 0.8626672\n",
            "  0.7916299  0.70504813 0.28869545 0.87136306 0.96103578 0.82245212\n",
            "  0.37416583 0.95440904 0.76110651 0.218065  ]\n",
            " [0.39564732 0.56982067 0.28594534 0.57641982 0.36606837 0.29265292\n",
            "  0.4424163  0.57062154 0.24099458 0.36723219 0.4283734  0.39888225\n",
            "  0.81928974 0.57809552 0.20931497 0.51978248 0.80526455 0.50287587\n",
            "  0.50235888 0.53667219 0.69601607 0.24779279 0.56109184 0.5740773\n",
            "  0.56076813 0.84600744 0.8052289  0.63903403 0.22389329 0.49710191\n",
            "  0.74404256 0.24625701 0.44374237 0.17190266 0.79749301 0.67950398\n",
            "  0.30195789 0.48609293 0.97465108 0.56804415 0.40998121 0.63465598\n",
            "  0.83144442 0.31646643 0.57642103 0.16742457 0.97185753 0.55882053\n",
            "  0.89060527 0.08963117 0.65073525 0.51065194 0.34047027 0.34157271\n",
            "  0.6565906  0.3179734  0.56171077 0.32301396 0.71459796 0.63564264\n",
            "  0.73708229 0.63293301 0.58409368 0.30775672 0.3954535  0.15925624\n",
            "  0.70132608 0.20313116 0.3572701  0.38422449 0.17599059 0.37847263\n",
            "  0.71325629 0.53380842 0.20387719 0.74449114 0.48304421 0.\n",
            "  0.70228817 0.28080683 0.49095144 0.71736251 0.09552821 0.52299921\n",
            "  0.39155339 0.19236685 0.17493681 0.63344292 0.92676368 0.45744442\n",
            "  0.77181178 0.62224121 0.50476443 0.46759116 0.78186311 0.88284541\n",
            "  0.38748872 0.82882222 0.84082986 0.36630613]\n",
            " [0.71226202 0.44331695 0.42897499 0.83593496 0.58565071 0.65927446\n",
            "  0.37662546 0.33278639 0.49168569 0.70617171 0.49499204 0.82204012\n",
            "  0.11899002 0.42296333 0.60061812 0.19290405 0.13085194 0.19965735\n",
            "  0.47722958 0.61633037 0.29598773 0.51646635 0.91044367 0.66758221\n",
            "  0.25066095 0.18455356 0.19832271 0.28574137 0.82029625 0.80304676\n",
            "  0.17355462 0.83733045 0.88358487 0.87416149 0.16483465 0.24532625\n",
            "  0.87659976 0.68716351 0.6674367  0.80882731 0.29888997 0.24188838\n",
            "  0.2344638  0.43438797 0.4108232  0.64457251 0.61177054 0.3563833\n",
            "  0.47240419 0.78169903 0.2362397  0.88897794 0.6170687  0.64302095\n",
            "  0.25543443 0.43777407 0.19829965 0.55411059 0.08333971 0.7758771\n",
            "  0.68429061 0.11994049 0.59132496 0.84201226 0.47037147 0.55529759\n",
            "  0.66526409 0.61069283 0.36063789 0.68133498 0.83463185 0.92562577\n",
            "  0.05336487 0.2998452  0.66692658 0.64522122 0.88574665 0.70228817\n",
            "  0.         0.82534343 0.27871246 0.0311177  0.75085042 0.21925929\n",
            "  0.87058942 0.7619718  0.66953431 0.69644344 0.63733948 0.44392943\n",
            "  0.27292268 0.20856758 0.63590244 0.44048646 0.08082498 0.42314864\n",
            "  0.51159038 0.14669389 0.43704617 0.9413683 ]\n",
            " [0.67641738 0.81616072 0.48909927 0.85579349 0.63948165 0.5730226\n",
            "  0.47104746 0.58181884 0.34428973 0.64798192 0.38610278 0.67115603\n",
            "  0.92990435 0.54502051 0.48225922 0.63276763 0.89728775 0.6366735\n",
            "  0.75674992 0.81020863 0.7115965  0.49725549 0.83311178 0.85087557\n",
            "  0.7577108  0.92529704 0.86709722 0.84749288 0.47407953 0.77606896\n",
            "  0.9153533  0.05430102 0.70899508 0.28915175 0.8716054  0.71549888\n",
            "  0.05337781 0.76589911 1.22448173 0.84830421 0.57956501 0.67598896\n",
            "  0.88382863 0.54262441 0.54937372 0.44641571 1.21237306 0.78602215\n",
            "  1.11485199 0.22600947 0.84590972 0.78156276 0.61764173 0.22150723\n",
            "  0.69001942 0.54657205 0.64219023 0.28535495 0.80931966 0.91613629\n",
            "  1.0087256  0.7916761  0.853212   0.56534862 0.64691189 0.31320125\n",
            "  0.97296317 0.47786214 0.54861862 0.22378348 0.39850388 0.6193578\n",
            "  0.81837329 0.57066722 0.48459281 1.01158113 0.75200084 0.28080683\n",
            "  0.82534343 0.         0.55813794 0.83066639 0.35638887 0.70025077\n",
            "  0.11360375 0.46073831 0.45568802 0.91044656 1.17728631 0.43769571\n",
            "  0.96626792 0.80957991 0.78098408 0.44671796 0.89642249 1.09721461\n",
            "  0.64832022 0.96821704 1.06452051 0.59604223]\n",
            " [0.64619903 0.50985642 0.28677586 0.81233001 0.52671765 0.55942822\n",
            "  0.09817513 0.12285251 0.25259884 0.62967188 0.21822743 0.73169347\n",
            "  0.3736489  0.19786494 0.46669203 0.10840848 0.33922738 0.14607379\n",
            "  0.50117003 0.63108778 0.21593386 0.39068316 0.85914425 0.68696469\n",
            "  0.33832871 0.36975934 0.3187658  0.42626625 0.66229369 0.75660309\n",
            "  0.41185027 0.5768974  0.79375175 0.65751303 0.31724121 0.19031672\n",
            "  0.61077181 0.66424596 0.85279827 0.78935254 0.2066546  0.14533917\n",
            "  0.34223048 0.33338484 0.18705086 0.4935137  0.81278183 0.431348\n",
            "  0.68365834 0.55587632 0.39641707 0.82405285 0.54291932 0.36527504\n",
            "  0.16928273 0.33972577 0.08437894 0.27843664 0.25143336 0.79285856\n",
            "  0.76880202 0.29000184 0.63327856 0.71064473 0.43345901 0.33186646\n",
            "  0.73995926 0.47439399 0.25369082 0.40263313 0.65163683 0.79644547\n",
            "  0.26263851 0.06566552 0.52991368 0.74389849 0.81083306 0.49095144\n",
            "  0.27871246 0.55813794 0.         0.27789127 0.56262647 0.26217821\n",
            "  0.59446827 0.60688591 0.52089503 0.73389005 0.813303   0.17060245\n",
            "  0.49319439 0.35358302 0.63217376 0.16932122 0.3421063  0.64615173\n",
            "  0.4691479  0.42539891 0.63829039 0.80156236]\n",
            " [0.73946426 0.47415011 0.44824697 0.86538175 0.61260319 0.68420271\n",
            "  0.37466318 0.32058075 0.50137558 0.73277317 0.49097744 0.84826975\n",
            "  0.10220356 0.40954426 0.62266142 0.20153811 0.10237294 0.2148828\n",
            "  0.50714545 0.64648454 0.27337299 0.53836513 0.93893495 0.69797703\n",
            "  0.28077571 0.15541309 0.16726599 0.31681079 0.84154245 0.83150451\n",
            "  0.19984247 0.84457934 0.91002917 0.88924335 0.13374241 0.22369935\n",
            "  0.88242416 0.71626518 0.69492743 0.8383653  0.31860054 0.22494888\n",
            "  0.20337046 0.45707244 0.39752357 0.66551495 0.63808918 0.38705775\n",
            "  0.49835581 0.79518335 0.26722448 0.91678373 0.64335218 0.64316619\n",
            "  0.23603956 0.46073115 0.19480086 0.55567184 0.05594478 0.80639488\n",
            "  0.7153887  0.15055653 0.62205474 0.86553259 0.49762234 0.5678087\n",
            "  0.69638069 0.6326235  0.38130187 0.67969455 0.85353382 0.94957711\n",
            "  0.02568792 0.29223433 0.68918499 0.67623516 0.91303179 0.71736251\n",
            "  0.0311177  0.83066639 0.27789127 0.         0.76884429 0.24606665\n",
            "  0.87208855 0.78322583 0.69084749 0.72725091 0.66561061 0.43870836\n",
            "  0.29975044 0.23965247 0.6655413  0.43460201 0.06609149 0.44799809\n",
            "  0.53890575 0.1528095  0.46425649 0.96454807]\n",
            " [0.33102676 0.55814479 0.3226724  0.5025717  0.33018652 0.23917982\n",
            "  0.52399346 0.65134283 0.3210153  0.30276268 0.5198085  0.31477445\n",
            "  0.8694734  0.66543271 0.18832481 0.57762321 0.86155925 0.55445535\n",
            "  0.48557691 0.4949604  0.77324391 0.25456555 0.47684645 0.52535176\n",
            "  0.58224609 0.90529416 0.86994871 0.65146147 0.12858202 0.42254119\n",
            "  0.77253005 0.31375224 0.35471274 0.15178267 0.85908114 0.75282813\n",
            "  0.36748809 0.43007449 0.95281659 0.49738434 0.45249777 0.70781775\n",
            "  0.8981359  0.33502569 0.66298938 0.13544867 0.95727923 0.56209007\n",
            "  0.88816203 0.13328447 0.67012083 0.42544975 0.29742255 0.43699257\n",
            "  0.73096311 0.33459237 0.62744087 0.4167735  0.77199079 0.57416987\n",
            "  0.69509889 0.66990429 0.54812571 0.21475356 0.38656097 0.23838515\n",
            "  0.65980824 0.17891059 0.3933059  0.47897945 0.08910452 0.28309332\n",
            "  0.76747979 0.61066746 0.15304362 0.70844059 0.3963591  0.09552821\n",
            "  0.75085042 0.35638887 0.56262647 0.76884429 0.         0.55589465\n",
            "  0.46970891 0.10436547 0.12712051 0.58340144 0.90487284 0.54574456\n",
            "  0.78852614 0.64651015 0.45861313 0.55576349 0.83148334 0.88654654\n",
            "  0.36894556 0.86865588 0.83952425 0.27094847]\n",
            " [0.49339908 0.26020557 0.23721312 0.62461865 0.36656118 0.44128605\n",
            "  0.34076986 0.37575023 0.35668792 0.48693091 0.45515417 0.60279764\n",
            "  0.33433908 0.45893134 0.39066403 0.16209404 0.34841271 0.11702957\n",
            "  0.2733051  0.41317084 0.41461029 0.30826116 0.69429189 0.4673468\n",
            "  0.07632668 0.40092889 0.39740249 0.16793162 0.6114249  0.58687373\n",
            "  0.22158996 0.69981488 0.66432711 0.69150862 0.37090229 0.36689571\n",
            "  0.74681355 0.47413786 0.59330619 0.59824163 0.12082547 0.336543\n",
            "  0.433181   0.22469281 0.44765351 0.43829819 0.55788904 0.17499656\n",
            "  0.43638074 0.60914903 0.14974988 0.67100923 0.39782863 0.56091486\n",
            "  0.36123702 0.22686337 0.23541831 0.46900783 0.27541294 0.57661706\n",
            "  0.51897248 0.11552693 0.39932109 0.62644611 0.25158537 0.39689976\n",
            "  0.49327839 0.40103958 0.16573013 0.60921104 0.63466891 0.70899403\n",
            "  0.25643494 0.32082204 0.45563434 0.48923755 0.66697178 0.52299921\n",
            "  0.21925929 0.70025077 0.26217821 0.24606665 0.55589465 0.\n",
            "  0.76881632 0.55344153 0.46155593 0.5046235  0.55257359 0.41925437\n",
            "  0.26681387 0.11013738 0.42697753 0.42097545 0.29686447 0.40748115\n",
            "  0.29288383 0.31447372 0.38812936 0.72639979]\n",
            " [0.78690075 0.90752596 0.57398647 0.96771721 0.74387929 0.68220884\n",
            "  0.49994473 0.59486867 0.41418718 0.75855265 0.3959047  0.78447342\n",
            "  0.96773903 0.54219038 0.58779137 0.68142083 0.92874409 0.6924888\n",
            "  0.85196841 0.91379842 0.71935374 0.59500188 0.94652805 0.9563466\n",
            "  0.83170232 0.95108101 0.88762855 0.92393809 0.58759087 0.88816575\n",
            "  0.9766265  0.16263339 0.82259791 0.39789351 0.89680105 0.73125623\n",
            "  0.12280765 0.87404033 1.31443369 0.95959754 0.64998878 0.69567229\n",
            "  0.90013522 0.63212599 0.54880899 0.55494531 1.29814682 0.87045235\n",
            "  1.19432307 0.33960308 0.91743512 0.89503169 0.72417552 0.23060781\n",
            "  0.70591449 0.63669377 0.67852981 0.31652988 0.84433372 1.02505118\n",
            "  1.11052833 0.85105034 0.9542587  0.67891186 0.74238713 0.40084232\n",
            "  1.07487709 0.58414603 0.62729017 0.20606974 0.51138874 0.73198896\n",
            "  0.85705848 0.59464172 0.59453398 1.11088464 0.86554695 0.39155339\n",
            "  0.87058942 0.11360375 0.59446827 0.87208855 0.46970891 0.76881632\n",
            "  0.         0.57407438 0.56577874 1.01591527 1.26778906 0.45059029\n",
            "  1.03552429 0.87895143 0.8862814  0.45811414 0.93657373 1.17278238\n",
            "  0.74727739 1.01630243 1.14420815 0.70785437]\n",
            " [0.23719996 0.50763207 0.33761363 0.40067651 0.26499921 0.1625734\n",
            "  0.5830815  0.70699113 0.38439887 0.21000954 0.59611192 0.21041773\n",
            "  0.88081868 0.73199628 0.1628     0.60379006 0.88064116 0.57369599\n",
            "  0.43224517 0.41691336 0.82203312 0.2459068  0.37249577 0.44049271\n",
            "  0.56620692 0.92770919 0.89993104 0.62368109 0.05832706 0.32071303\n",
            "  0.75989777 0.41754916 0.25167048 0.22996761 0.8850274  0.79613036\n",
            "  0.47075736 0.34094807 0.88636895 0.39709044 0.46510169 0.75149895\n",
            "  0.93049455 0.32913911 0.72818096 0.11796894 0.89751088 0.52701143\n",
            "  0.84091143 0.23663984 0.64944587 0.32116145 0.22697418 0.53056976\n",
            "  0.77605572 0.32663443 0.66242797 0.49996495 0.79369577 0.47894192\n",
            "  0.61354253 0.66896355 0.47413575 0.11774181 0.34656681 0.30607268\n",
            "  0.57905536 0.15240399 0.40195629 0.57522907 0.10725954 0.19698063\n",
            "  0.78527381 0.66117833 0.1000421  0.63178153 0.2923336  0.19236685\n",
            "  0.7619718  0.46073831 0.60688591 0.78322583 0.10436547 0.55344153\n",
            "  0.57407438 0.         0.09243854 0.49658282 0.8387824  0.61550312\n",
            "  0.76264729 0.63177982 0.3774374  0.62515087 0.84264371 0.8455525\n",
            "  0.31972176 0.86758063 0.79401998 0.19569632]\n",
            " [0.22115516 0.43375829 0.24621918 0.40449671 0.20318095 0.11817502\n",
            "  0.50427137 0.62529953 0.31217323 0.19287417 0.52952319 0.2425289\n",
            "  0.7883805  0.65647345 0.07173319 0.51287563 0.78846863 0.48186416\n",
            "  0.36014455 0.36965448 0.73671237 0.15360232 0.4003573  0.40293006\n",
            "  0.47678058 0.83579447 0.80909578 0.53816424 0.15076195 0.32627859\n",
            "  0.67008535 0.42036477 0.297123   0.27831428 0.79357132 0.70890498\n",
            "  0.47586514 0.31190169 0.82580577 0.39458878 0.37289017 0.66456208\n",
            "  0.84006645 0.23700514 0.65178556 0.0273839  0.83115473 0.44428035\n",
            "  0.7655998  0.248273   0.56154768 0.35263938 0.17158563 0.48578744\n",
            "  0.68951804 0.23469439 0.57322665 0.4419268  0.7018181  0.46077878\n",
            "  0.57030754 0.57707839 0.42161315 0.19033112 0.26526987 0.24081225\n",
            "  0.5348124  0.06122901 0.30962738 0.5343991  0.18109548 0.27576082\n",
            "  0.69306715 0.57736812 0.02897206 0.58216507 0.32885378 0.17493681\n",
            "  0.66953431 0.45568802 0.52089503 0.69084749 0.12712051 0.46155593\n",
            "  0.56577874 0.09243854 0.         0.46180517 0.77787432 0.54332263\n",
            "  0.6767534  0.54220774 0.33478755 0.5525847  0.75020533 0.76662071\n",
            "  0.2440263  0.77589605 0.71757375 0.28141495]\n",
            " [0.2617613  0.25313853 0.49706518 0.20142121 0.27233636 0.34466224\n",
            "  0.77838333 0.85654667 0.66374808 0.28732714 0.86093117 0.34903057\n",
            "  0.78826325 0.92604544 0.4283426  0.65604477 0.82464883 0.60861838\n",
            "  0.23422556 0.10827042 0.91657911 0.43188078 0.30635943 0.05958516\n",
            "  0.44884362 0.87855445 0.89162397 0.42054407 0.52505252 0.2342372\n",
            "  0.58237511 0.87956941 0.37676907 0.72595476 0.86050123 0.87039796\n",
            "  0.9353128  0.1558988  0.43177568 0.17648988 0.52764926 0.83723745\n",
            "  0.92802805 0.43145963 0.91660134 0.4660339  0.46799811 0.34042759\n",
            "  0.47470627 0.71004697 0.47057273 0.32163899 0.29311447 0.88708872\n",
            "  0.8627816  0.4248686  0.73296057 0.81491075 0.7690771  0.08950553\n",
            "  0.12519446 0.5767403  0.10573156 0.46250078 0.31092406 0.63291773\n",
            "  0.09748983 0.43258749 0.49134652 0.94017974 0.60162524 0.49853076\n",
            "  0.74461798 0.79920012 0.4333199  0.16092194 0.34253461 0.63344292\n",
            "  0.69644344 0.91044656 0.73389005 0.72725091 0.58340144 0.5046235\n",
            "  1.01591527 0.49658282 0.46180517 0.         0.38910554 0.84761303\n",
            "  0.51936475 0.48922225 0.12963499 0.85350586 0.75738429 0.50854338\n",
            "  0.28680535 0.71882524 0.44511171 0.53548119]\n",
            " [0.6259965  0.36112697 0.69452001 0.58712588 0.57610652 0.67622454\n",
            "  0.89283481 0.91975449 0.86275949 0.64575853 1.00419209 0.73006055\n",
            "  0.67593049 1.00707402 0.72135647 0.70786804 0.73411413 0.66724111\n",
            "  0.42446606 0.42845802 0.92546533 0.68330471 0.69246241 0.42508482\n",
            "  0.47635967 0.78061488 0.82459304 0.387221   0.87946717 0.62243992\n",
            "  0.46720113 1.15952061 0.76396059 1.05613068 0.78738334 0.87393125\n",
            "  1.21365885 0.52450383 0.04797775 0.56409282 0.64646643 0.8575768\n",
            "  0.85787307 0.63581366 0.99536309 0.77141858 0.08805849 0.40346427\n",
            "  0.1871338  1.01392461 0.42237555 0.710673   0.61230108 1.0881446\n",
            "  0.87766876 0.6314425  0.77129405 1.00029639 0.7206062  0.46468398\n",
            "  0.26965767 0.54609374 0.36767001 0.83275908 0.53286639 0.86717147\n",
            "  0.29175375 0.72941387 0.64890305 1.13994388 0.94585031 0.88024046\n",
            "  0.69032201 0.86805279 0.75346414 0.2281848  0.73143937 0.92676368\n",
            "  0.63733948 1.17728631 0.813303   0.66561061 0.90487284 0.55257359\n",
            "  1.26778906 0.8387824  0.77787432 0.38910554 0.         0.97118484\n",
            "  0.36774232 0.46387095 0.47112231 0.9732572  0.66056146 0.24425651\n",
            "  0.53971517 0.57641012 0.2049566  0.91546676]\n",
            " [0.7133492  0.64690163 0.35737485 0.89344113 0.60825258 0.61305349\n",
            "  0.07849896 0.14508958 0.23160901 0.69184528 0.05483313 0.77814718\n",
            "  0.52718673 0.12108137 0.50733284 0.27758014 0.48247398 0.30915305\n",
            "  0.62377194 0.74045015 0.27390749 0.44926822 0.92284458 0.79515409\n",
            "  0.49508557 0.50144793 0.43704893 0.58686535 0.66408681 0.82804751\n",
            "  0.58244585 0.4684806  0.83702207 0.60372898 0.44715281 0.28099461\n",
            "  0.49095651 0.75370828 1.01245598 0.87369357 0.33343595 0.24522541\n",
            "  0.45004882 0.41958208 0.12080593 0.51727591 0.97627849 0.57675378\n",
            "  0.85016148 0.49878553 0.56141578 0.88132667 0.61414542 0.22191122\n",
            "  0.2555647  0.42633296 0.24565635 0.15679722 0.40279729 0.89493394\n",
            "  0.89970915 0.46002661 0.75385967 0.72999967 0.53703157 0.3101015\n",
            "  0.86825997 0.51220564 0.35708649 0.24755933 0.63230685 0.81238262\n",
            "  0.41998865 0.14814942 0.56041134 0.88061248 0.8626672  0.45744442\n",
            "  0.44392943 0.43769571 0.17060245 0.43870836 0.54574456 0.41925437\n",
            "  0.45059029 0.61550312 0.54332263 0.84761303 0.97118484 0.\n",
            "  0.66255887 0.51863314 0.73308441 0.01024218 0.49957218 0.81456377\n",
            "  0.56563782 0.58997417 0.80369216 0.8092468 ]\n",
            " [0.63053002 0.29302642 0.48964424 0.69838789 0.52090046 0.61955168\n",
            "  0.58567468 0.58195787 0.62333971 0.63558334 0.7054729  0.74962882\n",
            "  0.31101477 0.67257464 0.60582986 0.38510757 0.36699304 0.35617116\n",
            "  0.36023129 0.47292328 0.56707445 0.53407482 0.7916064  0.51108806\n",
            "  0.21191809 0.41494603 0.45685261 0.13900529 0.81730396 0.69035047\n",
            "  0.09999541 0.9638919  0.8042245  0.93357679 0.41966659 0.51576509\n",
            "  1.01204498 0.56768189 0.39537428 0.67028126 0.38688662 0.5055485\n",
            "  0.49025889 0.45651754 0.66042421 0.6584462  0.33891631 0.2393329\n",
            "  0.20007552 0.86053363 0.12172548 0.78495918 0.56029096 0.82464447\n",
            "  0.52282821 0.45587555 0.43317235 0.73235691 0.35541628 0.60788536\n",
            "  0.46818402 0.20365022 0.42643829 0.80874669 0.41775945 0.65917085\n",
            "  0.45932892 0.61619111 0.42198807 0.87139959 0.85751967 0.88205253\n",
            "  0.32497284 0.53678548 0.66283897 0.42159445 0.7916299  0.77181178\n",
            "  0.27292268 0.96626792 0.49319439 0.29975044 0.78852614 0.26681387\n",
            "  1.03552429 0.76264729 0.6767534  0.51936475 0.36774232 0.66255887\n",
            "  0.         0.15682315 0.50670321 0.66211223 0.29323357 0.15465433\n",
            "  0.45053422 0.21743386 0.16459344 0.90755295]\n",
            " [0.53451053 0.23636493 0.33728742 0.63855037 0.41306432 0.50216968\n",
            "  0.44046459 0.45601967 0.46651677 0.5336202  0.55809262 0.65055099\n",
            "  0.30148102 0.54402461 0.47047799 0.24600474 0.33544812 0.20950697\n",
            "  0.27894657 0.41440154 0.46880702 0.39292946 0.72008469 0.46345212\n",
            "  0.06560657 0.38933507 0.40631141 0.08154143 0.68850787 0.61374719\n",
            "  0.12820525 0.80789907 0.70956374 0.78757246 0.3733947  0.41787456\n",
            "  0.85562289 0.49362206 0.50128122 0.61086131 0.23008981 0.39676372\n",
            "  0.44262241 0.31151133 0.53219598 0.521385   0.45921489 0.15180813\n",
            "  0.33165149 0.71000503 0.04286134 0.70414066 0.44950933 0.67008228\n",
            "  0.4184544  0.31196242 0.30743462 0.57797038 0.28602637 0.57055998\n",
            "  0.47681863 0.09184263 0.38480403 0.69183265 0.29974619 0.50370797\n",
            "  0.45694685 0.48098083 0.2678031  0.71777401 0.72056513 0.77059015\n",
            "  0.25910726 0.40518133 0.53195754 0.43936144 0.70504813 0.62224121\n",
            "  0.20856758 0.80957991 0.35358302 0.23965247 0.64651015 0.11013738\n",
            "  0.87895143 0.63177982 0.54220774 0.48922225 0.46387095 0.51863314\n",
            "  0.15682315 0.         0.43824738 0.51929638 0.26889441 0.29916328\n",
            "  0.33830529 0.24947536 0.28512962 0.79205823]\n",
            " [0.15494946 0.21421673 0.37752408 0.20047495 0.14286432 0.21954621\n",
            "  0.66722903 0.75485896 0.53959909 0.17511249 0.74256329 0.26484124\n",
            "  0.73889981 0.81869314 0.29878144 0.56515126 0.76663449 0.51869192\n",
            "  0.15948786 0.04304116 0.82669308 0.30484265 0.28565013 0.07008914\n",
            "  0.3857007  0.82044788 0.82368631 0.38463331 0.41218337 0.18389122\n",
            "  0.54968188 0.75065917 0.30916383 0.60440146 0.79560608 0.78335569\n",
            "  0.80641393 0.06207627 0.51755183 0.17304798 0.42615518 0.746868\n",
            "  0.85969336 0.3135984  0.80993628 0.33753514 0.5392571  0.28742192\n",
            "  0.51307207 0.58290797 0.43042418 0.27902983 0.16432904 0.76041246\n",
            "  0.77298488 0.30686052 0.64190595 0.69066289 0.70103648 0.16206001\n",
            "  0.23678061 0.516941   0.10475542 0.36164996 0.19911366 0.50496129\n",
            "  0.20185867 0.30318849 0.38170766 0.81331831 0.48422427 0.41308384\n",
            "  0.67965074 0.69783664 0.3067511  0.25501691 0.28869545 0.50476443\n",
            "  0.63590244 0.78098408 0.63217376 0.6655413  0.45861313 0.42697753\n",
            "  0.8862814  0.3774374  0.33478755 0.12963499 0.47112231 0.73308441\n",
            "  0.50670321 0.43824738 0.         0.73960816 0.7048405  0.5345295\n",
            "  0.16744883 0.68337741 0.47388239 0.44671164]\n",
            " [0.72138822 0.65095292 0.36448761 0.9010528  0.61556506 0.62147295\n",
            "  0.08056426 0.13695807 0.24108594 0.70005024 0.06225809 0.78695817\n",
            "  0.5220867  0.11084968 0.51602152 0.27700542 0.47655587 0.30979884\n",
            "  0.62886391 0.7465104  0.26500283 0.45720451 0.93116802 0.8013333\n",
            "  0.4969799  0.49469545 0.42970609 0.5883405  0.67389412 0.83601609\n",
            "  0.58102677 0.47793193 0.84596695 0.61396538 0.44042169 0.2731851\n",
            "  0.49993901 0.76082956 1.01427839 0.88114914 0.33741403 0.23817207\n",
            "  0.44217448 0.42624577 0.11058236 0.52646863 0.97743827 0.57998043\n",
            "  0.85064633 0.50902362 0.56212049 0.88985292 0.62190591 0.23009272\n",
            "  0.24781275 0.43300045 0.24239503 0.16659069 0.3977595  0.90152998\n",
            "  0.9044631  0.45921992 0.75923675 0.7394979  0.54312651 0.31990412\n",
            "  0.87318955 0.52099079 0.36260104 0.25436754 0.64239484 0.82199712\n",
            "  0.41550382 0.14309988 0.56948081 0.88488976 0.87136306 0.46759116\n",
            "  0.44048646 0.44671796 0.16932122 0.43460201 0.55576349 0.42097545\n",
            "  0.45811414 0.62515087 0.5525847  0.85350586 0.9732572  0.01024218\n",
            "  0.66211223 0.51929638 0.73960816 0.         0.49494171 0.8144997\n",
            "  0.57216345 0.58624602 0.80442009 0.81901878]\n",
            " [0.78786813 0.50505639 0.50976377 0.90530192 0.66185756 0.73798489\n",
            "  0.43795    0.37519784 0.56739055 0.78279448 0.55260786 0.89911619\n",
            "  0.03818315 0.46179598 0.68110992 0.2675367  0.0738472  0.27899154\n",
            "  0.54541468 0.6827459  0.31054655 0.59702621 0.9829189  0.73230901\n",
            "  0.3195868  0.12446159 0.16544477 0.3387928  0.90096377 0.87573125\n",
            "  0.1958978  0.91061668 0.96030707 0.95376562 0.12790317 0.26461203\n",
            "  0.94826969 0.75805443 0.68605538 0.87785932 0.3796934  0.27457458\n",
            "  0.19750694 0.51472028 0.45003075 0.72531404 0.6247311  0.42043585\n",
            "  0.48480114 0.86038653 0.28823157 0.96318656 0.69425173 0.7071429\n",
            "  0.28115339 0.5179898  0.25823709 0.62037756 0.09904981 0.83941345\n",
            "  0.73518268 0.18917665 0.65347112 0.92174094 0.54628329 0.63328807\n",
            "  0.71889554 0.691217   0.44144678 0.74262618 0.91541363 1.00503568\n",
            "  0.0798434  0.35190358 0.74732726 0.69336865 0.96103578 0.78186311\n",
            "  0.08082498 0.89642249 0.3421063  0.06609149 0.83148334 0.29686447\n",
            "  0.93657373 0.84264371 0.75020533 0.75738429 0.66056146 0.49957218\n",
            "  0.29323357 0.26889441 0.7048405  0.49494171 0.         0.43116643\n",
            "  0.5872959  0.10478219 0.45608753 1.02127634]\n",
            " [0.67801549 0.34099347 0.61093046 0.70520529 0.58684246 0.69069265\n",
            "  0.73706649 0.73660457 0.7586381  0.68913693 0.85599308 0.7954571\n",
            "  0.44146049 0.82719043 0.6988242  0.53779284 0.50302509 0.50628025\n",
            "  0.41670619 0.49429003 0.71889474 0.63697988 0.80652148 0.51818216\n",
            "  0.34108667 0.54600811 0.59660378 0.24972176 0.89629219 0.71470672\n",
            "  0.25006782 1.09032542 0.84339285 1.03616526 0.55905815 0.66787381\n",
            "  1.14065207 0.59636073 0.2602859  0.67808515 0.52325989 0.65933408\n",
            "  0.62790282 0.56739892 0.81504564 0.75213989 0.19427905 0.32500398\n",
            "  0.05724819 0.97246017 0.25782487 0.80987419 0.62702293 0.96838317\n",
            "  0.67595957 0.56534373 0.58772864 0.87648403 0.5039396  0.59729746\n",
            "  0.42408589 0.35768775 0.43696342 0.87316028 0.50135494 0.78551841\n",
            "  0.42726572 0.70867598 0.54860088 1.01659493 0.94687692 0.93819429\n",
            "  0.4736115  0.69110762 0.74840282 0.3739521  0.82245212 0.88284541\n",
            "  0.42314864 1.09721461 0.64615173 0.44799809 0.88654654 0.40748115\n",
            "  1.17278238 0.8455525  0.76662071 0.50854338 0.24425651 0.81456377\n",
            "  0.15465433 0.29916328 0.5345295  0.8144997  0.43116643 0.\n",
            "  0.52583574 0.33886492 0.0634834  0.96796049]\n",
            " [0.20068385 0.18974351 0.21087376 0.34471342 0.07508425 0.16904761\n",
            "  0.50013731 0.59121264 0.37731301 0.19628382 0.57576758 0.31323755\n",
            "  0.62392291 0.6524254  0.18221382 0.41113928 0.64127118 0.36663943\n",
            "  0.11672168 0.17855721 0.67032088 0.15239676 0.40389871 0.23118088\n",
            "  0.27511762 0.6937917  0.68683397 0.31247079 0.37104245 0.29706461\n",
            "  0.46395241 0.6252063  0.37353834 0.52070531 0.6623358  0.6295819\n",
            "  0.68032664 0.19520969 0.58766302 0.32080752 0.26581405 0.59080446\n",
            "  0.72188758 0.1462469  0.64391632 0.23374308 0.5886903  0.21139612\n",
            "  0.52222089 0.47422138 0.34601481 0.37837676 0.11149898 0.60251505\n",
            "  0.61712378 0.13952577 0.48649359 0.52837687 0.56654042 0.32939849\n",
            "  0.3649092  0.39915245 0.20833616 0.35840993 0.04131287 0.35250044\n",
            "  0.32965792 0.19078632 0.21624587 0.65578209 0.42208302 0.43396071\n",
            "  0.54900518 0.53463086 0.22351056 0.3636633  0.37416583 0.38748872\n",
            "  0.51159038 0.64832022 0.4691479  0.53890575 0.36894556 0.29288383\n",
            "  0.74727739 0.31972176 0.2440263  0.28680535 0.53971517 0.56563782\n",
            "  0.45053422 0.33830529 0.16744883 0.57216345 0.5872959  0.52583574\n",
            "  0.         0.58680237 0.47474436 0.45773045]\n",
            " [0.78395965 0.47322002 0.54676439 0.88244627 0.66179184 0.74770524\n",
            "  0.52331439 0.47320412 0.63020705 0.78266834 0.64144021 0.89966112\n",
            "  0.10409618 0.56164345 0.70478548 0.33587687 0.16861484 0.33413743\n",
            "  0.52546848 0.65601891 0.41512463 0.62272359 0.9674454  0.70131104\n",
            "  0.31170268 0.20756953 0.26395634 0.30059876 0.92540946 0.86176946\n",
            "  0.1364505  0.97798769 0.95894091 0.99973545 0.22694856 0.36850701\n",
            "  1.0188783  0.74060111 0.59794052 0.85446991 0.41898757 0.37556288\n",
            "  0.29243173 0.53915657 0.54969355 0.75276897 0.53310049 0.39627935\n",
            "  0.39458902 0.91160464 0.25304158 0.95300411 0.69746811 0.7893774\n",
            "  0.38400661 0.54122814 0.34460215 0.70001278 0.20000235 0.80470806\n",
            "  0.68084203 0.19915387 0.61877037 0.93609504 0.5474066  0.68859174\n",
            "  0.66881666 0.71520187 0.47551649 0.82800675 0.94875798 1.01661856\n",
            "  0.17499912 0.44451099 0.76918447 0.63580584 0.95440904 0.82882222\n",
            "  0.14669389 0.96821704 0.42539891 0.1528095  0.86865588 0.31447372\n",
            "  1.01630243 0.86758063 0.77589605 0.71882524 0.57641012 0.58997417\n",
            "  0.21743386 0.24947536 0.68337741 0.58624602 0.10478219 0.33886492\n",
            "  0.58680237 0.         0.37176406 1.0363885 ]\n",
            " [0.61948684 0.28680933 0.57581832 0.64214698 0.53268138 0.63695996\n",
            "  0.72543601 0.736009   0.73047396 0.63163248 0.84230723 0.73618091\n",
            "  0.47097714 0.82557767 0.65125594 0.53020652 0.52947891 0.49462239\n",
            "  0.36263583 0.43310557 0.72961808 0.59348775 0.74380069 0.45553624\n",
            "  0.31645465 0.57567601 0.62064965 0.22225808 0.84348108 0.65293803\n",
            "  0.26458757 1.05495984 0.78301554 0.99016316 0.58331295 0.67814395\n",
            "  1.10638786 0.53548689 0.23078889 0.6151161  0.49834707 0.66548016\n",
            "  0.65355112 0.52797538 0.81356852 0.7044148  0.17683283 0.28232113\n",
            "  0.05034596 0.93041096 0.24229981 0.74794959 0.572701   0.94601314\n",
            "  0.68395072 0.52534558 0.5864476  0.85489185 0.51982277 0.53382405\n",
            "  0.36157348 0.35628541 0.37500253 0.81700759 0.45303172 0.75155466\n",
            "  0.36400773 0.6608643  0.51717026 0.99551966 0.89678743 0.88022611\n",
            "  0.48939402 0.68758653 0.69816568 0.31150369 0.76110651 0.84082986\n",
            "  0.43704617 1.06452051 0.63829039 0.46425649 0.83952425 0.38812936\n",
            "  1.14420815 0.79401998 0.71757375 0.44511171 0.2049566  0.80369216\n",
            "  0.16459344 0.28512962 0.47388239 0.80442009 0.45608753 0.0634834\n",
            "  0.47474436 0.37176406 0.         0.91070895]\n",
            " [0.29313586 0.62807988 0.52634427 0.37307339 0.38677533 0.29005456\n",
            "  0.77864333 0.90268171 0.57898581 0.27908778 0.78732576 0.18652037\n",
            "  1.05924763 0.92670617 0.34375747 0.79300285 1.06410242 0.76002719\n",
            "  0.55346338 0.48974681 1.01706998 0.42769248 0.29727344 0.49130339\n",
            "  0.72704182 1.1128218  1.08901521 0.77008006 0.14540087 0.30743961\n",
            "  0.91949038 0.54522932 0.17124873 0.31329867 1.07224976 0.99014349\n",
            "  0.59104619 0.39098652 0.96087359 0.38347183 0.64975906 0.94569825\n",
            "  1.12050048 0.50752608 0.92314934 0.30866448 0.98583578 0.66824453\n",
            "  0.95350877 0.37571433 0.80313037 0.24998459 0.34726249 0.70689967\n",
            "  0.97050356 0.50381805 0.85455248 0.68690318 0.9792483  0.48563942\n",
            "  0.6606197  0.84073622 0.55146624 0.10031005 0.49348517 0.49915868\n",
            "  0.63062862 0.33435563 0.58602636 0.74701805 0.20017018 0.03904193\n",
            "  0.96867422 0.85661082 0.27712468 0.69150506 0.218065   0.36630613\n",
            "  0.9413683  0.59604223 0.80156236 0.96454807 0.27094847 0.72639979\n",
            "  0.70785437 0.19569632 0.28141495 0.53548119 0.91546676 0.8092468\n",
            "  0.90755295 0.79205823 0.44671164 0.81901878 1.02127634 0.96796049\n",
            "  0.45773045 1.0363885  0.91070895 0.        ]]\n"
          ]
        }
      ]
    },
    {
      "cell_type": "code",
      "metadata": {
        "colab": {
          "base_uri": "https://localhost:8080/"
        },
        "id": "hqXD2ynkheHd",
        "outputId": "83b650f7-2c03-457a-944b-ce7902f61336"
      },
      "source": [
        "#53\n",
        "floatarr = np.array([1.2,2.3,3.4])\n",
        "intarr = floatarr.astype(np.int32, copy=False)\n",
        "print(intarr)"
      ],
      "execution_count": null,
      "outputs": [
        {
          "output_type": "stream",
          "name": "stdout",
          "text": [
            "[1 2 3]\n"
          ]
        }
      ]
    },
    {
      "cell_type": "code",
      "metadata": {
        "id": "f2chkOeqheTe"
      },
      "source": [
        "#54\n",
        "# Ans: x = np.genfromtxt(abc.xyz, delimiter=\",\", dtype=np.int)"
      ],
      "execution_count": null,
      "outputs": []
    },
    {
      "cell_type": "code",
      "metadata": {
        "colab": {
          "base_uri": "https://localhost:8080/"
        },
        "id": "TW6_0t_BhegY",
        "outputId": "fd3e7a21-54e3-4afb-a585-c6f0218f1b0e"
      },
      "source": [
        "#55\n",
        "x = np.ones(12).reshape(3,4)\n",
        "for index in np.ndindex(x.shape):\n",
        "    print(index, x[index])"
      ],
      "execution_count": null,
      "outputs": [
        {
          "output_type": "stream",
          "name": "stdout",
          "text": [
            "(0, 0) 1.0\n",
            "(0, 1) 1.0\n",
            "(0, 2) 1.0\n",
            "(0, 3) 1.0\n",
            "(1, 0) 1.0\n",
            "(1, 1) 1.0\n",
            "(1, 2) 1.0\n",
            "(1, 3) 1.0\n",
            "(2, 0) 1.0\n",
            "(2, 1) 1.0\n",
            "(2, 2) 1.0\n",
            "(2, 3) 1.0\n"
          ]
        }
      ]
    },
    {
      "cell_type": "code",
      "metadata": {
        "colab": {
          "base_uri": "https://localhost:8080/"
        },
        "id": "3C-2XoHLherg",
        "outputId": "3ac52f17-5bd6-418e-9999-4e51a8810ab9"
      },
      "source": [
        "#56\n",
        "x, y = np.meshgrid(np.linspace(-1,1,10), np.linspace(-1,1,10))\n",
        "d = np.sqrt(x*x+y*y)\n",
        "sigma, mu = 1.0, 0.0\n",
        "g = np.exp(-( (d-mu)**2 / ( 2.0 * sigma**2 ) ) )\n",
        "print(\"2D generic gaussian-like array:\")\n",
        "print(g)"
      ],
      "execution_count": null,
      "outputs": [
        {
          "output_type": "stream",
          "name": "stdout",
          "text": [
            "2D generic gaussian-like array:\n",
            "[[0.36787944 0.44822088 0.51979489 0.57375342 0.60279818 0.60279818\n",
            "  0.57375342 0.51979489 0.44822088 0.36787944]\n",
            " [0.44822088 0.54610814 0.63331324 0.69905581 0.73444367 0.73444367\n",
            "  0.69905581 0.63331324 0.54610814 0.44822088]\n",
            " [0.51979489 0.63331324 0.73444367 0.81068432 0.85172308 0.85172308\n",
            "  0.81068432 0.73444367 0.63331324 0.51979489]\n",
            " [0.57375342 0.69905581 0.81068432 0.89483932 0.9401382  0.9401382\n",
            "  0.89483932 0.81068432 0.69905581 0.57375342]\n",
            " [0.60279818 0.73444367 0.85172308 0.9401382  0.98773022 0.98773022\n",
            "  0.9401382  0.85172308 0.73444367 0.60279818]\n",
            " [0.60279818 0.73444367 0.85172308 0.9401382  0.98773022 0.98773022\n",
            "  0.9401382  0.85172308 0.73444367 0.60279818]\n",
            " [0.57375342 0.69905581 0.81068432 0.89483932 0.9401382  0.9401382\n",
            "  0.89483932 0.81068432 0.69905581 0.57375342]\n",
            " [0.51979489 0.63331324 0.73444367 0.81068432 0.85172308 0.85172308\n",
            "  0.81068432 0.73444367 0.63331324 0.51979489]\n",
            " [0.44822088 0.54610814 0.63331324 0.69905581 0.73444367 0.73444367\n",
            "  0.69905581 0.63331324 0.54610814 0.44822088]\n",
            " [0.36787944 0.44822088 0.51979489 0.57375342 0.60279818 0.60279818\n",
            "  0.57375342 0.51979489 0.44822088 0.36787944]]\n"
          ]
        }
      ]
    },
    {
      "cell_type": "code",
      "metadata": {
        "colab": {
          "base_uri": "https://localhost:8080/"
        },
        "id": "ejcSPY-Uhe4c",
        "outputId": "3629ff51-67b8-4102-b9e2-385a1ec70487"
      },
      "source": [
        "#57\n",
        "p = [1,2,3]\n",
        "x = np.zeros((5,5))\n",
        "for i in p:\n",
        "  np.put(x, np.random.choice(range(25), 1, replace=False),i)\n",
        "print(x)"
      ],
      "execution_count": null,
      "outputs": [
        {
          "output_type": "stream",
          "name": "stdout",
          "text": [
            "[[0. 0. 3. 0. 0.]\n",
            " [0. 2. 0. 0. 0.]\n",
            " [0. 0. 0. 0. 0.]\n",
            " [0. 1. 0. 0. 0.]\n",
            " [0. 0. 0. 0. 0.]]\n"
          ]
        }
      ]
    },
    {
      "cell_type": "code",
      "metadata": {
        "colab": {
          "base_uri": "https://localhost:8080/"
        },
        "id": "HbxoVh-ehfEQ",
        "outputId": "0fb9802c-3406-4547-f61e-542302391605"
      },
      "source": [
        "#58\n",
        "x = np.random.rand(3, 4)\n",
        "x = x - x.mean(axis=1, keepdims=True)\n",
        "print(x)"
      ],
      "execution_count": null,
      "outputs": [
        {
          "output_type": "stream",
          "name": "stdout",
          "text": [
            "[[ 0.378556   -0.44348019 -0.15436792  0.21929212]\n",
            " [ 0.13820726 -0.03997987 -0.19523455  0.09700716]\n",
            " [ 0.29364955 -0.45422127 -0.23421283  0.39478455]]\n"
          ]
        }
      ]
    },
    {
      "cell_type": "code",
      "metadata": {
        "colab": {
          "base_uri": "https://localhost:8080/"
        },
        "id": "fjlnGAVNhfPE",
        "outputId": "da5197dc-289b-4ca2-b039-ea8ef7c1a99d"
      },
      "source": [
        "#59\n",
        "x = np.random.rand(12).reshape(3,4)\n",
        "print(x)\n",
        "print(x[x[:,2].argsort()]) # Sorting based on 2nd column"
      ],
      "execution_count": null,
      "outputs": [
        {
          "output_type": "stream",
          "name": "stdout",
          "text": [
            "[[5.23798984e-01 5.47538079e-03 3.83735682e-03 8.17351307e-01]\n",
            " [8.96129036e-01 2.10508628e-01 7.07422971e-01 4.62413270e-01]\n",
            " [9.17045475e-05 1.06309273e-01 1.11537993e-01 4.76554808e-01]]\n",
            "[[5.23798984e-01 5.47538079e-03 3.83735682e-03 8.17351307e-01]\n",
            " [9.17045475e-05 1.06309273e-01 1.11537993e-01 4.76554808e-01]\n",
            " [8.96129036e-01 2.10508628e-01 7.07422971e-01 4.62413270e-01]]\n"
          ]
        }
      ]
    },
    {
      "cell_type": "code",
      "metadata": {
        "colab": {
          "base_uri": "https://localhost:8080/"
        },
        "id": "NyHCjWTXhfaS",
        "outputId": "a572750e-8f35-4e0f-9e6e-89cafc79962d"
      },
      "source": [
        "#60\n",
        "x = np.ones((3,3))\n",
        "print((~Z.any(axis=0)).any())"
      ],
      "execution_count": null,
      "outputs": [
        {
          "output_type": "stream",
          "name": "stdout",
          "text": [
            "False\n"
          ]
        }
      ]
    },
    {
      "cell_type": "code",
      "metadata": {
        "colab": {
          "base_uri": "https://localhost:8080/"
        },
        "id": "C8lhTUCFhflE",
        "outputId": "ff87e231-8cb9-4c6b-da3b-affad509afd0"
      },
      "source": [
        "#61\n",
        "x = np.random.rand(5)\n",
        "v = 0.5\n",
        "index = (np.abs(x-v)).argmin()\n",
        "print(v,x[index])"
      ],
      "execution_count": null,
      "outputs": [
        {
          "output_type": "stream",
          "name": "stdout",
          "text": [
            "0.5 0.5625073107677551\n"
          ]
        }
      ]
    },
    {
      "cell_type": "code",
      "metadata": {
        "colab": {
          "base_uri": "https://localhost:8080/"
        },
        "id": "9wehUvDShfxe",
        "outputId": "44844dd9-d1aa-48f9-d1f9-a9ffa723abad"
      },
      "source": [
        "#62\n",
        "x = np.arange(3).reshape(3,1)\n",
        "y = np.arange(3).reshape(1,3)\n",
        "it = np.nditer([x,y,None])\n",
        "for a,b,c in it: c[...] = a + b\n",
        "print(it.operands[2])"
      ],
      "execution_count": null,
      "outputs": [
        {
          "output_type": "stream",
          "name": "stdout",
          "text": [
            "[[0 1 2]\n",
            " [1 2 3]\n",
            " [2 3 4]]\n"
          ]
        }
      ]
    },
    {
      "cell_type": "code",
      "metadata": {
        "colab": {
          "base_uri": "https://localhost:8080/"
        },
        "id": "ER2zUziWhf9T",
        "outputId": "c4fc4e4e-97a0-41bd-f93b-850fb6e73fa2"
      },
      "source": [
        "#63\n",
        "class NamedArray(np.ndarray):\n",
        "  \n",
        "    def __new__(cls, array, name=\"no name\"):\n",
        "        obj = np.asarray(array).view(cls)\n",
        "        obj.name = name\n",
        "        return obj\n",
        "\n",
        "    def __array_finalize__(self, obj):\n",
        "        if obj is None: return\n",
        "        self.info = getattr(obj, 'name', \"no name\")\n",
        "\n",
        "x = NamedArray(np.arange(5), \"arr10\")\n",
        "print(x.name)"
      ],
      "execution_count": null,
      "outputs": [
        {
          "output_type": "stream",
          "name": "stdout",
          "text": [
            "arr10\n"
          ]
        }
      ]
    },
    {
      "cell_type": "code",
      "metadata": {
        "colab": {
          "base_uri": "https://localhost:8080/"
        },
        "id": "Xp5i0b97hgLH",
        "outputId": "5264fab7-604b-4bd3-93ea-9f10696aabb3"
      },
      "source": [
        "#64\n",
        "x = np.random.rand(10)\n",
        "y = [1,2,3,4,5]\n",
        "np.add.at(x, y, 1)\n",
        "print(x)"
      ],
      "execution_count": null,
      "outputs": [
        {
          "output_type": "stream",
          "name": "stdout",
          "text": [
            "[0.94853331 1.72259463 1.58680616 1.00319165 1.02330655 1.33136519\n",
            " 0.09886901 0.03933661 0.17978295 0.19719607]\n"
          ]
        }
      ]
    },
    {
      "cell_type": "code",
      "metadata": {
        "colab": {
          "base_uri": "https://localhost:8080/"
        },
        "id": "ibhZZv3OhgXX",
        "outputId": "f23c1e0f-c6f7-4924-87d4-3d3b2717096a"
      },
      "source": [
        "#65\n",
        "X = [1,2,3,4,5,6]\n",
        "I = [1,3,9,3,4,1]\n",
        "F = np.bincount(I,X)\n",
        "print(X,F)\n"
      ],
      "execution_count": null,
      "outputs": [
        {
          "output_type": "stream",
          "name": "stdout",
          "text": [
            "[1, 2, 3, 4, 5, 6] [0. 7. 0. 6. 5. 0. 0. 0. 0. 3.]\n"
          ]
        }
      ]
    },
    {
      "cell_type": "code",
      "metadata": {
        "colab": {
          "base_uri": "https://localhost:8080/"
        },
        "id": "xXC9W2Sxhgiq",
        "outputId": "ec780263-f26f-427e-cd25-7372fffac147"
      },
      "source": [
        "#66\n",
        "w,h = 16,16\n",
        "I = np.random.randint(0,2,(h,w,3)).astype(np.ubyte)\n",
        "#Note that we should compute 256*256 first. \n",
        "#Otherwise numpy will only promote F.dtype to 'uint16' and overfolw will occur\n",
        "F = I[...,0]*(256*256) + I[...,1]*256 +I[...,2]\n",
        "n = len(np.unique(F))\n",
        "print(n)"
      ],
      "execution_count": null,
      "outputs": [
        {
          "output_type": "stream",
          "name": "stdout",
          "text": [
            "8\n"
          ]
        }
      ]
    },
    {
      "cell_type": "code",
      "metadata": {
        "colab": {
          "base_uri": "https://localhost:8080/"
        },
        "id": "4HhOsvdzhgv8",
        "outputId": "955133f4-4953-49d1-ddf8-f9714dbc025f"
      },
      "source": [
        "#67\n",
        "A = np.random.randint(0,10,(3,4,3,4))\n",
        "# solution by passing a tuple of axes (introduced in numpy 1.7.0)\n",
        "sum = A.sum(axis=(-2,-1))\n",
        "print(sum)\n",
        "# solution by flattening the last two dimensions into one\n",
        "# (useful for functions that don't accept tuples for axis argument)\n",
        "sum = A.reshape(A.shape[:-2] + (-1,)).sum(axis=-1)\n",
        "print(sum)"
      ],
      "execution_count": null,
      "outputs": [
        {
          "output_type": "stream",
          "name": "stdout",
          "text": [
            "[[62 40 37 45]\n",
            " [58 63 64 78]\n",
            " [46 44 46 60]]\n",
            "[[62 40 37 45]\n",
            " [58 63 64 78]\n",
            " [46 44 46 60]]\n"
          ]
        }
      ]
    },
    {
      "cell_type": "code",
      "metadata": {
        "colab": {
          "base_uri": "https://localhost:8080/"
        },
        "id": "h-5Irsuwhg6p",
        "outputId": "346ed3e3-a0c7-4202-c64f-dbe8ca8fc56c"
      },
      "source": [
        "#68\n",
        "D = np.random.uniform(0,1,100)\n",
        "S = np.random.randint(0,10,100)\n",
        "D_sums = np.bincount(S, weights=D)\n",
        "D_counts = np.bincount(S)\n",
        "D_means = D_sums / D_counts\n",
        "print(D_means)\n",
        "\n",
        "# Pandas solution as a reference due to more intuitive code\n",
        "import pandas as pd\n",
        "print(pd.Series(D).groupby(S).mean())"
      ],
      "execution_count": null,
      "outputs": [
        {
          "output_type": "stream",
          "name": "stdout",
          "text": [
            "[0.55446403 0.41737426 0.46615378 0.31463246 0.60071164 0.50226488\n",
            " 0.46967542 0.63348486 0.4816909  0.69232161]\n",
            "0    0.554464\n",
            "1    0.417374\n",
            "2    0.466154\n",
            "3    0.314632\n",
            "4    0.600712\n",
            "5    0.502265\n",
            "6    0.469675\n",
            "7    0.633485\n",
            "8    0.481691\n",
            "9    0.692322\n",
            "dtype: float64\n"
          ]
        }
      ]
    },
    {
      "cell_type": "code",
      "metadata": {
        "colab": {
          "base_uri": "https://localhost:8080/"
        },
        "id": "IfzAPxK3hhHh",
        "outputId": "a37fa8b3-ad8c-4fec-9155-83b92b7e8859"
      },
      "source": [
        "#69\n",
        "x = np.random.rand(12).reshape(3,4)\n",
        "y = np.random.rand(12).reshape(4,3)\n",
        "\n",
        "z = np.diag(x.dot(y))\n",
        "print(z)"
      ],
      "execution_count": null,
      "outputs": [
        {
          "output_type": "stream",
          "name": "stdout",
          "text": [
            "[1.06315195 0.91487786 0.63515853]\n"
          ]
        }
      ]
    },
    {
      "cell_type": "code",
      "metadata": {
        "colab": {
          "base_uri": "https://localhost:8080/"
        },
        "id": "2r7vDjhshhTo",
        "outputId": "37ecb556-4b78-4523-8cc6-72ccd10b8b84"
      },
      "source": [
        "#70\n",
        "x = np.array([1,2,3,4,5])\n",
        "n = x.shape\n",
        "out = np.zeros((4*5),dtype=x.dtype)\n",
        "out[::4] = x\n",
        "print(out)"
      ],
      "execution_count": null,
      "outputs": [
        {
          "output_type": "stream",
          "name": "stdout",
          "text": [
            "[1 0 0 0 2 0 0 0 3 0 0 0 4 0 0 0 5 0 0 0]\n"
          ]
        }
      ]
    },
    {
      "cell_type": "code",
      "metadata": {
        "colab": {
          "base_uri": "https://localhost:8080/"
        },
        "id": "1zGQdjpchhf9",
        "outputId": "afe86359-eee1-4104-be2f-1342cd032f58"
      },
      "source": [
        "#71\n",
        "x = np.ones((5,5,3))\n",
        "y = 2*np.ones((5,5))\n",
        "z = x * y[:,:,None]\n",
        "print(z)"
      ],
      "execution_count": null,
      "outputs": [
        {
          "output_type": "stream",
          "name": "stdout",
          "text": [
            "[[[2. 2. 2.]\n",
            "  [2. 2. 2.]\n",
            "  [2. 2. 2.]\n",
            "  [2. 2. 2.]\n",
            "  [2. 2. 2.]]\n",
            "\n",
            " [[2. 2. 2.]\n",
            "  [2. 2. 2.]\n",
            "  [2. 2. 2.]\n",
            "  [2. 2. 2.]\n",
            "  [2. 2. 2.]]\n",
            "\n",
            " [[2. 2. 2.]\n",
            "  [2. 2. 2.]\n",
            "  [2. 2. 2.]\n",
            "  [2. 2. 2.]\n",
            "  [2. 2. 2.]]\n",
            "\n",
            " [[2. 2. 2.]\n",
            "  [2. 2. 2.]\n",
            "  [2. 2. 2.]\n",
            "  [2. 2. 2.]\n",
            "  [2. 2. 2.]]\n",
            "\n",
            " [[2. 2. 2.]\n",
            "  [2. 2. 2.]\n",
            "  [2. 2. 2.]\n",
            "  [2. 2. 2.]\n",
            "  [2. 2. 2.]]]\n"
          ]
        }
      ]
    },
    {
      "cell_type": "code",
      "metadata": {
        "colab": {
          "base_uri": "https://localhost:8080/"
        },
        "id": "6BcLXDHthhrx",
        "outputId": "25548720-c6e8-4a49-82ac-2548c912ce7d"
      },
      "source": [
        "#72\n",
        "x = np.arange(9).reshape(3,3)\n",
        "print(x)\n",
        "x[[0,1]] = x[[1,0]]\n",
        "print(x)"
      ],
      "execution_count": null,
      "outputs": [
        {
          "output_type": "stream",
          "name": "stdout",
          "text": [
            "[[0 1 2]\n",
            " [3 4 5]\n",
            " [6 7 8]]\n",
            "[[3 4 5]\n",
            " [0 1 2]\n",
            " [6 7 8]]\n"
          ]
        }
      ]
    },
    {
      "cell_type": "code",
      "metadata": {
        "colab": {
          "base_uri": "https://localhost:8080/"
        },
        "id": "XS_xw8EWhh4t",
        "outputId": "0267e852-4d46-4905-c397-62ec327776bb"
      },
      "source": [
        "#73\n",
        "faces = np.random.randint(0,100,(10,3))\n",
        "F = np.roll(faces.repeat(2,axis=1),-1,axis=1)\n",
        "F = F.reshape(len(F)*3,2)\n",
        "F = np.sort(F,axis=1)\n",
        "G = F.view( dtype=[('p0',F.dtype),('p1',F.dtype)] )\n",
        "G = np.unique(G)\n",
        "print(G)"
      ],
      "execution_count": null,
      "outputs": [
        {
          "output_type": "stream",
          "name": "stdout",
          "text": [
            "[( 0, 36) ( 0, 40) ( 5,  7) ( 5, 64) ( 6, 19) ( 6, 86) ( 7, 64) (12, 38)\n",
            " (12, 89) (13, 32) (13, 82) (15, 38) (15, 59) (19, 86) (32, 82) (36, 40)\n",
            " (38, 59) (38, 89) (42, 48) (42, 96) (48, 96) (53, 68) (53, 95) (67, 77)\n",
            " (67, 87) (68, 95) (69, 72) (69, 88) (72, 88) (77, 87)]\n"
          ]
        }
      ]
    },
    {
      "cell_type": "code",
      "metadata": {
        "colab": {
          "base_uri": "https://localhost:8080/"
        },
        "id": "b-TaxmmUhiE9",
        "outputId": "c2600dad-63f4-4650-f5e3-4e8864e057fe"
      },
      "source": [
        "#74\n",
        "x = np.bincount([1,1,2,3,4,4,6])\n",
        "y = np.repeat(np.arange(len(x)), x)\n",
        "print(y)"
      ],
      "execution_count": null,
      "outputs": [
        {
          "output_type": "stream",
          "name": "stdout",
          "text": [
            "[1 1 2 3 4 4 6]\n"
          ]
        }
      ]
    },
    {
      "cell_type": "code",
      "metadata": {
        "colab": {
          "base_uri": "https://localhost:8080/"
        },
        "id": "5nFOcXK5hiSj",
        "outputId": "93cd6ffa-0618-4315-d686-366d9c0281b1"
      },
      "source": [
        "#75\n",
        "def moving_average(arr, winsize) :\n",
        "    avg_arr = np.cumsum(arr, dtype=float)\n",
        "    avg_arr[winsize:] = avg_arr[winsize:] - avg_arr[:-winsize]\n",
        "\n",
        "    return avg_arr[winsize - 1:] / winsize\n",
        "\n",
        "x = np.arange(10)\n",
        "print(moving_average(x, 3))"
      ],
      "execution_count": null,
      "outputs": [
        {
          "output_type": "stream",
          "name": "stdout",
          "text": [
            "[1. 2. 3. 4. 5. 6. 7. 8.]\n"
          ]
        }
      ]
    },
    {
      "cell_type": "code",
      "metadata": {
        "colab": {
          "base_uri": "https://localhost:8080/"
        },
        "id": "TVGMIUsIhidf",
        "outputId": "f8f1430c-fda4-4bf7-fd32-559f2e750de4"
      },
      "source": [
        "#76\n",
        "from numpy.lib import stride_tricks\n",
        "\n",
        "def shiftandadd(a, window):\n",
        "    shape = (a.size - window + 1, window)\n",
        "    strides = (a.itemsize, a.itemsize)\n",
        "    return stride_tricks.as_strided(a, shape=shape, strides=strides)\n",
        "\n",
        "x = np.arange(10)\n",
        "ans = shiftandadd(x, 3)\n",
        "print(ans)"
      ],
      "execution_count": null,
      "outputs": [
        {
          "output_type": "stream",
          "name": "stdout",
          "text": [
            "[[0 1 2]\n",
            " [1 2 3]\n",
            " [2 3 4]\n",
            " [3 4 5]\n",
            " [4 5 6]\n",
            " [5 6 7]\n",
            " [6 7 8]\n",
            " [7 8 9]]\n"
          ]
        }
      ]
    },
    {
      "cell_type": "code",
      "metadata": {
        "colab": {
          "base_uri": "https://localhost:8080/"
        },
        "id": "IGEdi_4Dhipw",
        "outputId": "c8acca7b-cc05-45a5-d8c9-9ea483389402"
      },
      "source": [
        "#77\n",
        "x = np.random.uniform(-1.0,1.0,10)\n",
        "print(x)\n",
        "np.negative(x, out=x)\n",
        "print(x)"
      ],
      "execution_count": null,
      "outputs": [
        {
          "output_type": "stream",
          "name": "stdout",
          "text": [
            "[-0.12664457 -0.22701423  0.29945253 -0.37540162  0.04115777 -0.48746646\n",
            "  0.77016631 -0.82510469  0.69509064  0.22766662]\n",
            "[ 0.12664457  0.22701423 -0.29945253  0.37540162 -0.04115777  0.48746646\n",
            " -0.77016631  0.82510469 -0.69509064 -0.22766662]\n"
          ]
        }
      ]
    },
    {
      "cell_type": "code",
      "metadata": {
        "colab": {
          "base_uri": "https://localhost:8080/"
        },
        "id": "7KAhnGi-hi1J",
        "outputId": "b9ed2c8f-741e-4e0c-9437-bf8c9190d8e4"
      },
      "source": [
        "#78\n",
        "def distance(P0, P1, p):\n",
        "    T = P1 - P0\n",
        "    L = (T**2).sum(axis=1)\n",
        "    U = -((P0[:,0]-p[...,0])*T[:,0] + (P0[:,1]-p[...,1])*T[:,1]) / L\n",
        "    U = U.reshape(len(U),1)\n",
        "    D = P0 + U*T - p\n",
        "    return np.sqrt((D**2).sum(axis=1))\n",
        "\n",
        "P0 = np.random.uniform(-10,10,(10,2))\n",
        "P1 = np.random.uniform(-10,10,(10,2))\n",
        "p  = np.random.uniform(-10,10,( 1,2))\n",
        "print(distance(P0, P1, p))"
      ],
      "execution_count": null,
      "outputs": [
        {
          "output_type": "stream",
          "name": "stdout",
          "text": [
            "[ 6.73249554  6.46120291 10.43385551  1.76722791  0.29080602  1.67912162\n",
            "  1.53256984  6.11502361  1.41880994  1.993267  ]\n"
          ]
        }
      ]
    },
    {
      "cell_type": "code",
      "metadata": {
        "colab": {
          "base_uri": "https://localhost:8080/"
        },
        "id": "lCgogi7hhjBE",
        "outputId": "46167727-75b8-4e6c-b4e3-0dafe7676e7c"
      },
      "source": [
        "#79\n",
        "P0 = np.random.uniform(-10, 10, (10,2))\n",
        "P1 = np.random.uniform(-10,10,(10,2))\n",
        "p = np.random.uniform(-10, 10, (10,2))\n",
        "print(np.array([distance(P0,P1,p_i) for p_i in p]))"
      ],
      "execution_count": null,
      "outputs": [
        {
          "output_type": "stream",
          "name": "stdout",
          "text": [
            "[[ 2.083549   11.94620204 12.33737412  4.02978991  9.51959406  2.55588896\n",
            "   0.359253    9.87284953 15.21304232 13.06119993]\n",
            " [ 7.61160686  0.81312215  7.67396094  4.57855826  4.022804    2.68796623\n",
            "   4.49854503  5.98219555  1.77494748  2.42152384]\n",
            " [ 9.57971354  9.1992806  16.15161329 10.15948998  4.9762781   6.05279045\n",
            "   7.00546527 14.08944503 11.07320706 12.75126573]\n",
            " [ 5.04190447  1.74715092  0.21082038  6.53670796  1.67457309 10.1041008\n",
            "   8.04400073  2.4896675   6.75386486  0.93055576]\n",
            " [11.95309824  4.66509924 14.80685464 10.74432719  0.05826495  4.48928984\n",
            "   9.14149837 13.03459886  6.21696733  9.09876472]\n",
            " [ 1.91100883 11.0154314  11.55723698  3.52090861  8.68033412  1.75097535\n",
            "   0.581861    9.12753559 14.34659983 12.10420122]\n",
            " [ 4.88552417  6.90584107  3.50182396  4.47884054  6.53255857  6.22973333\n",
            "   7.61175548  1.00003844 11.71417454  5.98337167]\n",
            " [ 3.55319011  1.95779373  6.50308968  1.73494468  0.34410647  3.64559934\n",
            "   0.57986259  4.53655462  5.25831286  3.83448754]\n",
            " [ 1.35867234  2.09689714  0.07407781  4.44783265  2.92625196 10.2037855\n",
            "   4.55858783  2.0446018   2.30638212  1.64113922]\n",
            " [ 1.27785495  1.95152944  2.80750468  2.872813    0.89700571  7.19400784\n",
            "   4.26136311  0.66045527  6.2074095   2.31103728]]\n"
          ]
        }
      ]
    },
    {
      "cell_type": "code",
      "metadata": {
        "colab": {
          "base_uri": "https://localhost:8080/"
        },
        "id": "KWxAmeXmhjMb",
        "outputId": "69d16d59-5ee8-4cea-ec77-be5e120285e2"
      },
      "source": [
        "#80\n",
        "Z = np.random.randint(0,10,(10,10))\n",
        "shape = (5,5)\n",
        "fill  = 0\n",
        "position = (1,1)\n",
        "\n",
        "R = np.ones(shape, dtype=Z.dtype)*fill\n",
        "P  = np.array(list(position)).astype(int)\n",
        "Rs = np.array(list(R.shape)).astype(int)\n",
        "Zs = np.array(list(Z.shape)).astype(int)\n",
        "\n",
        "R_start = np.zeros((len(shape),)).astype(int)\n",
        "R_stop  = np.array(list(shape)).astype(int)\n",
        "Z_start = (P-Rs//2)\n",
        "Z_stop  = (P+Rs//2)+Rs%2\n",
        "\n",
        "R_start = (R_start - np.minimum(Z_start,0)).tolist()\n",
        "Z_start = (np.maximum(Z_start,0)).tolist()\n",
        "R_stop = np.maximum(R_start, (R_stop - np.maximum(Z_stop-Zs,0))).tolist()\n",
        "Z_stop = (np.minimum(Z_stop,Zs)).tolist()\n",
        "\n",
        "r = [slice(start,stop) for start,stop in zip(R_start,R_stop)]\n",
        "z = [slice(start,stop) for start,stop in zip(Z_start,Z_stop)]\n",
        "R[r] = Z[z]\n",
        "print(Z)\n",
        "print(R)"
      ],
      "execution_count": null,
      "outputs": [
        {
          "output_type": "stream",
          "name": "stdout",
          "text": [
            "[[4 1 8 9 1 8 1 6 5 6]\n",
            " [9 8 2 1 3 4 3 5 9 7]\n",
            " [1 8 5 4 7 7 8 3 0 5]\n",
            " [1 5 6 7 2 4 0 1 5 2]\n",
            " [6 7 0 2 0 3 6 2 8 4]\n",
            " [1 9 2 9 3 8 8 0 7 8]\n",
            " [3 4 1 5 6 3 5 9 6 3]\n",
            " [3 8 5 9 3 9 5 5 1 8]\n",
            " [9 7 5 7 9 9 9 0 5 8]\n",
            " [4 8 8 2 3 8 1 6 8 3]]\n",
            "[[0 0 0 0 0]\n",
            " [0 4 1 8 9]\n",
            " [0 9 8 2 1]\n",
            " [0 1 8 5 4]\n",
            " [0 1 5 6 7]]\n"
          ]
        },
        {
          "output_type": "stream",
          "name": "stderr",
          "text": [
            "/usr/local/lib/python3.7/dist-packages/ipykernel_launcher.py:24: FutureWarning: Using a non-tuple sequence for multidimensional indexing is deprecated; use `arr[tuple(seq)]` instead of `arr[seq]`. In the future this will be interpreted as an array index, `arr[np.array(seq)]`, which will result either in an error or a different result.\n"
          ]
        }
      ]
    },
    {
      "cell_type": "code",
      "metadata": {
        "colab": {
          "base_uri": "https://localhost:8080/"
        },
        "id": "NUdmYvIchjYD",
        "outputId": "2b48e59d-0d03-4456-c90d-4f595188b4ca"
      },
      "source": [
        "#81\n",
        "from numpy.lib import stride_tricks\n",
        "\n",
        "def shiftandadd(a, window):\n",
        "    shape = (a.size - window + 1, window)\n",
        "    strides = (a.itemsize, a.itemsize)\n",
        "    return stride_tricks.as_strided(a, shape=shape, strides=strides)\n",
        "\n",
        "x = np.array([1,2,3,4,5,6,7,8,9,10,11,12,13,14])\n",
        "ans = shiftandadd(x,4)\n",
        "print(ans)"
      ],
      "execution_count": null,
      "outputs": [
        {
          "output_type": "stream",
          "name": "stdout",
          "text": [
            "[[ 1  2  3  4]\n",
            " [ 2  3  4  5]\n",
            " [ 3  4  5  6]\n",
            " [ 4  5  6  7]\n",
            " [ 5  6  7  8]\n",
            " [ 6  7  8  9]\n",
            " [ 7  8  9 10]\n",
            " [ 8  9 10 11]\n",
            " [ 9 10 11 12]\n",
            " [10 11 12 13]\n",
            " [11 12 13 14]]\n"
          ]
        }
      ]
    },
    {
      "cell_type": "code",
      "metadata": {
        "colab": {
          "base_uri": "https://localhost:8080/"
        },
        "id": "LNp6l-uwhjl5",
        "outputId": "cd4088cc-9e16-4a29-ad85-b018e3f26d20"
      },
      "source": [
        "#82\n",
        "x = np.random.rand(25).reshape(5,5)\n",
        "U, S, V = np.linalg.svd(x) # Singular Value Decomposition\n",
        "rank = np.sum(S > 1e-10)\n",
        "print(rank)"
      ],
      "execution_count": null,
      "outputs": [
        {
          "output_type": "stream",
          "name": "stdout",
          "text": [
            "5\n"
          ]
        }
      ]
    },
    {
      "cell_type": "code",
      "metadata": {
        "colab": {
          "base_uri": "https://localhost:8080/"
        },
        "id": "V4jB1ZyAhjxD",
        "outputId": "b6b1e4ac-3c7f-427b-a4cc-2184e39afb49"
      },
      "source": [
        "#83\n",
        "x = np.random.randint(0,10,50)\n",
        "print(np.bincount(x).argmax())"
      ],
      "execution_count": null,
      "outputs": [
        {
          "output_type": "stream",
          "name": "stdout",
          "text": [
            "3\n"
          ]
        }
      ]
    },
    {
      "cell_type": "code",
      "metadata": {
        "colab": {
          "base_uri": "https://localhost:8080/"
        },
        "id": "EdCIXwd0hj70",
        "outputId": "6d5b1867-5627-494a-d7d4-2b8071ca22dd"
      },
      "source": [
        "#84\n",
        "Z = np.random.randint(0,5,(10,10))\n",
        "n = 3\n",
        "i = 1 + (Z.shape[0]-3)\n",
        "j = 1 + (Z.shape[1]-3)\n",
        "C = stride_tricks.as_strided(Z, shape=(i, j, n, n), strides=Z.strides + Z.strides)\n",
        "print(C)"
      ],
      "execution_count": null,
      "outputs": [
        {
          "output_type": "stream",
          "name": "stdout",
          "text": [
            "[[[[4 1 1]\n",
            "   [4 2 3]\n",
            "   [2 2 3]]\n",
            "\n",
            "  [[1 1 4]\n",
            "   [2 3 1]\n",
            "   [2 3 3]]\n",
            "\n",
            "  [[1 4 0]\n",
            "   [3 1 4]\n",
            "   [3 3 1]]\n",
            "\n",
            "  [[4 0 1]\n",
            "   [1 4 3]\n",
            "   [3 1 4]]\n",
            "\n",
            "  [[0 1 4]\n",
            "   [4 3 3]\n",
            "   [1 4 1]]\n",
            "\n",
            "  [[1 4 3]\n",
            "   [3 3 3]\n",
            "   [4 1 1]]\n",
            "\n",
            "  [[4 3 0]\n",
            "   [3 3 0]\n",
            "   [1 1 0]]\n",
            "\n",
            "  [[3 0 3]\n",
            "   [3 0 1]\n",
            "   [1 0 3]]]\n",
            "\n",
            "\n",
            " [[[4 2 3]\n",
            "   [2 2 3]\n",
            "   [1 3 1]]\n",
            "\n",
            "  [[2 3 1]\n",
            "   [2 3 3]\n",
            "   [3 1 0]]\n",
            "\n",
            "  [[3 1 4]\n",
            "   [3 3 1]\n",
            "   [1 0 4]]\n",
            "\n",
            "  [[1 4 3]\n",
            "   [3 1 4]\n",
            "   [0 4 3]]\n",
            "\n",
            "  [[4 3 3]\n",
            "   [1 4 1]\n",
            "   [4 3 1]]\n",
            "\n",
            "  [[3 3 3]\n",
            "   [4 1 1]\n",
            "   [3 1 2]]\n",
            "\n",
            "  [[3 3 0]\n",
            "   [1 1 0]\n",
            "   [1 2 0]]\n",
            "\n",
            "  [[3 0 1]\n",
            "   [1 0 3]\n",
            "   [2 0 4]]]\n",
            "\n",
            "\n",
            " [[[2 2 3]\n",
            "   [1 3 1]\n",
            "   [0 1 1]]\n",
            "\n",
            "  [[2 3 3]\n",
            "   [3 1 0]\n",
            "   [1 1 2]]\n",
            "\n",
            "  [[3 3 1]\n",
            "   [1 0 4]\n",
            "   [1 2 3]]\n",
            "\n",
            "  [[3 1 4]\n",
            "   [0 4 3]\n",
            "   [2 3 4]]\n",
            "\n",
            "  [[1 4 1]\n",
            "   [4 3 1]\n",
            "   [3 4 2]]\n",
            "\n",
            "  [[4 1 1]\n",
            "   [3 1 2]\n",
            "   [4 2 4]]\n",
            "\n",
            "  [[1 1 0]\n",
            "   [1 2 0]\n",
            "   [2 4 3]]\n",
            "\n",
            "  [[1 0 3]\n",
            "   [2 0 4]\n",
            "   [4 3 3]]]\n",
            "\n",
            "\n",
            " [[[1 3 1]\n",
            "   [0 1 1]\n",
            "   [3 3 3]]\n",
            "\n",
            "  [[3 1 0]\n",
            "   [1 1 2]\n",
            "   [3 3 4]]\n",
            "\n",
            "  [[1 0 4]\n",
            "   [1 2 3]\n",
            "   [3 4 1]]\n",
            "\n",
            "  [[0 4 3]\n",
            "   [2 3 4]\n",
            "   [4 1 0]]\n",
            "\n",
            "  [[4 3 1]\n",
            "   [3 4 2]\n",
            "   [1 0 3]]\n",
            "\n",
            "  [[3 1 2]\n",
            "   [4 2 4]\n",
            "   [0 3 0]]\n",
            "\n",
            "  [[1 2 0]\n",
            "   [2 4 3]\n",
            "   [3 0 1]]\n",
            "\n",
            "  [[2 0 4]\n",
            "   [4 3 3]\n",
            "   [0 1 3]]]\n",
            "\n",
            "\n",
            " [[[0 1 1]\n",
            "   [3 3 3]\n",
            "   [1 4 2]]\n",
            "\n",
            "  [[1 1 2]\n",
            "   [3 3 4]\n",
            "   [4 2 1]]\n",
            "\n",
            "  [[1 2 3]\n",
            "   [3 4 1]\n",
            "   [2 1 3]]\n",
            "\n",
            "  [[2 3 4]\n",
            "   [4 1 0]\n",
            "   [1 3 0]]\n",
            "\n",
            "  [[3 4 2]\n",
            "   [1 0 3]\n",
            "   [3 0 0]]\n",
            "\n",
            "  [[4 2 4]\n",
            "   [0 3 0]\n",
            "   [0 0 0]]\n",
            "\n",
            "  [[2 4 3]\n",
            "   [3 0 1]\n",
            "   [0 0 4]]\n",
            "\n",
            "  [[4 3 3]\n",
            "   [0 1 3]\n",
            "   [0 4 4]]]\n",
            "\n",
            "\n",
            " [[[3 3 3]\n",
            "   [1 4 2]\n",
            "   [4 3 3]]\n",
            "\n",
            "  [[3 3 4]\n",
            "   [4 2 1]\n",
            "   [3 3 3]]\n",
            "\n",
            "  [[3 4 1]\n",
            "   [2 1 3]\n",
            "   [3 3 2]]\n",
            "\n",
            "  [[4 1 0]\n",
            "   [1 3 0]\n",
            "   [3 2 0]]\n",
            "\n",
            "  [[1 0 3]\n",
            "   [3 0 0]\n",
            "   [2 0 4]]\n",
            "\n",
            "  [[0 3 0]\n",
            "   [0 0 0]\n",
            "   [0 4 2]]\n",
            "\n",
            "  [[3 0 1]\n",
            "   [0 0 4]\n",
            "   [4 2 2]]\n",
            "\n",
            "  [[0 1 3]\n",
            "   [0 4 4]\n",
            "   [2 2 1]]]\n",
            "\n",
            "\n",
            " [[[1 4 2]\n",
            "   [4 3 3]\n",
            "   [2 2 2]]\n",
            "\n",
            "  [[4 2 1]\n",
            "   [3 3 3]\n",
            "   [2 2 1]]\n",
            "\n",
            "  [[2 1 3]\n",
            "   [3 3 2]\n",
            "   [2 1 4]]\n",
            "\n",
            "  [[1 3 0]\n",
            "   [3 2 0]\n",
            "   [1 4 4]]\n",
            "\n",
            "  [[3 0 0]\n",
            "   [2 0 4]\n",
            "   [4 4 2]]\n",
            "\n",
            "  [[0 0 0]\n",
            "   [0 4 2]\n",
            "   [4 2 0]]\n",
            "\n",
            "  [[0 0 4]\n",
            "   [4 2 2]\n",
            "   [2 0 3]]\n",
            "\n",
            "  [[0 4 4]\n",
            "   [2 2 1]\n",
            "   [0 3 3]]]\n",
            "\n",
            "\n",
            " [[[4 3 3]\n",
            "   [2 2 2]\n",
            "   [4 2 3]]\n",
            "\n",
            "  [[3 3 3]\n",
            "   [2 2 1]\n",
            "   [2 3 2]]\n",
            "\n",
            "  [[3 3 2]\n",
            "   [2 1 4]\n",
            "   [3 2 4]]\n",
            "\n",
            "  [[3 2 0]\n",
            "   [1 4 4]\n",
            "   [2 4 4]]\n",
            "\n",
            "  [[2 0 4]\n",
            "   [4 4 2]\n",
            "   [4 4 4]]\n",
            "\n",
            "  [[0 4 2]\n",
            "   [4 2 0]\n",
            "   [4 4 2]]\n",
            "\n",
            "  [[4 2 2]\n",
            "   [2 0 3]\n",
            "   [4 2 0]]\n",
            "\n",
            "  [[2 2 1]\n",
            "   [0 3 3]\n",
            "   [2 0 1]]]]\n"
          ]
        }
      ]
    },
    {
      "cell_type": "code",
      "metadata": {
        "colab": {
          "base_uri": "https://localhost:8080/"
        },
        "id": "k7DDBHfEhkGp",
        "outputId": "19847210-7d69-419d-e1db-e3a8b3037aa2"
      },
      "source": [
        "#85\n",
        "class Symetric(np.ndarray):\n",
        "    def __setitem__(self, index, value):\n",
        "        i,j = index\n",
        "        super(Symetric, self).__setitem__((i,j), value)\n",
        "        super(Symetric, self).__setitem__((j,i), value)\n",
        "\n",
        "def symetric(Z):\n",
        "    return np.asarray(Z + Z.T - np.diag(Z.diagonal())).view(Symetric)\n",
        "\n",
        "S = symetric(np.random.randint(0,10,(5,5)))\n",
        "S[2,3] = 42\n",
        "print(S)"
      ],
      "execution_count": null,
      "outputs": [
        {
          "output_type": "stream",
          "name": "stdout",
          "text": [
            "[[ 0 18  6 13 17]\n",
            " [18  4 12 14  6]\n",
            " [ 6 12  5 42  4]\n",
            " [13 14 42  5 11]\n",
            " [17  6  4 11  9]]\n"
          ]
        }
      ]
    },
    {
      "cell_type": "code",
      "metadata": {
        "colab": {
          "base_uri": "https://localhost:8080/"
        },
        "id": "5F93n8uIhkR7",
        "outputId": "9e79bcc4-41f7-4b3a-ef8d-ba4b6ae038e2"
      },
      "source": [
        "#86\n",
        "p = 10\n",
        "n = 5\n",
        "M = np.ones((p,n,n))\n",
        "V = np.ones((p,n,1))\n",
        "S = np.tensordot(M, V, axes=[[0, 2], [0, 1]])\n",
        "print(S)"
      ],
      "execution_count": null,
      "outputs": [
        {
          "output_type": "stream",
          "name": "stdout",
          "text": [
            "[[50.]\n",
            " [50.]\n",
            " [50.]\n",
            " [50.]\n",
            " [50.]]\n"
          ]
        }
      ]
    },
    {
      "cell_type": "code",
      "metadata": {
        "colab": {
          "base_uri": "https://localhost:8080/"
        },
        "id": "l4Iag92Shkd0",
        "outputId": "d26b7dd4-ef7a-47bc-e02f-e5ebe175c6f1"
      },
      "source": [
        "#87\n",
        "Z = np.ones((16,16))\n",
        "k = 4\n",
        "S = np.add.reduceat(np.add.reduceat(Z, np.arange(0, Z.shape[0], k), axis=0),\n",
        "                                       np.arange(0, Z.shape[1], k), axis=1)\n",
        "print(S)"
      ],
      "execution_count": null,
      "outputs": [
        {
          "output_type": "stream",
          "name": "stdout",
          "text": [
            "[[16. 16. 16. 16.]\n",
            " [16. 16. 16. 16.]\n",
            " [16. 16. 16. 16.]\n",
            " [16. 16. 16. 16.]]\n"
          ]
        }
      ]
    },
    {
      "cell_type": "code",
      "metadata": {
        "colab": {
          "base_uri": "https://localhost:8080/"
        },
        "id": "zutrKDI8hkpg",
        "outputId": "56943e8b-af69-4dce-e80c-f0d6ac6d24f6"
      },
      "source": [
        "#88\n",
        "def iterate(Z):\n",
        "    # Count neighbours\n",
        "    N = (Z[0:-2,0:-2] + Z[0:-2,1:-1] + Z[0:-2,2:] +\n",
        "         Z[1:-1,0:-2]                + Z[1:-1,2:] +\n",
        "         Z[2:  ,0:-2] + Z[2:  ,1:-1] + Z[2:  ,2:])\n",
        "\n",
        "    # Apply rules\n",
        "    birth = (N==3) & (Z[1:-1,1:-1]==0)\n",
        "    survive = ((N==2) | (N==3)) & (Z[1:-1,1:-1]==1)\n",
        "    Z[...] = 0\n",
        "    Z[1:-1,1:-1][birth | survive] = 1\n",
        "    return Z\n",
        "\n",
        "Z = np.random.randint(0,2,(50,50))\n",
        "for i in range(100): Z = iterate(Z)\n",
        "print(Z)"
      ],
      "execution_count": null,
      "outputs": [
        {
          "output_type": "stream",
          "name": "stdout",
          "text": [
            "[[0 0 0 0 0 0 0 0 0 0 0 0 0 0 0 0 0 0 0 0 0 0 0 0 0 0 0 0 0 0 0 0 0 0 0 0\n",
            "  0 0 0 0 0 0 0 0 0 0 0 0 0 0]\n",
            " [0 0 1 1 0 0 0 0 0 0 0 0 0 0 0 0 0 0 0 0 0 0 0 0 0 0 0 0 0 0 0 0 0 0 0 0\n",
            "  0 0 0 0 0 0 0 0 0 0 0 0 0 0]\n",
            " [0 0 1 1 0 0 0 0 0 0 0 0 0 0 0 0 0 0 0 0 0 0 0 0 0 1 0 0 0 0 0 0 0 0 0 0\n",
            "  0 0 0 1 0 1 0 0 0 0 0 0 0 0]\n",
            " [0 0 0 0 0 0 0 0 0 0 0 0 0 0 0 0 0 0 0 0 0 0 0 0 1 0 1 0 0 0 0 0 0 0 0 0\n",
            "  0 0 1 0 0 0 1 0 0 0 0 0 0 0]\n",
            " [0 0 0 0 0 0 0 0 0 0 0 0 0 0 1 1 1 0 0 0 0 0 0 0 1 1 0 0 0 0 0 0 0 0 0 0\n",
            "  0 1 0 0 0 0 1 0 0 0 0 0 0 0]\n",
            " [0 0 1 0 0 0 0 0 0 0 0 0 0 0 0 0 0 0 0 0 0 0 0 0 0 0 0 0 0 0 0 0 0 0 0 0\n",
            "  0 1 0 0 0 1 1 0 0 0 0 0 0 0]\n",
            " [0 0 1 0 0 0 0 0 0 0 0 0 0 0 0 0 0 0 0 0 0 0 0 0 0 0 0 0 0 0 0 0 0 0 0 0\n",
            "  0 0 1 0 1 0 0 0 0 0 0 0 0 0]\n",
            " [0 0 1 0 0 0 0 0 0 0 0 0 0 0 0 0 0 0 0 0 0 0 0 0 0 0 0 0 0 0 0 0 0 0 0 0\n",
            "  0 0 0 0 0 0 0 0 0 0 0 0 0 0]\n",
            " [0 0 0 0 0 0 0 0 0 0 0 0 0 0 0 0 0 0 0 0 0 0 0 0 0 0 0 0 0 0 0 0 0 0 0 0\n",
            "  1 0 0 0 0 0 0 0 0 0 0 0 0 0]\n",
            " [0 0 0 0 0 0 0 0 0 0 0 0 0 0 0 0 0 0 0 0 0 0 0 0 0 0 0 0 0 0 0 0 1 1 0 0\n",
            "  1 0 0 0 0 0 0 0 0 0 0 0 0 0]\n",
            " [0 0 0 0 0 0 0 0 0 0 0 0 0 0 0 0 0 0 0 0 0 0 0 0 0 0 0 0 0 0 0 0 1 1 0 0\n",
            "  1 1 0 0 0 0 0 0 0 0 0 0 0 0]\n",
            " [0 0 0 0 0 0 0 0 0 0 0 0 0 0 1 0 0 0 0 0 0 0 0 1 0 0 0 0 0 0 0 0 0 0 0 0\n",
            "  0 0 0 0 0 0 0 0 0 0 0 0 0 0]\n",
            " [0 0 0 0 0 0 0 0 0 0 0 0 0 1 0 1 0 0 0 0 0 0 1 0 1 0 0 0 0 0 0 0 0 0 0 0\n",
            "  0 0 1 1 0 0 0 0 0 0 0 0 0 0]\n",
            " [0 0 0 0 0 0 0 0 0 0 0 0 0 0 1 0 0 0 0 0 0 0 1 0 1 0 0 0 0 0 0 0 0 0 0 1\n",
            "  1 0 1 0 0 0 0 0 0 0 0 0 0 0]\n",
            " [0 0 0 0 0 0 0 0 0 0 0 0 0 0 0 0 0 0 0 0 0 0 0 1 0 0 0 0 0 0 0 0 0 0 0 0\n",
            "  1 1 0 0 0 0 0 0 0 0 0 0 0 0]\n",
            " [0 0 0 0 0 0 0 0 0 0 0 0 0 0 0 0 0 0 0 0 0 0 0 0 0 0 0 0 0 0 0 0 0 0 0 0\n",
            "  0 0 0 0 0 0 0 0 0 0 0 0 0 0]\n",
            " [0 0 0 0 0 0 0 0 0 0 0 0 0 0 1 1 0 0 0 0 0 0 0 0 0 0 0 0 0 0 0 0 0 0 0 0\n",
            "  0 0 0 0 0 0 0 0 0 0 0 0 0 0]\n",
            " [0 0 0 0 0 0 0 0 0 0 0 0 0 0 1 0 1 0 0 0 0 0 0 0 0 0 0 0 0 0 0 0 0 0 0 0\n",
            "  0 0 0 0 0 0 0 0 0 0 0 0 0 0]\n",
            " [0 0 0 0 0 0 0 0 0 0 0 0 0 0 0 1 0 0 0 1 1 1 0 0 0 0 0 0 0 0 0 0 0 0 0 0\n",
            "  0 0 0 0 0 0 0 0 0 0 0 0 0 0]\n",
            " [0 0 0 0 0 0 0 0 0 0 0 0 0 0 0 0 0 0 1 0 0 0 1 0 0 0 0 0 0 0 0 0 0 1 1 1\n",
            "  0 0 0 0 0 0 0 0 0 0 0 0 0 0]\n",
            " [0 0 0 0 0 0 0 0 0 0 0 0 0 0 0 0 0 0 1 0 0 0 1 0 0 0 0 0 0 0 0 0 0 0 0 0\n",
            "  0 0 0 0 1 1 0 0 0 0 0 0 0 0]\n",
            " [0 0 0 0 0 0 0 0 0 0 0 0 0 0 0 0 0 0 1 0 0 0 1 0 0 0 0 0 0 0 0 0 0 0 0 0\n",
            "  0 0 0 1 0 0 1 0 0 0 0 0 0 0]\n",
            " [0 0 0 0 0 0 0 0 0 0 0 0 0 0 0 0 0 0 0 1 1 1 0 0 0 0 0 0 0 0 0 0 0 0 0 0\n",
            "  0 0 0 1 0 1 0 0 0 0 0 0 0 0]\n",
            " [0 0 0 0 0 0 0 0 0 0 0 0 0 0 0 0 0 0 0 0 0 0 0 0 0 0 0 0 0 0 0 0 0 0 0 0\n",
            "  0 0 0 0 1 0 0 0 0 0 0 0 0 0]\n",
            " [0 0 0 0 0 0 0 0 0 0 0 0 0 0 0 0 0 0 0 0 0 0 0 0 0 0 0 0 0 0 0 0 0 0 0 0\n",
            "  0 0 0 0 0 0 0 0 0 0 0 0 0 0]\n",
            " [0 0 0 0 0 0 0 0 0 0 0 0 0 0 0 0 0 0 0 0 0 0 0 0 0 0 0 0 0 0 0 0 0 0 0 0\n",
            "  0 0 0 0 0 0 0 0 0 0 0 0 0 0]\n",
            " [0 0 0 0 0 0 0 0 0 0 0 0 0 0 0 0 0 0 0 0 0 0 0 0 0 0 0 0 0 0 0 0 0 0 0 0\n",
            "  0 0 0 0 0 0 0 0 0 0 0 0 0 0]\n",
            " [0 0 0 0 0 0 0 0 0 0 0 0 0 0 0 0 0 0 0 0 0 0 0 0 0 0 0 0 0 0 0 0 0 0 0 0\n",
            "  0 0 0 0 0 0 0 0 0 0 0 0 0 0]\n",
            " [0 0 0 0 0 0 0 0 0 0 0 0 0 0 0 0 0 0 0 0 0 0 0 0 0 0 0 0 0 0 0 0 0 0 0 0\n",
            "  0 0 0 0 0 0 0 0 0 0 0 0 0 0]\n",
            " [0 0 0 0 0 0 0 0 0 0 0 0 0 0 0 0 0 0 0 0 0 0 0 0 0 0 0 0 0 0 0 0 0 0 0 0\n",
            "  0 0 0 0 0 0 0 0 0 0 0 0 0 0]\n",
            " [0 0 0 0 0 0 0 0 0 0 0 0 0 0 0 0 0 0 0 0 0 0 0 0 0 0 0 0 0 0 0 0 0 0 0 0\n",
            "  0 0 0 0 0 0 0 0 0 0 0 0 0 0]\n",
            " [0 0 0 0 0 0 0 0 0 0 0 0 0 0 0 0 0 0 0 0 0 0 0 0 0 0 0 0 0 0 0 0 0 0 0 0\n",
            "  0 0 0 0 0 0 0 0 0 0 0 0 0 0]\n",
            " [0 0 0 0 0 0 0 0 0 0 0 0 0 0 0 0 0 0 0 0 0 0 0 0 0 0 0 0 0 0 0 0 0 0 0 0\n",
            "  0 0 0 0 0 0 0 0 0 0 0 0 0 0]\n",
            " [0 0 0 0 0 0 0 0 0 0 0 0 0 0 0 0 0 0 0 0 0 0 0 0 0 0 0 0 0 0 0 0 0 0 0 0\n",
            "  0 0 0 0 0 0 0 0 0 0 0 0 0 0]\n",
            " [0 0 0 0 0 0 0 0 0 0 0 0 0 0 0 0 0 0 0 0 0 0 0 0 0 0 0 0 0 0 0 0 0 0 0 1\n",
            "  1 0 0 0 0 0 0 0 0 0 0 0 0 0]\n",
            " [0 0 0 0 0 0 0 0 0 0 0 0 0 0 0 0 0 0 0 0 0 0 0 0 0 0 0 0 0 0 0 0 0 0 0 1\n",
            "  1 0 0 0 0 0 0 0 0 0 0 0 0 0]\n",
            " [0 0 0 0 0 0 0 0 0 0 0 0 0 0 0 0 0 0 0 0 0 0 0 0 0 0 0 0 0 0 0 0 0 0 0 0\n",
            "  0 0 0 0 0 0 0 0 0 0 0 0 0 0]\n",
            " [0 0 0 0 0 0 0 0 0 0 0 0 0 0 0 0 0 0 0 0 0 0 0 0 0 0 0 0 0 0 0 0 0 0 0 0\n",
            "  0 0 0 0 0 0 0 0 0 0 0 0 0 0]\n",
            " [0 0 0 0 0 0 0 0 0 0 0 0 0 0 0 0 0 0 0 0 0 0 0 0 0 0 0 0 0 0 0 0 0 0 0 0\n",
            "  0 0 0 0 0 0 0 0 0 0 0 0 0 0]\n",
            " [0 0 0 0 0 0 0 0 0 0 0 0 0 0 0 0 0 0 0 0 0 0 0 0 0 0 0 0 0 0 0 0 0 0 0 0\n",
            "  0 0 0 0 0 0 0 0 0 0 0 0 0 0]\n",
            " [0 0 0 0 1 1 1 0 0 0 0 0 0 0 0 0 0 0 0 0 0 0 0 0 0 0 0 0 0 0 0 0 0 0 0 0\n",
            "  0 0 0 0 0 0 0 0 0 0 0 0 0 0]\n",
            " [0 0 0 0 0 0 0 0 0 0 0 0 0 0 0 0 0 0 0 0 0 0 0 0 0 0 0 0 0 0 0 0 0 0 0 0\n",
            "  0 0 0 0 0 1 0 0 0 0 0 0 0 0]\n",
            " [0 0 0 0 0 0 0 0 0 0 0 0 1 1 0 0 0 0 0 0 0 0 0 0 0 0 0 0 0 0 0 0 0 0 0 0\n",
            "  0 0 0 0 1 0 1 0 0 0 1 1 0 0]\n",
            " [0 0 0 0 0 0 0 0 0 0 0 0 1 1 0 0 0 0 0 0 0 0 0 0 0 0 0 0 0 0 0 0 0 0 0 0\n",
            "  0 0 0 0 1 0 1 0 0 0 1 1 0 0]\n",
            " [0 0 0 0 0 0 0 0 0 0 0 0 0 0 0 0 0 0 0 0 0 0 0 0 0 0 0 0 0 1 1 1 0 0 0 0\n",
            "  0 0 0 0 0 1 0 0 0 0 0 0 0 0]\n",
            " [0 0 0 0 0 0 0 0 0 0 0 0 0 0 0 0 0 0 0 0 0 0 0 0 0 0 0 0 0 0 1 1 1 0 0 0\n",
            "  0 0 0 0 0 0 0 0 0 0 0 0 0 0]\n",
            " [0 0 0 0 0 0 0 0 0 0 0 0 1 1 0 0 0 0 0 0 0 0 0 0 0 0 0 0 0 0 0 0 0 0 0 0\n",
            "  0 0 0 0 0 0 0 0 0 0 0 0 0 0]\n",
            " [0 0 0 0 0 0 0 0 0 0 0 0 1 1 0 0 0 1 1 0 0 0 0 0 0 0 0 0 0 0 0 0 0 0 0 0\n",
            "  0 0 0 0 0 0 0 0 0 0 0 0 0 0]\n",
            " [0 0 0 0 0 0 0 0 0 0 0 0 0 0 0 0 0 1 1 0 0 0 0 0 0 0 0 0 0 0 0 0 0 0 0 0\n",
            "  0 0 0 0 0 0 0 0 0 0 0 0 0 0]\n",
            " [0 0 0 0 0 0 0 0 0 0 0 0 0 0 0 0 0 0 0 0 0 0 0 0 0 0 0 0 0 0 0 0 0 0 0 0\n",
            "  0 0 0 0 0 0 0 0 0 0 0 0 0 0]]\n"
          ]
        }
      ]
    },
    {
      "cell_type": "code",
      "metadata": {
        "colab": {
          "base_uri": "https://localhost:8080/"
        },
        "id": "0TaB7ygNhk0v",
        "outputId": "087b4b31-9d1f-4692-e382-5331db104ffa"
      },
      "source": [
        "#89\n",
        "x = np.random.randint(0,100,50)\n",
        "n = 5\n",
        "print (x[np.argpartition(-x,n)[:n]])"
      ],
      "execution_count": null,
      "outputs": [
        {
          "output_type": "stream",
          "name": "stdout",
          "text": [
            "[98 97 97 97 89]\n"
          ]
        }
      ]
    },
    {
      "cell_type": "code",
      "metadata": {
        "colab": {
          "base_uri": "https://localhost:8080/"
        },
        "id": "kM_fz5iJhk_6",
        "outputId": "ac94a400-2aa5-4f73-d5db-535511bb6802"
      },
      "source": [
        "#90\n",
        "def cartesian(arrays):\n",
        "    arrays = [np.asarray(a) for a in arrays]\n",
        "    shape = (len(x) for x in arrays)\n",
        "\n",
        "    ix = np.indices(shape, dtype=int)\n",
        "    ix = ix.reshape(len(arrays), -1).T\n",
        "\n",
        "    for n, arr in enumerate(arrays):\n",
        "        ix[:, n] = arrays[n][ix[:, n]]\n",
        "\n",
        "    return ix\n",
        "\n",
        "print (cartesian(([1, 2, 3], [4, 5], [6, 7])))"
      ],
      "execution_count": null,
      "outputs": [
        {
          "output_type": "stream",
          "name": "stdout",
          "text": [
            "[[1 4 6]\n",
            " [1 4 7]\n",
            " [1 5 6]\n",
            " [1 5 7]\n",
            " [2 4 6]\n",
            " [2 4 7]\n",
            " [2 5 6]\n",
            " [2 5 7]\n",
            " [3 4 6]\n",
            " [3 4 7]\n",
            " [3 5 6]\n",
            " [3 5 7]]\n"
          ]
        }
      ]
    },
    {
      "cell_type": "code",
      "metadata": {
        "colab": {
          "base_uri": "https://localhost:8080/"
        },
        "id": "mfYs-SMQhlL7",
        "outputId": "5619a2a9-fcf4-43ec-f9c4-2b9df01c0715"
      },
      "source": [
        "#91\n",
        "Z = np.array([(\"Hello\", 2.5, 3),\n",
        "              (\"World\", 3.6, 2)])\n",
        "R = np.core.records.fromarrays(Z.T, \n",
        "                               names='col1, col2, col3',\n",
        "                               formats = 'S8, f8, i8')\n",
        "print(R)"
      ],
      "execution_count": null,
      "outputs": [
        {
          "output_type": "stream",
          "name": "stdout",
          "text": [
            "[(b'Hello', 2.5, 3) (b'World', 3.6, 2)]\n"
          ]
        }
      ]
    },
    {
      "cell_type": "code",
      "metadata": {
        "id": "QuckKlR7hlWq"
      },
      "source": [
        "#92\n",
        "x = 99\n",
        "\n",
        "print(\"By Method 1: \",x**3)\n",
        "print(\"By Method 2: \",np.power(x,3))\n",
        "print(\"By Method 3: \",x*x*x)"
      ],
      "execution_count": null,
      "outputs": []
    },
    {
      "cell_type": "code",
      "metadata": {
        "colab": {
          "base_uri": "https://localhost:8080/"
        },
        "id": "Teg1U2lmhljE",
        "outputId": "9a673c1c-df23-4545-d540-1dac99056413"
      },
      "source": [
        "#93\n",
        "A = np.random.randint(0,5,(8,3))\n",
        "B = np.random.randint(0,5,(2,2))\n",
        "\n",
        "C = (A[..., np.newaxis, np.newaxis] == B)\n",
        "rows = np.where(C.any((3,1)).all(1))[0]\n",
        "print(rows)"
      ],
      "execution_count": null,
      "outputs": [
        {
          "output_type": "stream",
          "name": "stdout",
          "text": [
            "[4 5]\n"
          ]
        }
      ]
    },
    {
      "cell_type": "code",
      "metadata": {
        "colab": {
          "base_uri": "https://localhost:8080/"
        },
        "id": "0B61rWIqhluh",
        "outputId": "1dbde4e2-fec3-4549-e116-a0e7091704bd"
      },
      "source": [
        "#94\n",
        "Z = np.random.randint(0,5,(10,3))\n",
        "print(Z)\n",
        "\n",
        "E = np.all(Z[:,1:] == Z[:,:-1], axis=1)\n",
        "U = Z[~E]\n",
        "print(U)\n",
        "\n",
        "U = Z[Z.max(axis=1) != Z.min(axis=1),:]\n",
        "print(U)"
      ],
      "execution_count": null,
      "outputs": [
        {
          "output_type": "stream",
          "name": "stdout",
          "text": [
            "[[3 1 1]\n",
            " [0 3 3]\n",
            " [2 1 4]\n",
            " [4 1 2]\n",
            " [2 4 4]\n",
            " [1 2 1]\n",
            " [3 3 0]\n",
            " [0 2 1]\n",
            " [4 1 4]\n",
            " [0 3 2]]\n",
            "[[3 1 1]\n",
            " [0 3 3]\n",
            " [2 1 4]\n",
            " [4 1 2]\n",
            " [2 4 4]\n",
            " [1 2 1]\n",
            " [3 3 0]\n",
            " [0 2 1]\n",
            " [4 1 4]\n",
            " [0 3 2]]\n",
            "[[3 1 1]\n",
            " [0 3 3]\n",
            " [2 1 4]\n",
            " [4 1 2]\n",
            " [2 4 4]\n",
            " [1 2 1]\n",
            " [3 3 0]\n",
            " [0 2 1]\n",
            " [4 1 4]\n",
            " [0 3 2]]\n"
          ]
        }
      ]
    },
    {
      "cell_type": "code",
      "metadata": {
        "colab": {
          "base_uri": "https://localhost:8080/"
        },
        "id": "iUuRAk1bhl7R",
        "outputId": "88737c43-6dc7-43b9-aeb1-b0bfa846e015"
      },
      "source": [
        "#95\n",
        "\n",
        "x = np.array([0, 1, 2, 3, 15, 16, 32, 64, 128], dtype=np.uint8)\n",
        "print(np.unpackbits(x[:, np.newaxis], axis=1))"
      ],
      "execution_count": null,
      "outputs": [
        {
          "output_type": "stream",
          "name": "stdout",
          "text": [
            "[[0 0 0 0 0 0 0 0]\n",
            " [0 0 0 0 0 0 0 1]\n",
            " [0 0 0 0 0 0 1 0]\n",
            " [0 0 0 0 0 0 1 1]\n",
            " [0 0 0 0 1 1 1 1]\n",
            " [0 0 0 1 0 0 0 0]\n",
            " [0 0 1 0 0 0 0 0]\n",
            " [0 1 0 0 0 0 0 0]\n",
            " [1 0 0 0 0 0 0 0]]\n"
          ]
        }
      ]
    },
    {
      "cell_type": "code",
      "metadata": {
        "colab": {
          "base_uri": "https://localhost:8080/"
        },
        "id": "f_PPpd4JhmGY",
        "outputId": "1c4e541a-3225-4a18-d56b-b03c35467408"
      },
      "source": [
        "#96\n",
        "x = np.zeros(12).reshape(3,4)\n",
        "uniquex = np.unique(x, axis=0)\n",
        "print(uniquex)"
      ],
      "execution_count": null,
      "outputs": [
        {
          "output_type": "stream",
          "name": "stdout",
          "text": [
            "[[0. 0. 0. 0.]]\n"
          ]
        }
      ]
    },
    {
      "cell_type": "code",
      "metadata": {
        "colab": {
          "base_uri": "https://localhost:8080/"
        },
        "id": "4PXmg09WhmSd",
        "outputId": "c2706ac6-3bb1-4948-9a8d-c0e034ae1a68"
      },
      "source": [
        "#97\n",
        "A = np.random.uniform(0,1,10)\n",
        "B = np.random.uniform(0,1,10)\n",
        "\n",
        "np.einsum('i->', A)       \n",
        "np.einsum('i,i->i', A, B)\n",
        "np.einsum('i,i', A, B)    \n",
        "np.einsum('i,j->ij', A, B)   "
      ],
      "execution_count": null,
      "outputs": [
        {
          "output_type": "execute_result",
          "data": {
            "text/plain": [
              "array([[0.05139669, 0.14606215, 0.07026604, 0.03761974, 0.04876573,\n",
              "        0.00690973, 0.04838822, 0.1737582 , 0.06665453, 0.13926283],\n",
              "       [0.04815166, 0.13684024, 0.06582966, 0.03524455, 0.04568682,\n",
              "        0.00647347, 0.04533313, 0.16278764, 0.06244617, 0.13047021],\n",
              "       [0.20978261, 0.59617267, 0.28680044, 0.15355012, 0.19904402,\n",
              "        0.02820301, 0.19750313, 0.70921784, 0.27205957, 0.5684203 ],\n",
              "       [0.18064142, 0.51335751, 0.2469606 , 0.13222026, 0.17139454,\n",
              "        0.02428529, 0.1700677 , 0.61069943, 0.23426741, 0.48946026],\n",
              "       [0.01564075, 0.04444882, 0.02138297, 0.01144823, 0.01484012,\n",
              "        0.00210273, 0.01472523, 0.05287713, 0.02028393, 0.04237969],\n",
              "       [0.03052909, 0.08675938, 0.04173729, 0.02234573, 0.02896633,\n",
              "        0.00410431, 0.02874209, 0.10321054, 0.03959209, 0.08272066],\n",
              "       [0.26511432, 0.75341758, 0.36244616, 0.19405009, 0.25154334,\n",
              "        0.03564176, 0.24959603, 0.89627926, 0.34381728, 0.71834533],\n",
              "       [0.25201376, 0.71618766, 0.34453598, 0.18446116, 0.23911339,\n",
              "        0.03388054, 0.23726231, 0.85198986, 0.32682764, 0.68284849],\n",
              "       [0.23511265, 0.66815708, 0.32142994, 0.17209041, 0.22307744,\n",
              "        0.03160836, 0.22135049, 0.79485181, 0.30490919, 0.63705377],\n",
              "       [0.22885602, 0.6503766 , 0.31287629, 0.16751087, 0.21714107,\n",
              "        0.03076723, 0.21546008, 0.77369983, 0.29679519, 0.62010099]])"
            ]
          },
          "metadata": {},
          "execution_count": 104
        }
      ]
    },
    {
      "cell_type": "code",
      "metadata": {
        "id": "3zXhCeW0hmer"
      },
      "source": [
        "#98\n",
        "phi = np.arange(0, 10*np.pi, 0.1)\n",
        "a = 1\n",
        "x = a*phi*np.cos(phi)\n",
        "y = a*phi*np.sin(phi)\n",
        "\n",
        "dr = (np.diff(x)**2 + np.diff(y)**2)**.5 \n",
        "r = np.zeros_like(x)\n",
        "r[1:] = np.cumsum(dr)                \n",
        "r_int = np.linspace(0, r.max(), 200) \n",
        "x_int = np.interp(r_int, r, x)       \n",
        "y_int = np.interp(r_int, r, y)"
      ],
      "execution_count": null,
      "outputs": []
    },
    {
      "cell_type": "code",
      "metadata": {
        "colab": {
          "base_uri": "https://localhost:8080/"
        },
        "id": "krria5Lehmp5",
        "outputId": "108f835b-c704-4eab-9047-254149925df9"
      },
      "source": [
        "#99\n",
        "X = np.asarray([[1.0, 0.0, 3.0, 8.0],\n",
        "                [2.0, 0.0, 1.0, 1.0],\n",
        "                [1.5, 2.5, 1.0, 0.0]])\n",
        "n = 4\n",
        "M = np.logical_and.reduce(np.mod(X, 1) == 0, axis=-1)\n",
        "M &= (X.sum(axis=-1) == n)\n",
        "print(X[M])"
      ],
      "execution_count": null,
      "outputs": [
        {
          "output_type": "stream",
          "name": "stdout",
          "text": [
            "[[2. 0. 1. 1.]]\n"
          ]
        }
      ]
    },
    {
      "cell_type": "code",
      "metadata": {
        "colab": {
          "base_uri": "https://localhost:8080/"
        },
        "id": "lCjDHyluhm2S",
        "outputId": "555c0e06-48a1-43ab-8fd1-5df915a4692e"
      },
      "source": [
        "#100\n",
        "X = np.random.randn(100) \n",
        "N = 1000\n",
        "idx = np.random.randint(0, X.size, (N, X.size))\n",
        "means = X[idx].mean(axis=1)\n",
        "confint = np.percentile(means, [2.5, 97.5])\n",
        "print(confint)"
      ],
      "execution_count": null,
      "outputs": [
        {
          "output_type": "stream",
          "name": "stdout",
          "text": [
            "[-0.16831053  0.17361472]\n"
          ]
        }
      ]
    }
  ]
}